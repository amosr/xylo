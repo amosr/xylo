{
 "cells": [
  {
   "cell_type": "code",
   "execution_count": 3,
   "metadata": {},
   "outputs": [],
   "source": [
    "import xylo.tuning\n",
    "from IPython.core.display import HTML"
   ]
  },
  {
   "cell_type": "code",
   "execution_count": 4,
   "metadata": {},
   "outputs": [],
   "source": [
    "# lengths for 32-key marching band\n",
    "tuning = xylo.tuning.yamaha_YX500R\n"
   ]
  },
  {
   "cell_type": "code",
   "execution_count": 5,
   "metadata": {},
   "outputs": [],
   "source": [
    "keys = range(45, 89)"
   ]
  },
  {
   "cell_type": "code",
   "execution_count": 14,
   "metadata": {},
   "outputs": [
    {
     "data": {
      "text/html": [
       "<table><tr><th>index</th><th>note</th><th>length</th></tr><tr><td>45</td><td>F4</td><td>380.0</td><td>350.8</td></tr><tr><td>46</td><td>F#4</td><td>375.0</td><td>371.7</td></tr><tr><td>47</td><td>G4</td><td>370.0</td><td>393.8</td></tr><tr><td>48</td><td>G#4</td><td>365.0</td><td>417.2</td></tr><tr><td>49</td><td>A4</td><td>360.0</td><td>442.0</td></tr><tr><td>50</td><td>A#4</td><td>355.0</td><td>468.3</td></tr><tr><td>51</td><td>B4</td><td>350.0</td><td>496.1</td></tr><tr><td>52</td><td>C5</td><td>340.0</td><td>525.6</td></tr><tr><td>53</td><td>C#5</td><td>335.0</td><td>556.9</td></tr><tr><td>54</td><td>D5</td><td>330.0</td><td>590.0</td></tr><tr><td>55</td><td>D#5</td><td>325.0</td><td>625.1</td></tr><tr><td>56</td><td>E5</td><td>320.0</td><td>662.3</td></tr><tr><td>57</td><td>F5</td><td>310.0</td><td>701.6</td></tr><tr><td>58</td><td>F#5</td><td>305.0</td><td>743.4</td></tr><tr><td>59</td><td>G5</td><td>300.0</td><td>787.6</td></tr><tr><td>60</td><td>G#5</td><td>295.0</td><td>834.4</td></tr><tr><td>61</td><td>A5</td><td>290.0</td><td>884.0</td></tr><tr><td>62</td><td>A#5</td><td>285.0</td><td>936.6</td></tr><tr><td>63</td><td>B5</td><td>280.0</td><td>992.3</td></tr><tr><td>64</td><td>C6</td><td>270.0</td><td>1051.3</td></tr><tr><td>65</td><td>C#6</td><td>265.0</td><td>1113.8</td></tr><tr><td>66</td><td>D6</td><td>260.0</td><td>1180.0</td></tr><tr><td>67</td><td>D#6</td><td>255.0</td><td>1250.2</td></tr><tr><td>68</td><td>E6</td><td>250.0</td><td>1324.5</td></tr><tr><td>69</td><td>F6</td><td>240.0</td><td>1403.3</td></tr><tr><td>70</td><td>F#6</td><td>235.0</td><td>1486.7</td></tr><tr><td>71</td><td>G6</td><td>230.0</td><td>1575.1</td></tr><tr><td>72</td><td>G#6</td><td>225.0</td><td>1668.8</td></tr><tr><td>73</td><td>A6</td><td>220.0</td><td>1768.0</td></tr><tr><td>74</td><td>A#6</td><td>215.0</td><td>1873.1</td></tr><tr><td>75</td><td>B6</td><td>210.0</td><td>1984.5</td></tr><tr><td>76</td><td>C7</td><td>200.0</td><td>2102.5</td></tr><tr><td>77</td><td>C#7</td><td>195.0</td><td>2227.5</td></tr><tr><td>78</td><td>D7</td><td>190.0</td><td>2360.0</td></tr><tr><td>79</td><td>D#7</td><td>185.0</td><td>2500.3</td></tr><tr><td>80</td><td>E7</td><td>180.0</td><td>2649.0</td></tr><tr><td>81</td><td>F7</td><td>170.0</td><td>2806.5</td></tr><tr><td>82</td><td>F#7</td><td>165.0</td><td>2973.4</td></tr><tr><td>83</td><td>G7</td><td>160.0</td><td>3150.2</td></tr><tr><td>84</td><td>G#7</td><td>155.0</td><td>3337.5</td></tr><tr><td>85</td><td>A7</td><td>150.0</td><td>3536.0</td></tr><tr><td>86</td><td>A#7</td><td>145.0</td><td>3746.3</td></tr><tr><td>87</td><td>B7</td><td>140.0</td><td>3969.0</td></tr><tr><td>88</td><td>C8</td><td>130.0</td><td>4205.0</td></tr></table>"
      ],
      "text/plain": [
       "<IPython.core.display.HTML object>"
      ]
     },
     "execution_count": 14,
     "metadata": {},
     "output_type": "execute_result"
    }
   ],
   "source": [
    "table = \"<table><tr><th>index</th><th>note</th><th>length</th></tr>\"\n",
    "for k in keys:\n",
    "  name = tuning.note_to_name(k)\n",
    "  length = tuning.note_to_length(k) * 1000\n",
    "  freq = tuning.note_to_freq(k)\n",
    "  table += f\"<tr><td>{k}</td><td>{name}</td><td>{length}</td><td>{freq:.1f}</td></tr>\"\n",
    "\n",
    "table += \"</table>\"\n",
    "HTML(table)"
   ]
  },
  {
   "cell_type": "code",
   "execution_count": null,
   "metadata": {},
   "outputs": [],
   "source": []
  }
 ],
 "metadata": {
  "kernelspec": {
   "display_name": ".venv",
   "language": "python",
   "name": "python3"
  },
  "language_info": {
   "codemirror_mode": {
    "name": "ipython",
    "version": 3
   },
   "file_extension": ".py",
   "mimetype": "text/x-python",
   "name": "python",
   "nbconvert_exporter": "python",
   "pygments_lexer": "ipython3",
   "version": "3.12.3"
  }
 },
 "nbformat": 4,
 "nbformat_minor": 2
}
