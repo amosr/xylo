{
 "cells": [
  {
   "cell_type": "code",
   "execution_count": 1,
   "metadata": {},
   "outputs": [],
   "source": [
    "%load_ext autoreload\n",
    "%autoreload 2"
   ]
  },
  {
   "cell_type": "code",
   "execution_count": 4,
   "metadata": {},
   "outputs": [],
   "source": [
    "import os\n",
    "import sys\n",
    "sys.path.insert(0, os.path.abspath(os.path.join(os.getcwd(), '..')))"
   ]
  },
  {
   "cell_type": "code",
   "execution_count": 5,
   "metadata": {},
   "outputs": [],
   "source": [
    "import jax\n",
    "import jax.numpy as jnp\n",
    "import numpy as np\n",
    "import matplotlib.pyplot as plt\n",
    "import evosax\n",
    "\n",
    "import json\n",
    "import math\n",
    "import drawsvg"
   ]
  },
  {
   "cell_type": "code",
   "execution_count": 6,
   "metadata": {},
   "outputs": [],
   "source": [
    "import xylo\n",
    "import xylo.types as t\n",
    "import xylo.woods\n",
    "import xylo.cut\n",
    "\n",
    "import xylo.opt\n",
    "\n",
    "import xylo.tuning\n",
    "import xylo.database\n",
    "\n",
    "import xylo.just\n",
    "\n",
    "import xylo.resonators as r"
   ]
  },
  {
   "cell_type": "code",
   "execution_count": 7,
   "metadata": {},
   "outputs": [],
   "source": [
    "layout = xylo.just.bass_partch"
   ]
  },
  {
   "cell_type": "code",
   "execution_count": 13,
   "metadata": {},
   "outputs": [
    {
     "data": {
      "text/plain": [
       "Config(temp=20, correction=0.61, radius=0.045)"
      ]
     },
     "execution_count": 13,
     "metadata": {},
     "output_type": "execute_result"
    }
   ],
   "source": [
    "c = r.Config(radius = 0.090/2)\n",
    "c"
   ]
  },
  {
   "cell_type": "code",
   "execution_count": 14,
   "metadata": {},
   "outputs": [],
   "source": [
    "slack = 0.05\n",
    "tube_lengths = { k: r.length_of_freq(f, c) + slack for k,f in layout.get_freqs().items() }"
   ]
  },
  {
   "cell_type": "code",
   "execution_count": 15,
   "metadata": {},
   "outputs": [
    {
     "data": {
      "text/plain": [
       "8.304666333352966"
      ]
     },
     "execution_count": 15,
     "metadata": {},
     "output_type": "execute_result"
    }
   ],
   "source": [
    "sum([v for v in tube_lengths.values() if v > 0.00])"
   ]
  },
  {
   "cell_type": "code",
   "execution_count": 16,
   "metadata": {},
   "outputs": [
    {
     "data": {
      "text/plain": [
       "{'A#3': 0.39778464578997946,\n",
       " 'A3': 0.41168222526368253,\n",
       " 'F#3': 0.5001213673690649,\n",
       " 'F3': 0.5150454725993482,\n",
       " 'D#3': 0.5697671917770535,\n",
       " 'C#3': 0.6244889109547588,\n",
       " 'A2': 0.7886540684878749,\n",
       " 'G2': 0.8980975068432856,\n",
       " 'E2': 1.0732070082119427,\n",
       " 'D2': 1.1899466757910475,\n",
       " 'C2': 1.3358712602649285}"
      ]
     },
     "execution_count": 16,
     "metadata": {},
     "output_type": "execute_result"
    }
   ],
   "source": [
    "tube_lengths"
   ]
  },
  {
   "cell_type": "code",
   "execution_count": 12,
   "metadata": {},
   "outputs": [
    {
     "name": "stdout",
     "output_type": "stream",
     "text": [
      "A#3: 0.3886346457899794m (228.66666666666669Hz)\n",
      "A3: 0.4025322252636825m (220.5Hz)\n",
      "F#3: 0.4909713673690648m (179.66666666666666Hz)\n",
      "F3: 0.5058954725993482m (174.2222222222222Hz)\n",
      "D#3: 0.5606171917770535m (156.8Hz)\n",
      "C#3: 0.6153389109547588m (142.54545454545456Hz)\n",
      "A2: 0.7795040684878749m (112.0Hz)\n",
      "G2: 0.8889475068432856m (98.0Hz)\n",
      "E2: 1.0640570082119427m (81.66666666666667Hz)\n",
      "D2: 1.1807966757910475m (73.5Hz)\n",
      "C2: 1.3267212602649285m (65.33333333333333Hz)\n"
     ]
    }
   ],
   "source": [
    "for k, v in tube_lengths.items():\n",
    "  if v >= 0.08:\n",
    "    print(f\"{k}: {v}m ({layout.get_freqs()[k]}Hz)\")"
   ]
  },
  {
   "cell_type": "code",
   "execution_count": 10,
   "metadata": {},
   "outputs": [
    {
     "name": "stdout",
     "output_type": "stream",
     "text": [
      "A1 0.07576761394742207\n",
      "B1 0.08461152815796032\n",
      "B2 0.08571701743427759\n",
      "C1 0.09850910763166326\n",
      "C2 0.09677191019745039\n",
      "C3 0.09566642092113312\n",
      "D1 0.10893229223694047\n",
      "D2 0.11414388453957908\n",
      "D3 0.10893229223694047\n",
      "D4 0.10561582440798863\n",
      "E1 0.12352475068432857\n",
      "E2 0.1271728652961756\n",
      "E3 0.12977866144749486\n",
      "E4 0.12109267427643054\n",
      "E5 0.12551463138169966\n",
      "F1 0.1454134383554107\n",
      "F2 0.1454134383554107\n",
      "F3 0.1454134383554107\n",
      "F4 0.1454134383554107\n",
      "F5 0.1454134383554107\n",
      "F6 0.1454134383554107\n",
      "G1 0.17277429794426336\n",
      "G2 0.16730212602649283\n",
      "G3 0.1636540114146458\n",
      "G4 0.17668299217124234\n",
      "G5 0.16973420243439083\n",
      "H1 0.20013515753311606\n",
      "H2 0.189190813697575\n",
      "H3 0.20013515753311606\n",
      "H4 0.20795254598707397\n",
      "I1 0.2274960171219687\n",
      "I2 0.23296818903973926\n",
      "I3 0.2366163036515863\n",
      "J1 0.2822177362996741\n",
      "J2 0.27674556438190356\n",
      "K1 0.33693945547737936\n"
     ]
    },
    {
     "data": {
      "image/svg+xml": [
       "<?xml version=\"1.0\" encoding=\"UTF-8\"?>\n",
       "<svg xmlns=\"http://www.w3.org/2000/svg\" xmlns:xlink=\"http://www.w3.org/1999/xlink\"\n",
       "     width=\"297mm\" height=\"210mm\" viewBox=\"0 0 297mm 210mm\">\n",
       "<defs>\n",
       "</defs>\n",
       "<rect x=\"0\" y=\"0\" width=\"297mm\" height=\"210mm\" stroke=\"green\" stroke-width=\"2\" fill=\"none\" />\n",
       "<text x=\"20mm\" y=\"8mm\" font-size=\"5mm\">dia-resonator-lengths</text>\n",
       "<g>\n",
       "<text x=\"76.06761394742206mm\" y=\"13mm\" font-size=\"2mm\">A1</text>\n",
       "<circle cx=\"77.06761394742206mm\" cy=\"11mm\" r=\"0.5mm\" />\n",
       "<rect x=\"1.3mm\" y=\"10mm\" width=\"77.06761394742206mm\" height=\"0.5mm\" stroke=\"red\" stroke-width=\"1\" />\n",
       "<text x=\"84.91152815796032mm\" y=\"13mm\" font-size=\"2mm\">B1</text>\n",
       "<circle cx=\"85.91152815796032mm\" cy=\"11mm\" r=\"0.5mm\" />\n",
       "<rect x=\"1.3mm\" y=\"10mm\" width=\"85.91152815796032mm\" height=\"0.5mm\" stroke=\"red\" stroke-width=\"1\" />\n",
       "<text x=\"86.01701743427759mm\" y=\"13mm\" font-size=\"2mm\">B2</text>\n",
       "<circle cx=\"87.01701743427759mm\" cy=\"11mm\" r=\"0.5mm\" />\n",
       "<rect x=\"1.3mm\" y=\"10mm\" width=\"87.01701743427759mm\" height=\"0.5mm\" stroke=\"red\" stroke-width=\"1\" />\n",
       "<text x=\"98.80910763166325mm\" y=\"13mm\" font-size=\"2mm\">C1</text>\n",
       "<circle cx=\"99.80910763166325mm\" cy=\"11mm\" r=\"0.5mm\" />\n",
       "<rect x=\"1.3mm\" y=\"10mm\" width=\"99.80910763166325mm\" height=\"0.5mm\" stroke=\"red\" stroke-width=\"1\" />\n",
       "<text x=\"97.07191019745039mm\" y=\"13mm\" font-size=\"2mm\">C2</text>\n",
       "<circle cx=\"98.07191019745039mm\" cy=\"11mm\" r=\"0.5mm\" />\n",
       "<rect x=\"1.3mm\" y=\"10mm\" width=\"98.07191019745039mm\" height=\"0.5mm\" stroke=\"red\" stroke-width=\"1\" />\n",
       "<text x=\"95.9664209211331mm\" y=\"13mm\" font-size=\"2mm\">C3</text>\n",
       "<circle cx=\"96.9664209211331mm\" cy=\"11mm\" r=\"0.5mm\" />\n",
       "<rect x=\"1.3mm\" y=\"10mm\" width=\"96.9664209211331mm\" height=\"0.5mm\" stroke=\"red\" stroke-width=\"1\" />\n",
       "<text x=\"109.23229223694047mm\" y=\"13mm\" font-size=\"2mm\">D1</text>\n",
       "<circle cx=\"110.23229223694047mm\" cy=\"11mm\" r=\"0.5mm\" />\n",
       "<rect x=\"1.3mm\" y=\"10mm\" width=\"110.23229223694047mm\" height=\"0.5mm\" stroke=\"red\" stroke-width=\"1\" />\n",
       "<text x=\"114.44388453957907mm\" y=\"13mm\" font-size=\"2mm\">D2</text>\n",
       "<circle cx=\"115.44388453957907mm\" cy=\"11mm\" r=\"0.5mm\" />\n",
       "<rect x=\"1.3mm\" y=\"10mm\" width=\"115.44388453957907mm\" height=\"0.5mm\" stroke=\"red\" stroke-width=\"1\" />\n",
       "<text x=\"109.23229223694047mm\" y=\"13mm\" font-size=\"2mm\">D3</text>\n",
       "<circle cx=\"110.23229223694047mm\" cy=\"11mm\" r=\"0.5mm\" />\n",
       "<rect x=\"1.3mm\" y=\"10mm\" width=\"110.23229223694047mm\" height=\"0.5mm\" stroke=\"red\" stroke-width=\"1\" />\n",
       "<text x=\"105.91582440798862mm\" y=\"13mm\" font-size=\"2mm\">D4</text>\n",
       "<circle cx=\"106.91582440798862mm\" cy=\"11mm\" r=\"0.5mm\" />\n",
       "<rect x=\"1.3mm\" y=\"10mm\" width=\"106.91582440798862mm\" height=\"0.5mm\" stroke=\"red\" stroke-width=\"1\" />\n",
       "<text x=\"123.82475068432856mm\" y=\"13mm\" font-size=\"2mm\">E1</text>\n",
       "<circle cx=\"124.82475068432856mm\" cy=\"11mm\" r=\"0.5mm\" />\n",
       "<rect x=\"1.3mm\" y=\"10mm\" width=\"124.82475068432856mm\" height=\"0.5mm\" stroke=\"red\" stroke-width=\"1\" />\n",
       "<text x=\"127.4728652961756mm\" y=\"13mm\" font-size=\"2mm\">E2</text>\n",
       "<circle cx=\"128.4728652961756mm\" cy=\"11mm\" r=\"0.5mm\" />\n",
       "<rect x=\"1.3mm\" y=\"10mm\" width=\"128.4728652961756mm\" height=\"0.5mm\" stroke=\"red\" stroke-width=\"1\" />\n",
       "<text x=\"130.07866144749488mm\" y=\"13mm\" font-size=\"2mm\">E3</text>\n",
       "<circle cx=\"131.07866144749488mm\" cy=\"11mm\" r=\"0.5mm\" />\n",
       "<rect x=\"1.3mm\" y=\"10mm\" width=\"131.07866144749488mm\" height=\"0.5mm\" stroke=\"red\" stroke-width=\"1\" />\n",
       "<text x=\"121.39267427643054mm\" y=\"13mm\" font-size=\"2mm\">E4</text>\n",
       "<circle cx=\"122.39267427643054mm\" cy=\"11mm\" r=\"0.5mm\" />\n",
       "<rect x=\"1.3mm\" y=\"10mm\" width=\"122.39267427643054mm\" height=\"0.5mm\" stroke=\"red\" stroke-width=\"1\" />\n",
       "<text x=\"125.81463138169966mm\" y=\"13mm\" font-size=\"2mm\">E5</text>\n",
       "<circle cx=\"126.81463138169966mm\" cy=\"11mm\" r=\"0.5mm\" />\n",
       "<rect x=\"1.3mm\" y=\"10mm\" width=\"126.81463138169966mm\" height=\"0.5mm\" stroke=\"red\" stroke-width=\"1\" />\n",
       "<text x=\"145.71343835541072mm\" y=\"13mm\" font-size=\"2mm\">F1</text>\n",
       "<circle cx=\"146.71343835541072mm\" cy=\"11mm\" r=\"0.5mm\" />\n",
       "<rect x=\"1.3mm\" y=\"10mm\" width=\"146.71343835541072mm\" height=\"0.5mm\" stroke=\"red\" stroke-width=\"1\" />\n",
       "<text x=\"145.71343835541072mm\" y=\"13mm\" font-size=\"2mm\">F2</text>\n",
       "<circle cx=\"146.71343835541072mm\" cy=\"11mm\" r=\"0.5mm\" />\n",
       "<rect x=\"1.3mm\" y=\"10mm\" width=\"146.71343835541072mm\" height=\"0.5mm\" stroke=\"red\" stroke-width=\"1\" />\n",
       "<text x=\"145.71343835541072mm\" y=\"13mm\" font-size=\"2mm\">F3</text>\n",
       "<circle cx=\"146.71343835541072mm\" cy=\"11mm\" r=\"0.5mm\" />\n",
       "<rect x=\"1.3mm\" y=\"10mm\" width=\"146.71343835541072mm\" height=\"0.5mm\" stroke=\"red\" stroke-width=\"1\" />\n",
       "<text x=\"145.71343835541072mm\" y=\"13mm\" font-size=\"2mm\">F4</text>\n",
       "<circle cx=\"146.71343835541072mm\" cy=\"11mm\" r=\"0.5mm\" />\n",
       "<rect x=\"1.3mm\" y=\"10mm\" width=\"146.71343835541072mm\" height=\"0.5mm\" stroke=\"red\" stroke-width=\"1\" />\n",
       "<text x=\"145.71343835541072mm\" y=\"13mm\" font-size=\"2mm\">F5</text>\n",
       "<circle cx=\"146.71343835541072mm\" cy=\"11mm\" r=\"0.5mm\" />\n",
       "<rect x=\"1.3mm\" y=\"10mm\" width=\"146.71343835541072mm\" height=\"0.5mm\" stroke=\"red\" stroke-width=\"1\" />\n",
       "<text x=\"145.71343835541072mm\" y=\"13mm\" font-size=\"2mm\">F6</text>\n",
       "<circle cx=\"146.71343835541072mm\" cy=\"11mm\" r=\"0.5mm\" />\n",
       "<rect x=\"1.3mm\" y=\"10mm\" width=\"146.71343835541072mm\" height=\"0.5mm\" stroke=\"red\" stroke-width=\"1\" />\n",
       "<text x=\"173.07429794426338mm\" y=\"13mm\" font-size=\"2mm\">G1</text>\n",
       "<circle cx=\"174.07429794426338mm\" cy=\"11mm\" r=\"0.5mm\" />\n",
       "<rect x=\"1.3mm\" y=\"10mm\" width=\"174.07429794426338mm\" height=\"0.5mm\" stroke=\"red\" stroke-width=\"1\" />\n",
       "<text x=\"167.60212602649284mm\" y=\"13mm\" font-size=\"2mm\">G2</text>\n",
       "<circle cx=\"168.60212602649284mm\" cy=\"11mm\" r=\"0.5mm\" />\n",
       "<rect x=\"1.3mm\" y=\"10mm\" width=\"168.60212602649284mm\" height=\"0.5mm\" stroke=\"red\" stroke-width=\"1\" />\n",
       "<text x=\"163.9540114146458mm\" y=\"13mm\" font-size=\"2mm\">G3</text>\n",
       "<circle cx=\"164.9540114146458mm\" cy=\"11mm\" r=\"0.5mm\" />\n",
       "<rect x=\"1.3mm\" y=\"10mm\" width=\"164.9540114146458mm\" height=\"0.5mm\" stroke=\"red\" stroke-width=\"1\" />\n",
       "<text x=\"176.98299217124236mm\" y=\"13mm\" font-size=\"2mm\">G4</text>\n",
       "<circle cx=\"177.98299217124236mm\" cy=\"11mm\" r=\"0.5mm\" />\n",
       "<rect x=\"1.3mm\" y=\"10mm\" width=\"177.98299217124236mm\" height=\"0.5mm\" stroke=\"red\" stroke-width=\"1\" />\n",
       "<text x=\"170.03420243439083mm\" y=\"13mm\" font-size=\"2mm\">G5</text>\n",
       "<circle cx=\"171.03420243439083mm\" cy=\"11mm\" r=\"0.5mm\" />\n",
       "<rect x=\"1.3mm\" y=\"10mm\" width=\"171.03420243439083mm\" height=\"0.5mm\" stroke=\"red\" stroke-width=\"1\" />\n",
       "<text x=\"200.43515753311607mm\" y=\"13mm\" font-size=\"2mm\">H1</text>\n",
       "<circle cx=\"201.43515753311607mm\" cy=\"11mm\" r=\"0.5mm\" />\n",
       "<rect x=\"1.3mm\" y=\"10mm\" width=\"201.43515753311607mm\" height=\"0.5mm\" stroke=\"red\" stroke-width=\"1\" />\n",
       "<text x=\"189.49081369757502mm\" y=\"13mm\" font-size=\"2mm\">H2</text>\n",
       "<circle cx=\"190.49081369757502mm\" cy=\"11mm\" r=\"0.5mm\" />\n",
       "<rect x=\"1.3mm\" y=\"10mm\" width=\"190.49081369757502mm\" height=\"0.5mm\" stroke=\"red\" stroke-width=\"1\" />\n",
       "<text x=\"200.43515753311607mm\" y=\"13mm\" font-size=\"2mm\">H3</text>\n",
       "<circle cx=\"201.43515753311607mm\" cy=\"11mm\" r=\"0.5mm\" />\n",
       "<rect x=\"1.3mm\" y=\"10mm\" width=\"201.43515753311607mm\" height=\"0.5mm\" stroke=\"red\" stroke-width=\"1\" />\n",
       "<text x=\"208.25254598707397mm\" y=\"13mm\" font-size=\"2mm\">H4</text>\n",
       "<circle cx=\"209.25254598707397mm\" cy=\"11mm\" r=\"0.5mm\" />\n",
       "<rect x=\"1.3mm\" y=\"10mm\" width=\"209.25254598707397mm\" height=\"0.5mm\" stroke=\"red\" stroke-width=\"1\" />\n",
       "<text x=\"227.79601712196873mm\" y=\"13mm\" font-size=\"2mm\">I1</text>\n",
       "<circle cx=\"228.79601712196873mm\" cy=\"11mm\" r=\"0.5mm\" />\n",
       "<rect x=\"1.3mm\" y=\"10mm\" width=\"228.79601712196873mm\" height=\"0.5mm\" stroke=\"red\" stroke-width=\"1\" />\n",
       "<text x=\"233.26818903973927mm\" y=\"13mm\" font-size=\"2mm\">I2</text>\n",
       "<circle cx=\"234.26818903973927mm\" cy=\"11mm\" r=\"0.5mm\" />\n",
       "<rect x=\"1.3mm\" y=\"10mm\" width=\"234.26818903973927mm\" height=\"0.5mm\" stroke=\"red\" stroke-width=\"1\" />\n",
       "<text x=\"236.91630365158633mm\" y=\"13mm\" font-size=\"2mm\">I3</text>\n",
       "<circle cx=\"237.91630365158633mm\" cy=\"11mm\" r=\"0.5mm\" />\n",
       "<rect x=\"1.3mm\" y=\"10mm\" width=\"237.91630365158633mm\" height=\"0.5mm\" stroke=\"red\" stroke-width=\"1\" />\n",
       "<text x=\"282.51773629967414mm\" y=\"13mm\" font-size=\"2mm\">J1</text>\n",
       "<circle cx=\"283.51773629967414mm\" cy=\"11mm\" r=\"0.5mm\" />\n",
       "<rect x=\"1.3mm\" y=\"10mm\" width=\"283.51773629967414mm\" height=\"0.5mm\" stroke=\"red\" stroke-width=\"1\" />\n",
       "<text x=\"277.0455643819036mm\" y=\"13mm\" font-size=\"2mm\">J2</text>\n",
       "<circle cx=\"278.0455643819036mm\" cy=\"11mm\" r=\"0.5mm\" />\n",
       "<rect x=\"1.3mm\" y=\"10mm\" width=\"278.0455643819036mm\" height=\"0.5mm\" stroke=\"red\" stroke-width=\"1\" />\n",
       "<text x=\"337.23945547737935mm\" y=\"13mm\" font-size=\"2mm\">K1</text>\n",
       "<circle cx=\"338.23945547737935mm\" cy=\"11mm\" r=\"0.5mm\" />\n",
       "<rect x=\"1.3mm\" y=\"10mm\" width=\"338.23945547737935mm\" height=\"0.5mm\" stroke=\"red\" stroke-width=\"1\" />\n",
       "<circle cx=\"1.3mm\" cy=\"11mm\" r=\"1mm\" />\n",
       "</g>\n",
       "</svg>"
      ],
      "text/plain": [
       "<drawsvg.drawing.Drawing at 0x107bbdfd0>"
      ]
     },
     "execution_count": 10,
     "metadata": {},
     "output_type": "execute_result"
    }
   ],
   "source": [
    "def mkres(lens, filename, offsetx = 1.3):\n",
    "  d = drawsvg.Drawing('297mm', '210mm')\n",
    "  d.append(drawsvg.Rectangle(0, 0, '297mm', '210mm', stroke='green', stroke_width=2, fill='none'))\n",
    "  d.append(drawsvg.Text(filename, '5mm', '20mm', '8mm'))\n",
    "  grp = drawsvg.Group()\n",
    "  y = 10\n",
    "  for k,v in lens.items():\n",
    "    mm = v * 1000 + offsetx\n",
    "    print(k,v)\n",
    "    grp.append(drawsvg.Text(f'{k}', '2mm', f'{mm-1}mm', f'{y + 3}mm'))\n",
    "    grp.append(drawsvg.Circle(f'{mm}mm', f'{y + 1}mm', '0.5mm'))\n",
    "    grp.append(drawsvg.Rectangle(f'{offsetx}mm', f'{y}mm', f'{mm}mm', f'0.5mm', stroke='red', stroke_width=1))\n",
    "  grp.append(drawsvg.Circle(f'{offsetx}mm', f'{y+1}mm', '1mm'))\n",
    "\n",
    "  d.append(grp)\n",
    "\n",
    "  d.save_html(f'data/layout/{filename}.html')\n",
    "  return d\n",
    "\n",
    "mkres(tube_lengths, 'dia-resonator-lengths')"
   ]
  },
  {
   "cell_type": "code",
   "execution_count": null,
   "metadata": {},
   "outputs": [],
   "source": []
  }
 ],
 "metadata": {
  "kernelspec": {
   "display_name": ".venv",
   "language": "python",
   "name": "python3"
  },
  "language_info": {
   "codemirror_mode": {
    "name": "ipython",
    "version": 3
   },
   "file_extension": ".py",
   "mimetype": "text/x-python",
   "name": "python",
   "nbconvert_exporter": "python",
   "pygments_lexer": "ipython3",
   "version": "3.12.3"
  }
 },
 "nbformat": 4,
 "nbformat_minor": 2
}
