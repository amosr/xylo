{
 "cells": [
  {
   "cell_type": "code",
   "execution_count": 1,
   "metadata": {},
   "outputs": [],
   "source": [
    "%load_ext autoreload\n",
    "%autoreload 2"
   ]
  },
  {
   "cell_type": "code",
   "execution_count": 2,
   "metadata": {},
   "outputs": [],
   "source": [
    "import jax\n",
    "import jax.numpy as jnp\n",
    "import numpy as np\n",
    "import matplotlib.pyplot as plt\n",
    "import evosax\n",
    "\n",
    "import json\n",
    "import math\n",
    "import drawsvg"
   ]
  },
  {
   "cell_type": "code",
   "execution_count": 3,
   "metadata": {},
   "outputs": [],
   "source": [
    "import xylo\n",
    "import xylo.types as t\n",
    "import xylo.woods\n",
    "import xylo.cut\n",
    "\n",
    "import xylo.opt\n",
    "\n",
    "import xylo.tuning\n",
    "import xylo.database"
   ]
  },
  {
   "cell_type": "code",
   "execution_count": 4,
   "metadata": {},
   "outputs": [],
   "source": [
    "tuning = xylo.tuning.yamaha_YX500R"
   ]
  },
  {
   "cell_type": "code",
   "execution_count": 5,
   "metadata": {},
   "outputs": [
    {
     "data": {
      "text/plain": [
       "346.1292013525034"
      ]
     },
     "execution_count": 5,
     "metadata": {},
     "output_type": "execute_result"
    }
   ],
   "source": [
    "def speed_of_sound(temp):\n",
    "  return 331.3 * math.sqrt(1 + temp / 273.15)\n",
    "  # return 331.3 * math.sqrt((1 + (temp + 273.15)) / 273.15)\n",
    "\n",
    "speed_of_sound(25)"
   ]
  },
  {
   "cell_type": "code",
   "execution_count": 6,
   "metadata": {},
   "outputs": [],
   "source": [
    "correction = 0.61\n",
    "radius = 0.018 # m"
   ]
  },
  {
   "cell_type": "code",
   "execution_count": 8,
   "metadata": {},
   "outputs": [],
   "source": [
    "def freq_of_length(length, temp = 20):\n",
    "  return speed_of_sound(temp) / (4 * (length + correction * radius))\n",
    "\n",
    "# f = c / [ 4(L+0.61r)]\n",
    "# f = c * [1 / 4(L+0.61r)]\n",
    "# f / [1 / 4(L+0.61r)] = c\n",
    "# f * 4(L+0.61r) = c\n",
    "# 4(L+0.61r) = c / f\n",
    "# L + 0.61r = c / f / 4\n",
    "# L = (c / f / 4) - 0.61r\n",
    "def length_of_freq(freq, temp = 20):\n",
    "  return (speed_of_sound(temp) * (1/freq) * 1/4) - 0.61 * radius\n"
   ]
  },
  {
   "cell_type": "code",
   "execution_count": 9,
   "metadata": {},
   "outputs": [
    {
     "name": "stdout",
     "output_type": "stream",
     "text": [
      "475.419191437511\n",
      "275.9137425900122\n"
     ]
    }
   ],
   "source": [
    "print(freq_of_length(0.1695))\n",
    "print(freq_of_length(0.300))"
   ]
  },
  {
   "cell_type": "code",
   "execution_count": null,
   "metadata": {},
   "outputs": [
    {
     "name": "stdout",
     "output_type": "stream",
     "text": [
      "0.18137958633366022\n",
      "0.18304132751998822\n",
      "0.1846889566864918\n",
      "0.31084284582977517\n",
      "0.31362298425598806\n",
      "0.3163795128873014\n",
      "0.28973288017512433\n"
     ]
    }
   ],
   "source": [
    "print(length_of_freq(442.23826714, temp = 15))\n",
    "print(length_of_freq(442.23826714, temp = 20))\n",
    "print(length_of_freq(442.23826714, temp = 25))\n",
    "\n",
    "print(length_of_freq(264.33415536, temp = 15))\n",
    "print(length_of_freq(264.33415536, temp = 20))\n",
    "print(length_of_freq(264.33415536, temp = 25))\n"
   ]
  },
  {
   "cell_type": "code",
   "execution_count": 25,
   "metadata": {},
   "outputs": [],
   "source": [
    "slack = 0.05\n",
    "tube_lengths = { k: length_of_freq(tuning.note_to_freq(k)) + slack for k in tuning.lengths.keys() }"
   ]
  },
  {
   "cell_type": "code",
   "execution_count": 26,
   "metadata": {},
   "outputs": [
    {
     "data": {
      "text/plain": [
       "4.304979930457928"
      ]
     },
     "execution_count": 26,
     "metadata": {},
     "output_type": "execute_result"
    }
   ],
   "source": [
    "sum([v for v in tube_lengths.values() if v > 0.10])"
   ]
  },
  {
   "cell_type": "code",
   "execution_count": 27,
   "metadata": {},
   "outputs": [
    {
     "data": {
      "text/plain": [
       "{45: 0.283603330175053,\n",
       " 46: 0.2698759226623779,\n",
       " 47: 0.25691897533145014,\n",
       " 48: 0.24468924557501776,\n",
       " 49: 0.23314591780688237,\n",
       " 50: 0.22225046724367398,\n",
       " 51: 0.2119665313319683,\n",
       " 52: 0.2022597883916446,\n",
       " 53: 0.19309784307046862,\n",
       " 54: 0.18445011822761642,\n",
       " 55: 0.17628775288530885,\n",
       " 56: 0.16858350590798143,\n",
       " 57: 0.1613116650875265,\n",
       " 58: 0.15444796133118893,\n",
       " 59: 0.14796948766572507,\n",
       " 60: 0.14185462278750888,\n",
       " 61: 0.1360829589034412,\n",
       " 62: 0.130635233621837,\n",
       " 63: 0.12549326566598415,\n",
       " 64: 0.12063989419582229,\n",
       " 65: 0.1160589215352343,\n",
       " 66: 0.11173505911380821,\n",
       " 67: 0.10765387644265442,\n",
       " 68: 0.10380175295399072,\n",
       " 69: 0.10016583254376325,\n",
       " 70: 0.09673398066559448,\n",
       " 71: 0.09349474383286255,\n",
       " 72: 0.09043731139375444,\n",
       " 73: 0.08755147945172059,\n",
       " 74: 0.0848276168109185,\n",
       " 75: 0.0822566328329921,\n",
       " 76: 0.07982994709791115,\n",
       " 77: 0.07753946076761715,\n",
       " 78: 0.0753775295569041,\n",
       " 79: 0.07333693822132722,\n",
       " 80: 0.07141087647699536,\n",
       " 81: 0.06959291627188163,\n",
       " 82: 0.06787699033279723,\n",
       " 83: 0.06625737191643127,\n",
       " 84: 0.06472865569687723,\n",
       " 85: 0.0632857397258603,\n",
       " 86: 0.061923808405459246,\n",
       " 87: 0.06063831641649605,\n",
       " 88: 0.059424973548955574}"
      ]
     },
     "execution_count": 27,
     "metadata": {},
     "output_type": "execute_result"
    }
   ],
   "source": [
    "tube_lengths"
   ]
  },
  {
   "cell_type": "code",
   "execution_count": 28,
   "metadata": {},
   "outputs": [
    {
     "name": "stdout",
     "output_type": "stream",
     "text": [
      "45: 0.283603330175053m (350.8156324849721Hz)\n",
      "46: 0.2698759226623779m (371.6762155421418Hz)\n",
      "47: 0.25691897533145014m (393.77723341802994Hz)\n",
      "48: 0.24468924557501776m (417.19244620530856Hz)\n",
      "49: 0.23314591780688237m (442.0Hz)\n",
      "50: 0.22225046724367398m (468.28268770680853Hz)\n",
      "51: 0.2119665313319683m (496.1282253527429Hz)\n",
      "52: 0.2022597883916446m (525.6295448312027Hz)\n",
      "53: 0.19309784307046862m (556.885104053534Hz)\n",
      "54: 0.18445011822761642m (589.9992155431552Hz)\n",
      "55: 0.17628775288530885m (625.0823945689081Hz)\n",
      "56: 0.16858350590798143m (662.2517279794932Hz)\n",
      "57: 0.1613116650875265m (701.6312649699441Hz)\n",
      "58: 0.15444796133118893m (743.3524310842836Hz)\n",
      "59: 0.14796948766572507m (787.5544668360599Hz)\n",
      "60: 0.14185462278750888m (834.384892410617Hz)\n",
      "61: 0.1360829589034412m (884.0Hz)\n",
      "62: 0.130635233621837m (936.5653754136171Hz)\n",
      "63: 0.12549326566598415m (992.2564507054858Hz)\n",
      "64: 0.12063989419582229m (1051.2590896624054Hz)\n",
      "65: 0.1160589215352343m (1113.770208107068Hz)\n",
      "66: 0.11173505911380821m (1179.9984310863103Hz)\n",
      "67: 0.10765387644265442m (1250.1647891378161Hz)\n",
      "68: 0.10380175295399072m (1324.5034559589865Hz)\n",
      "69: 0.10016583254376325m (1403.2625299398885Hz)\n",
      "70: 0.09673398066559448m (1486.7048621685672Hz)\n",
      "71: 0.09349474383286255m (1575.1089336721197Hz)\n",
      "72: 0.09043731139375444m (1668.7697848212342Hz)\n",
      "73: 0.08755147945172059m (1768.0Hz)\n",
      "74: 0.0848276168109185m (1873.1307508272341Hz)\n",
      "75: 0.0822566328329921m (1984.5129014109712Hz)\n"
     ]
    }
   ],
   "source": [
    "for k, v in tube_lengths.items():\n",
    "  if v >= 0.08:\n",
    "    print(f\"{k}: {v}m ({tuning.note_to_freq(k)}Hz)\")"
   ]
  },
  {
   "cell_type": "code",
   "execution_count": 29,
   "metadata": {},
   "outputs": [
    {
     "name": "stdout",
     "output_type": "stream",
     "text": [
      "45 0.283603330175053\n",
      "46 0.2698759226623779\n",
      "47 0.25691897533145014\n",
      "48 0.24468924557501776\n",
      "49 0.23314591780688237\n",
      "50 0.22225046724367398\n",
      "51 0.2119665313319683\n",
      "52 0.2022597883916446\n",
      "53 0.19309784307046862\n",
      "54 0.18445011822761642\n",
      "55 0.17628775288530885\n",
      "56 0.16858350590798143\n",
      "57 0.1613116650875265\n",
      "58 0.15444796133118893\n",
      "59 0.14796948766572507\n",
      "60 0.14185462278750888\n",
      "61 0.1360829589034412\n",
      "62 0.130635233621837\n",
      "63 0.12549326566598415\n",
      "64 0.12063989419582229\n",
      "65 0.1160589215352343\n",
      "66 0.11173505911380821\n",
      "67 0.10765387644265442\n",
      "68 0.10380175295399072\n",
      "69 0.10016583254376325\n",
      "70 0.09673398066559448\n",
      "71 0.09349474383286255\n",
      "72 0.09043731139375444\n",
      "73 0.08755147945172059\n",
      "74 0.0848276168109185\n",
      "75 0.0822566328329921\n",
      "76 0.07982994709791115\n",
      "77 0.07753946076761715\n",
      "78 0.0753775295569041\n",
      "79 0.07333693822132722\n",
      "80 0.07141087647699536\n",
      "81 0.06959291627188163\n",
      "82 0.06787699033279723\n",
      "83 0.06625737191643127\n",
      "84 0.06472865569687723\n",
      "85 0.0632857397258603\n",
      "86 0.061923808405459246\n",
      "87 0.06063831641649605\n",
      "88 0.059424973548955574\n"
     ]
    },
    {
     "data": {
      "image/svg+xml": [
       "<?xml version=\"1.0\" encoding=\"UTF-8\"?>\n",
       "<svg xmlns=\"http://www.w3.org/2000/svg\" xmlns:xlink=\"http://www.w3.org/1999/xlink\"\n",
       "     width=\"297mm\" height=\"210mm\" viewBox=\"0 0 297mm 210mm\">\n",
       "<defs>\n",
       "</defs>\n",
       "<rect x=\"0\" y=\"0\" width=\"297mm\" height=\"210mm\" stroke=\"green\" stroke-width=\"2\" fill=\"none\" />\n",
       "<text x=\"20mm\" y=\"8mm\" font-size=\"5mm\">resonator-lengths</text>\n",
       "<g>\n",
       "<text x=\"283.90333017505304mm\" y=\"13mm\" font-size=\"2mm\">45</text>\n",
       "<circle cx=\"284.90333017505304mm\" cy=\"11mm\" r=\"0.5mm\" />\n",
       "<rect x=\"1.3mm\" y=\"10mm\" width=\"284.90333017505304mm\" height=\"0.5mm\" stroke=\"red\" stroke-width=\"1\" />\n",
       "<text x=\"270.17592266237796mm\" y=\"13mm\" font-size=\"2mm\">46</text>\n",
       "<circle cx=\"271.17592266237796mm\" cy=\"11mm\" r=\"0.5mm\" />\n",
       "<rect x=\"1.3mm\" y=\"10mm\" width=\"271.17592266237796mm\" height=\"0.5mm\" stroke=\"red\" stroke-width=\"1\" />\n",
       "<text x=\"257.21897533145017mm\" y=\"13mm\" font-size=\"2mm\">47</text>\n",
       "<circle cx=\"258.21897533145017mm\" cy=\"11mm\" r=\"0.5mm\" />\n",
       "<rect x=\"1.3mm\" y=\"10mm\" width=\"258.21897533145017mm\" height=\"0.5mm\" stroke=\"red\" stroke-width=\"1\" />\n",
       "<text x=\"244.98924557501778mm\" y=\"13mm\" font-size=\"2mm\">48</text>\n",
       "<circle cx=\"245.98924557501778mm\" cy=\"11mm\" r=\"0.5mm\" />\n",
       "<rect x=\"1.3mm\" y=\"10mm\" width=\"245.98924557501778mm\" height=\"0.5mm\" stroke=\"red\" stroke-width=\"1\" />\n",
       "<text x=\"233.4459178068824mm\" y=\"13mm\" font-size=\"2mm\">49</text>\n",
       "<circle cx=\"234.4459178068824mm\" cy=\"11mm\" r=\"0.5mm\" />\n",
       "<rect x=\"1.3mm\" y=\"10mm\" width=\"234.4459178068824mm\" height=\"0.5mm\" stroke=\"red\" stroke-width=\"1\" />\n",
       "<text x=\"222.55046724367398mm\" y=\"13mm\" font-size=\"2mm\">50</text>\n",
       "<circle cx=\"223.55046724367398mm\" cy=\"11mm\" r=\"0.5mm\" />\n",
       "<rect x=\"1.3mm\" y=\"10mm\" width=\"223.55046724367398mm\" height=\"0.5mm\" stroke=\"red\" stroke-width=\"1\" />\n",
       "<text x=\"212.2665313319683mm\" y=\"13mm\" font-size=\"2mm\">51</text>\n",
       "<circle cx=\"213.2665313319683mm\" cy=\"11mm\" r=\"0.5mm\" />\n",
       "<rect x=\"1.3mm\" y=\"10mm\" width=\"213.2665313319683mm\" height=\"0.5mm\" stroke=\"red\" stroke-width=\"1\" />\n",
       "<text x=\"202.55978839164462mm\" y=\"13mm\" font-size=\"2mm\">52</text>\n",
       "<circle cx=\"203.55978839164462mm\" cy=\"11mm\" r=\"0.5mm\" />\n",
       "<rect x=\"1.3mm\" y=\"10mm\" width=\"203.55978839164462mm\" height=\"0.5mm\" stroke=\"red\" stroke-width=\"1\" />\n",
       "<text x=\"193.39784307046864mm\" y=\"13mm\" font-size=\"2mm\">53</text>\n",
       "<circle cx=\"194.39784307046864mm\" cy=\"11mm\" r=\"0.5mm\" />\n",
       "<rect x=\"1.3mm\" y=\"10mm\" width=\"194.39784307046864mm\" height=\"0.5mm\" stroke=\"red\" stroke-width=\"1\" />\n",
       "<text x=\"184.75011822761644mm\" y=\"13mm\" font-size=\"2mm\">54</text>\n",
       "<circle cx=\"185.75011822761644mm\" cy=\"11mm\" r=\"0.5mm\" />\n",
       "<rect x=\"1.3mm\" y=\"10mm\" width=\"185.75011822761644mm\" height=\"0.5mm\" stroke=\"red\" stroke-width=\"1\" />\n",
       "<text x=\"176.58775288530884mm\" y=\"13mm\" font-size=\"2mm\">55</text>\n",
       "<circle cx=\"177.58775288530884mm\" cy=\"11mm\" r=\"0.5mm\" />\n",
       "<rect x=\"1.3mm\" y=\"10mm\" width=\"177.58775288530884mm\" height=\"0.5mm\" stroke=\"red\" stroke-width=\"1\" />\n",
       "<text x=\"168.88350590798146mm\" y=\"13mm\" font-size=\"2mm\">56</text>\n",
       "<circle cx=\"169.88350590798146mm\" cy=\"11mm\" r=\"0.5mm\" />\n",
       "<rect x=\"1.3mm\" y=\"10mm\" width=\"169.88350590798146mm\" height=\"0.5mm\" stroke=\"red\" stroke-width=\"1\" />\n",
       "<text x=\"161.61166508752652mm\" y=\"13mm\" font-size=\"2mm\">57</text>\n",
       "<circle cx=\"162.61166508752652mm\" cy=\"11mm\" r=\"0.5mm\" />\n",
       "<rect x=\"1.3mm\" y=\"10mm\" width=\"162.61166508752652mm\" height=\"0.5mm\" stroke=\"red\" stroke-width=\"1\" />\n",
       "<text x=\"154.74796133118895mm\" y=\"13mm\" font-size=\"2mm\">58</text>\n",
       "<circle cx=\"155.74796133118895mm\" cy=\"11mm\" r=\"0.5mm\" />\n",
       "<rect x=\"1.3mm\" y=\"10mm\" width=\"155.74796133118895mm\" height=\"0.5mm\" stroke=\"red\" stroke-width=\"1\" />\n",
       "<text x=\"148.26948766572508mm\" y=\"13mm\" font-size=\"2mm\">59</text>\n",
       "<circle cx=\"149.26948766572508mm\" cy=\"11mm\" r=\"0.5mm\" />\n",
       "<rect x=\"1.3mm\" y=\"10mm\" width=\"149.26948766572508mm\" height=\"0.5mm\" stroke=\"red\" stroke-width=\"1\" />\n",
       "<text x=\"142.15462278750888mm\" y=\"13mm\" font-size=\"2mm\">60</text>\n",
       "<circle cx=\"143.15462278750888mm\" cy=\"11mm\" r=\"0.5mm\" />\n",
       "<rect x=\"1.3mm\" y=\"10mm\" width=\"143.15462278750888mm\" height=\"0.5mm\" stroke=\"red\" stroke-width=\"1\" />\n",
       "<text x=\"136.3829589034412mm\" y=\"13mm\" font-size=\"2mm\">61</text>\n",
       "<circle cx=\"137.3829589034412mm\" cy=\"11mm\" r=\"0.5mm\" />\n",
       "<rect x=\"1.3mm\" y=\"10mm\" width=\"137.3829589034412mm\" height=\"0.5mm\" stroke=\"red\" stroke-width=\"1\" />\n",
       "<text x=\"130.935233621837mm\" y=\"13mm\" font-size=\"2mm\">62</text>\n",
       "<circle cx=\"131.935233621837mm\" cy=\"11mm\" r=\"0.5mm\" />\n",
       "<rect x=\"1.3mm\" y=\"10mm\" width=\"131.935233621837mm\" height=\"0.5mm\" stroke=\"red\" stroke-width=\"1\" />\n",
       "<text x=\"125.79326566598415mm\" y=\"13mm\" font-size=\"2mm\">63</text>\n",
       "<circle cx=\"126.79326566598415mm\" cy=\"11mm\" r=\"0.5mm\" />\n",
       "<rect x=\"1.3mm\" y=\"10mm\" width=\"126.79326566598415mm\" height=\"0.5mm\" stroke=\"red\" stroke-width=\"1\" />\n",
       "<text x=\"120.93989419582229mm\" y=\"13mm\" font-size=\"2mm\">64</text>\n",
       "<circle cx=\"121.93989419582229mm\" cy=\"11mm\" r=\"0.5mm\" />\n",
       "<rect x=\"1.3mm\" y=\"10mm\" width=\"121.93989419582229mm\" height=\"0.5mm\" stroke=\"red\" stroke-width=\"1\" />\n",
       "<text x=\"116.35892153523429mm\" y=\"13mm\" font-size=\"2mm\">65</text>\n",
       "<circle cx=\"117.35892153523429mm\" cy=\"11mm\" r=\"0.5mm\" />\n",
       "<rect x=\"1.3mm\" y=\"10mm\" width=\"117.35892153523429mm\" height=\"0.5mm\" stroke=\"red\" stroke-width=\"1\" />\n",
       "<text x=\"112.0350591138082mm\" y=\"13mm\" font-size=\"2mm\">66</text>\n",
       "<circle cx=\"113.0350591138082mm\" cy=\"11mm\" r=\"0.5mm\" />\n",
       "<rect x=\"1.3mm\" y=\"10mm\" width=\"113.0350591138082mm\" height=\"0.5mm\" stroke=\"red\" stroke-width=\"1\" />\n",
       "<text x=\"107.95387644265442mm\" y=\"13mm\" font-size=\"2mm\">67</text>\n",
       "<circle cx=\"108.95387644265442mm\" cy=\"11mm\" r=\"0.5mm\" />\n",
       "<rect x=\"1.3mm\" y=\"10mm\" width=\"108.95387644265442mm\" height=\"0.5mm\" stroke=\"red\" stroke-width=\"1\" />\n",
       "<text x=\"104.10175295399071mm\" y=\"13mm\" font-size=\"2mm\">68</text>\n",
       "<circle cx=\"105.10175295399071mm\" cy=\"11mm\" r=\"0.5mm\" />\n",
       "<rect x=\"1.3mm\" y=\"10mm\" width=\"105.10175295399071mm\" height=\"0.5mm\" stroke=\"red\" stroke-width=\"1\" />\n",
       "<text x=\"100.46583254376326mm\" y=\"13mm\" font-size=\"2mm\">69</text>\n",
       "<circle cx=\"101.46583254376326mm\" cy=\"11mm\" r=\"0.5mm\" />\n",
       "<rect x=\"1.3mm\" y=\"10mm\" width=\"101.46583254376326mm\" height=\"0.5mm\" stroke=\"red\" stroke-width=\"1\" />\n",
       "<text x=\"97.03398066559447mm\" y=\"13mm\" font-size=\"2mm\">70</text>\n",
       "<circle cx=\"98.03398066559447mm\" cy=\"11mm\" r=\"0.5mm\" />\n",
       "<rect x=\"1.3mm\" y=\"10mm\" width=\"98.03398066559447mm\" height=\"0.5mm\" stroke=\"red\" stroke-width=\"1\" />\n",
       "<text x=\"93.79474383286255mm\" y=\"13mm\" font-size=\"2mm\">71</text>\n",
       "<circle cx=\"94.79474383286255mm\" cy=\"11mm\" r=\"0.5mm\" />\n",
       "<rect x=\"1.3mm\" y=\"10mm\" width=\"94.79474383286255mm\" height=\"0.5mm\" stroke=\"red\" stroke-width=\"1\" />\n",
       "<text x=\"90.73731139375444mm\" y=\"13mm\" font-size=\"2mm\">72</text>\n",
       "<circle cx=\"91.73731139375444mm\" cy=\"11mm\" r=\"0.5mm\" />\n",
       "<rect x=\"1.3mm\" y=\"10mm\" width=\"91.73731139375444mm\" height=\"0.5mm\" stroke=\"red\" stroke-width=\"1\" />\n",
       "<text x=\"87.85147945172059mm\" y=\"13mm\" font-size=\"2mm\">73</text>\n",
       "<circle cx=\"88.85147945172059mm\" cy=\"11mm\" r=\"0.5mm\" />\n",
       "<rect x=\"1.3mm\" y=\"10mm\" width=\"88.85147945172059mm\" height=\"0.5mm\" stroke=\"red\" stroke-width=\"1\" />\n",
       "<text x=\"85.1276168109185mm\" y=\"13mm\" font-size=\"2mm\">74</text>\n",
       "<circle cx=\"86.1276168109185mm\" cy=\"11mm\" r=\"0.5mm\" />\n",
       "<rect x=\"1.3mm\" y=\"10mm\" width=\"86.1276168109185mm\" height=\"0.5mm\" stroke=\"red\" stroke-width=\"1\" />\n",
       "<text x=\"82.5566328329921mm\" y=\"13mm\" font-size=\"2mm\">75</text>\n",
       "<circle cx=\"83.5566328329921mm\" cy=\"11mm\" r=\"0.5mm\" />\n",
       "<rect x=\"1.3mm\" y=\"10mm\" width=\"83.5566328329921mm\" height=\"0.5mm\" stroke=\"red\" stroke-width=\"1\" />\n",
       "<text x=\"80.12994709791114mm\" y=\"13mm\" font-size=\"2mm\">76</text>\n",
       "<circle cx=\"81.12994709791114mm\" cy=\"11mm\" r=\"0.5mm\" />\n",
       "<rect x=\"1.3mm\" y=\"10mm\" width=\"81.12994709791114mm\" height=\"0.5mm\" stroke=\"red\" stroke-width=\"1\" />\n",
       "<text x=\"77.83946076761715mm\" y=\"13mm\" font-size=\"2mm\">77</text>\n",
       "<circle cx=\"78.83946076761715mm\" cy=\"11mm\" r=\"0.5mm\" />\n",
       "<rect x=\"1.3mm\" y=\"10mm\" width=\"78.83946076761715mm\" height=\"0.5mm\" stroke=\"red\" stroke-width=\"1\" />\n",
       "<text x=\"75.6775295569041mm\" y=\"13mm\" font-size=\"2mm\">78</text>\n",
       "<circle cx=\"76.6775295569041mm\" cy=\"11mm\" r=\"0.5mm\" />\n",
       "<rect x=\"1.3mm\" y=\"10mm\" width=\"76.6775295569041mm\" height=\"0.5mm\" stroke=\"red\" stroke-width=\"1\" />\n",
       "<text x=\"73.63693822132723mm\" y=\"13mm\" font-size=\"2mm\">79</text>\n",
       "<circle cx=\"74.63693822132723mm\" cy=\"11mm\" r=\"0.5mm\" />\n",
       "<rect x=\"1.3mm\" y=\"10mm\" width=\"74.63693822132723mm\" height=\"0.5mm\" stroke=\"red\" stroke-width=\"1\" />\n",
       "<text x=\"71.71087647699535mm\" y=\"13mm\" font-size=\"2mm\">80</text>\n",
       "<circle cx=\"72.71087647699535mm\" cy=\"11mm\" r=\"0.5mm\" />\n",
       "<rect x=\"1.3mm\" y=\"10mm\" width=\"72.71087647699535mm\" height=\"0.5mm\" stroke=\"red\" stroke-width=\"1\" />\n",
       "<text x=\"69.89291627188163mm\" y=\"13mm\" font-size=\"2mm\">81</text>\n",
       "<circle cx=\"70.89291627188163mm\" cy=\"11mm\" r=\"0.5mm\" />\n",
       "<rect x=\"1.3mm\" y=\"10mm\" width=\"70.89291627188163mm\" height=\"0.5mm\" stroke=\"red\" stroke-width=\"1\" />\n",
       "<text x=\"68.17699033279723mm\" y=\"13mm\" font-size=\"2mm\">82</text>\n",
       "<circle cx=\"69.17699033279723mm\" cy=\"11mm\" r=\"0.5mm\" />\n",
       "<rect x=\"1.3mm\" y=\"10mm\" width=\"69.17699033279723mm\" height=\"0.5mm\" stroke=\"red\" stroke-width=\"1\" />\n",
       "<text x=\"66.55737191643126mm\" y=\"13mm\" font-size=\"2mm\">83</text>\n",
       "<circle cx=\"67.55737191643126mm\" cy=\"11mm\" r=\"0.5mm\" />\n",
       "<rect x=\"1.3mm\" y=\"10mm\" width=\"67.55737191643126mm\" height=\"0.5mm\" stroke=\"red\" stroke-width=\"1\" />\n",
       "<text x=\"65.02865569687722mm\" y=\"13mm\" font-size=\"2mm\">84</text>\n",
       "<circle cx=\"66.02865569687722mm\" cy=\"11mm\" r=\"0.5mm\" />\n",
       "<rect x=\"1.3mm\" y=\"10mm\" width=\"66.02865569687722mm\" height=\"0.5mm\" stroke=\"red\" stroke-width=\"1\" />\n",
       "<text x=\"63.58573972586029mm\" y=\"13mm\" font-size=\"2mm\">85</text>\n",
       "<circle cx=\"64.5857397258603mm\" cy=\"11mm\" r=\"0.5mm\" />\n",
       "<rect x=\"1.3mm\" y=\"10mm\" width=\"64.5857397258603mm\" height=\"0.5mm\" stroke=\"red\" stroke-width=\"1\" />\n",
       "<text x=\"62.223808405459245mm\" y=\"13mm\" font-size=\"2mm\">86</text>\n",
       "<circle cx=\"63.223808405459245mm\" cy=\"11mm\" r=\"0.5mm\" />\n",
       "<rect x=\"1.3mm\" y=\"10mm\" width=\"63.223808405459245mm\" height=\"0.5mm\" stroke=\"red\" stroke-width=\"1\" />\n",
       "<text x=\"60.93831641649605mm\" y=\"13mm\" font-size=\"2mm\">87</text>\n",
       "<circle cx=\"61.93831641649605mm\" cy=\"11mm\" r=\"0.5mm\" />\n",
       "<rect x=\"1.3mm\" y=\"10mm\" width=\"61.93831641649605mm\" height=\"0.5mm\" stroke=\"red\" stroke-width=\"1\" />\n",
       "<text x=\"59.724973548955575mm\" y=\"13mm\" font-size=\"2mm\">88</text>\n",
       "<circle cx=\"60.724973548955575mm\" cy=\"11mm\" r=\"0.5mm\" />\n",
       "<rect x=\"1.3mm\" y=\"10mm\" width=\"60.724973548955575mm\" height=\"0.5mm\" stroke=\"red\" stroke-width=\"1\" />\n",
       "<circle cx=\"1.3mm\" cy=\"11mm\" r=\"1mm\" />\n",
       "</g>\n",
       "</svg>"
      ],
      "text/plain": [
       "<drawsvg.drawing.Drawing at 0x16a1228a0>"
      ]
     },
     "execution_count": 29,
     "metadata": {},
     "output_type": "execute_result"
    }
   ],
   "source": [
    "def mkres(lens, filename, offsetx = 1.3):\n",
    "  d = drawsvg.Drawing('297mm', '210mm')\n",
    "  d.append(drawsvg.Rectangle(0, 0, '297mm', '210mm', stroke='green', stroke_width=2, fill='none'))\n",
    "  d.append(drawsvg.Text(filename, '5mm', '20mm', '8mm'))\n",
    "  grp = drawsvg.Group()\n",
    "  y = 10\n",
    "  for k,v in lens.items():\n",
    "    mm = v * 1000 + offsetx\n",
    "    print(k,v)\n",
    "    grp.append(drawsvg.Text(f'{k}', '2mm', f'{mm-1}mm', f'{y + 3}mm'))\n",
    "    grp.append(drawsvg.Circle(f'{mm}mm', f'{y + 1}mm', '0.5mm'))\n",
    "    grp.append(drawsvg.Rectangle(f'{offsetx}mm', f'{y}mm', f'{mm}mm', f'0.5mm', stroke='red', stroke_width=1))\n",
    "  grp.append(drawsvg.Circle(f'{offsetx}mm', f'{y+1}mm', '1mm'))\n",
    "\n",
    "  d.append(grp)\n",
    "\n",
    "  d.save_html(f'data/layout/{filename}.html')\n",
    "  return d\n",
    "\n",
    "mkres(tube_lengths, 'resonator-lengths')"
   ]
  },
  {
   "cell_type": "code",
   "execution_count": null,
   "metadata": {},
   "outputs": [],
   "source": []
  }
 ],
 "metadata": {
  "kernelspec": {
   "display_name": ".venv",
   "language": "python",
   "name": "python3"
  },
  "language_info": {
   "codemirror_mode": {
    "name": "ipython",
    "version": 3
   },
   "file_extension": ".py",
   "mimetype": "text/x-python",
   "name": "python",
   "nbconvert_exporter": "python",
   "pygments_lexer": "ipython3",
   "version": "3.12.3"
  }
 },
 "nbformat": 4,
 "nbformat_minor": 2
}
