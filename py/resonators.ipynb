{
 "cells": [
  {
   "cell_type": "code",
   "execution_count": 1,
   "metadata": {},
   "outputs": [],
   "source": [
    "%load_ext autoreload\n",
    "%autoreload 2"
   ]
  },
  {
   "cell_type": "code",
   "execution_count": 2,
   "metadata": {},
   "outputs": [],
   "source": [
    "import jax\n",
    "import jax.numpy as jnp\n",
    "import numpy as np\n",
    "import matplotlib.pyplot as plt\n",
    "import evosax\n",
    "\n",
    "import json\n",
    "import math\n",
    "import drawsvg"
   ]
  },
  {
   "cell_type": "code",
   "execution_count": 2,
   "metadata": {},
   "outputs": [],
   "source": [
    "import xylo\n",
    "import xylo.types as t\n",
    "import xylo.woods\n",
    "import xylo.cut\n",
    "\n",
    "import xylo.opt\n",
    "\n",
    "import xylo.tuning\n",
    "import xylo.database\n",
    "\n",
    "import xylo.resonators as r"
   ]
  },
  {
   "cell_type": "code",
   "execution_count": 3,
   "metadata": {},
   "outputs": [],
   "source": [
    "tuning = xylo.tuning.yamaha_YX500R"
   ]
  },
  {
   "cell_type": "code",
   "execution_count": 4,
   "metadata": {},
   "outputs": [],
   "source": [
    "c = r.Config(radius = 0.018)"
   ]
  },
  {
   "cell_type": "code",
   "execution_count": 5,
   "metadata": {},
   "outputs": [
    {
     "name": "stdout",
     "output_type": "stream",
     "text": [
      "475.419191437511\n",
      "275.9137425900122\n"
     ]
    }
   ],
   "source": [
    "print(r.freq_of_length(0.1695, c))\n",
    "print(r.freq_of_length(0.300, c))"
   ]
  },
  {
   "cell_type": "code",
   "execution_count": 6,
   "metadata": {},
   "outputs": [
    {
     "name": "stdout",
     "output_type": "stream",
     "text": [
      "0.18137958633366022\n",
      "0.18304132751998822\n",
      "0.1846889566864918\n",
      "0.31084284582977517\n",
      "0.31362298425598806\n",
      "0.3163795128873014\n"
     ]
    }
   ],
   "source": [
    "print(r.length_of_freq(442.23826714, c._replace(temp = 15)))\n",
    "print(r.length_of_freq(442.23826714, c._replace(temp = 20)))\n",
    "print(r.length_of_freq(442.23826714, c._replace(temp = 25)))\n",
    "\n",
    "print(r.length_of_freq(264.33415536, c._replace(temp = 15)))\n",
    "print(r.length_of_freq(264.33415536, c._replace(temp = 20)))\n",
    "print(r.length_of_freq(264.33415536, c._replace(temp = 25)))\n"
   ]
  },
  {
   "cell_type": "code",
   "execution_count": 7,
   "metadata": {},
   "outputs": [],
   "source": [
    "slack = 0.05\n",
    "tube_lengths = { k: r.length_of_freq(tuning.note_to_freq(k), c) + slack for k in tuning.lengths.keys() }"
   ]
  },
  {
   "cell_type": "code",
   "execution_count": 8,
   "metadata": {},
   "outputs": [
    {
     "data": {
      "text/plain": [
       "4.304979930457928"
      ]
     },
     "execution_count": 8,
     "metadata": {},
     "output_type": "execute_result"
    }
   ],
   "source": [
    "sum([v for v in tube_lengths.values() if v > 0.10])"
   ]
  },
  {
   "cell_type": "code",
   "execution_count": 9,
   "metadata": {},
   "outputs": [
    {
     "data": {
      "text/plain": [
       "{45: 0.283603330175053,\n",
       " 46: 0.2698759226623779,\n",
       " 47: 0.25691897533145014,\n",
       " 48: 0.24468924557501776,\n",
       " 49: 0.23314591780688237,\n",
       " 50: 0.22225046724367398,\n",
       " 51: 0.2119665313319683,\n",
       " 52: 0.2022597883916446,\n",
       " 53: 0.19309784307046862,\n",
       " 54: 0.18445011822761642,\n",
       " 55: 0.17628775288530885,\n",
       " 56: 0.16858350590798143,\n",
       " 57: 0.1613116650875265,\n",
       " 58: 0.15444796133118893,\n",
       " 59: 0.14796948766572507,\n",
       " 60: 0.14185462278750888,\n",
       " 61: 0.1360829589034412,\n",
       " 62: 0.130635233621837,\n",
       " 63: 0.12549326566598415,\n",
       " 64: 0.12063989419582229,\n",
       " 65: 0.1160589215352343,\n",
       " 66: 0.11173505911380821,\n",
       " 67: 0.10765387644265442,\n",
       " 68: 0.10380175295399072,\n",
       " 69: 0.10016583254376325,\n",
       " 70: 0.09673398066559448,\n",
       " 71: 0.09349474383286255,\n",
       " 72: 0.09043731139375444,\n",
       " 73: 0.08755147945172059,\n",
       " 74: 0.0848276168109185,\n",
       " 75: 0.0822566328329921,\n",
       " 76: 0.07982994709791115,\n",
       " 77: 0.07753946076761715,\n",
       " 78: 0.0753775295569041,\n",
       " 79: 0.07333693822132722,\n",
       " 80: 0.07141087647699536,\n",
       " 81: 0.06959291627188163,\n",
       " 82: 0.06787699033279723,\n",
       " 83: 0.06625737191643127,\n",
       " 84: 0.06472865569687723,\n",
       " 85: 0.0632857397258603,\n",
       " 86: 0.061923808405459246,\n",
       " 87: 0.06063831641649605,\n",
       " 88: 0.059424973548955574}"
      ]
     },
     "execution_count": 9,
     "metadata": {},
     "output_type": "execute_result"
    }
   ],
   "source": [
    "tube_lengths"
   ]
  },
  {
   "cell_type": "code",
   "execution_count": 10,
   "metadata": {},
   "outputs": [
    {
     "name": "stdout",
     "output_type": "stream",
     "text": [
      "45: 0.283603330175053m (350.8156324849721Hz)\n",
      "46: 0.2698759226623779m (371.6762155421418Hz)\n",
      "47: 0.25691897533145014m (393.77723341802994Hz)\n",
      "48: 0.24468924557501776m (417.19244620530856Hz)\n",
      "49: 0.23314591780688237m (442.0Hz)\n",
      "50: 0.22225046724367398m (468.28268770680853Hz)\n",
      "51: 0.2119665313319683m (496.1282253527429Hz)\n",
      "52: 0.2022597883916446m (525.6295448312027Hz)\n",
      "53: 0.19309784307046862m (556.885104053534Hz)\n",
      "54: 0.18445011822761642m (589.9992155431552Hz)\n",
      "55: 0.17628775288530885m (625.0823945689081Hz)\n",
      "56: 0.16858350590798143m (662.2517279794932Hz)\n",
      "57: 0.1613116650875265m (701.6312649699441Hz)\n",
      "58: 0.15444796133118893m (743.3524310842836Hz)\n",
      "59: 0.14796948766572507m (787.5544668360599Hz)\n",
      "60: 0.14185462278750888m (834.384892410617Hz)\n",
      "61: 0.1360829589034412m (884.0Hz)\n",
      "62: 0.130635233621837m (936.5653754136171Hz)\n",
      "63: 0.12549326566598415m (992.2564507054858Hz)\n",
      "64: 0.12063989419582229m (1051.2590896624054Hz)\n",
      "65: 0.1160589215352343m (1113.770208107068Hz)\n",
      "66: 0.11173505911380821m (1179.9984310863103Hz)\n",
      "67: 0.10765387644265442m (1250.1647891378161Hz)\n",
      "68: 0.10380175295399072m (1324.5034559589865Hz)\n",
      "69: 0.10016583254376325m (1403.2625299398885Hz)\n",
      "70: 0.09673398066559448m (1486.7048621685672Hz)\n",
      "71: 0.09349474383286255m (1575.1089336721197Hz)\n",
      "72: 0.09043731139375444m (1668.7697848212342Hz)\n",
      "73: 0.08755147945172059m (1768.0Hz)\n",
      "74: 0.0848276168109185m (1873.1307508272341Hz)\n",
      "75: 0.0822566328329921m (1984.5129014109712Hz)\n"
     ]
    }
   ],
   "source": [
    "for k, v in tube_lengths.items():\n",
    "  if v >= 0.08:\n",
    "    print(f\"{k}: {v}m ({tuning.note_to_freq(k)}Hz)\")"
   ]
  },
  {
   "cell_type": "code",
   "execution_count": 11,
   "metadata": {},
   "outputs": [
    {
     "ename": "NameError",
     "evalue": "name 'drawsvg' is not defined",
     "output_type": "error",
     "traceback": [
      "\u001b[0;31m---------------------------------------------------------------------------\u001b[0m",
      "\u001b[0;31mNameError\u001b[0m                                 Traceback (most recent call last)",
      "Cell \u001b[0;32mIn[11], line 20\u001b[0m\n\u001b[1;32m     17\u001b[0m   d\u001b[38;5;241m.\u001b[39msave_html(\u001b[38;5;124mf\u001b[39m\u001b[38;5;124m'\u001b[39m\u001b[38;5;124mdata/layout/\u001b[39m\u001b[38;5;132;01m{\u001b[39;00mfilename\u001b[38;5;132;01m}\u001b[39;00m\u001b[38;5;124m.html\u001b[39m\u001b[38;5;124m'\u001b[39m)\n\u001b[1;32m     18\u001b[0m   \u001b[38;5;28;01mreturn\u001b[39;00m d\n\u001b[0;32m---> 20\u001b[0m \u001b[43mmkres\u001b[49m\u001b[43m(\u001b[49m\u001b[43mtube_lengths\u001b[49m\u001b[43m,\u001b[49m\u001b[43m \u001b[49m\u001b[38;5;124;43m'\u001b[39;49m\u001b[38;5;124;43mresonator-lengths\u001b[39;49m\u001b[38;5;124;43m'\u001b[39;49m\u001b[43m)\u001b[49m\n",
      "Cell \u001b[0;32mIn[11], line 2\u001b[0m, in \u001b[0;36mmkres\u001b[0;34m(lens, filename, offsetx)\u001b[0m\n\u001b[1;32m      1\u001b[0m \u001b[38;5;28;01mdef\u001b[39;00m \u001b[38;5;21mmkres\u001b[39m(lens, filename, offsetx \u001b[38;5;241m=\u001b[39m \u001b[38;5;241m1.3\u001b[39m):\n\u001b[0;32m----> 2\u001b[0m   d \u001b[38;5;241m=\u001b[39m \u001b[43mdrawsvg\u001b[49m\u001b[38;5;241m.\u001b[39mDrawing(\u001b[38;5;124m'\u001b[39m\u001b[38;5;124m297mm\u001b[39m\u001b[38;5;124m'\u001b[39m, \u001b[38;5;124m'\u001b[39m\u001b[38;5;124m210mm\u001b[39m\u001b[38;5;124m'\u001b[39m)\n\u001b[1;32m      3\u001b[0m   d\u001b[38;5;241m.\u001b[39mappend(drawsvg\u001b[38;5;241m.\u001b[39mRectangle(\u001b[38;5;241m0\u001b[39m, \u001b[38;5;241m0\u001b[39m, \u001b[38;5;124m'\u001b[39m\u001b[38;5;124m297mm\u001b[39m\u001b[38;5;124m'\u001b[39m, \u001b[38;5;124m'\u001b[39m\u001b[38;5;124m210mm\u001b[39m\u001b[38;5;124m'\u001b[39m, stroke\u001b[38;5;241m=\u001b[39m\u001b[38;5;124m'\u001b[39m\u001b[38;5;124mgreen\u001b[39m\u001b[38;5;124m'\u001b[39m, stroke_width\u001b[38;5;241m=\u001b[39m\u001b[38;5;241m2\u001b[39m, fill\u001b[38;5;241m=\u001b[39m\u001b[38;5;124m'\u001b[39m\u001b[38;5;124mnone\u001b[39m\u001b[38;5;124m'\u001b[39m))\n\u001b[1;32m      4\u001b[0m   d\u001b[38;5;241m.\u001b[39mappend(drawsvg\u001b[38;5;241m.\u001b[39mText(filename, \u001b[38;5;124m'\u001b[39m\u001b[38;5;124m5mm\u001b[39m\u001b[38;5;124m'\u001b[39m, \u001b[38;5;124m'\u001b[39m\u001b[38;5;124m20mm\u001b[39m\u001b[38;5;124m'\u001b[39m, \u001b[38;5;124m'\u001b[39m\u001b[38;5;124m8mm\u001b[39m\u001b[38;5;124m'\u001b[39m))\n",
      "\u001b[0;31mNameError\u001b[0m: name 'drawsvg' is not defined"
     ]
    }
   ],
   "source": [
    "def mkres(lens, filename, offsetx = 1.3):\n",
    "  d = drawsvg.Drawing('297mm', '210mm')\n",
    "  d.append(drawsvg.Rectangle(0, 0, '297mm', '210mm', stroke='green', stroke_width=2, fill='none'))\n",
    "  d.append(drawsvg.Text(filename, '5mm', '20mm', '8mm'))\n",
    "  grp = drawsvg.Group()\n",
    "  y = 10\n",
    "  for k,v in lens.items():\n",
    "    mm = v * 1000 + offsetx\n",
    "    print(k,v)\n",
    "    grp.append(drawsvg.Text(f'{k}', '2mm', f'{mm-1}mm', f'{y + 3}mm'))\n",
    "    grp.append(drawsvg.Circle(f'{mm}mm', f'{y + 1}mm', '0.5mm'))\n",
    "    grp.append(drawsvg.Rectangle(f'{offsetx}mm', f'{y}mm', f'{mm}mm', f'0.5mm', stroke='red', stroke_width=1))\n",
    "  grp.append(drawsvg.Circle(f'{offsetx}mm', f'{y+1}mm', '1mm'))\n",
    "\n",
    "  d.append(grp)\n",
    "\n",
    "  d.save_html(f'data/layout/{filename}.html')\n",
    "  return d\n",
    "\n",
    "mkres(tube_lengths, 'resonator-lengths')"
   ]
  },
  {
   "cell_type": "code",
   "execution_count": null,
   "metadata": {},
   "outputs": [],
   "source": []
  }
 ],
 "metadata": {
  "kernelspec": {
   "display_name": ".venv",
   "language": "python",
   "name": "python3"
  },
  "language_info": {
   "codemirror_mode": {
    "name": "ipython",
    "version": 3
   },
   "file_extension": ".py",
   "mimetype": "text/x-python",
   "name": "python",
   "nbconvert_exporter": "python",
   "pygments_lexer": "ipython3",
   "version": "3.12.3"
  }
 },
 "nbformat": 4,
 "nbformat_minor": 2
}
