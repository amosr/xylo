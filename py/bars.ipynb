{
 "cells": [
  {
   "cell_type": "code",
   "execution_count": 1,
   "metadata": {},
   "outputs": [],
   "source": [
    "%load_ext autoreload\n",
    "%autoreload 2"
   ]
  },
  {
   "cell_type": "code",
   "execution_count": 2,
   "metadata": {},
   "outputs": [],
   "source": [
    "import jax\n",
    "import jax.numpy as jnp\n",
    "import numpy as np\n",
    "import matplotlib.pyplot as plt\n",
    "\n",
    "import evosax\n",
    "\n",
    "from typing import NamedTuple\n",
    "from functools import partial\n",
    "import math"
   ]
  },
  {
   "cell_type": "code",
   "execution_count": 3,
   "metadata": {},
   "outputs": [],
   "source": [
    "import xylo\n",
    "import xylo.types as t\n",
    "import xylo.woods\n",
    "import xylo.cut\n",
    "\n",
    "import xylo.receptance as r\n",
    "import xylo.sweep as xs\n",
    "\n",
    "import xylo.loss.receptance as xlr\n",
    "\n",
    "import xylo.tuning"
   ]
  },
  {
   "cell_type": "code",
   "execution_count": 4,
   "metadata": {},
   "outputs": [],
   "source": [
    "def sweep_blank(wood, bar):\n",
    "    sections = xylo.cut.none(bar)\n",
    "    # sections.plot(to_scale = True)\n",
    "    swp = xs.sweep(wood, bar, sections, t.sweep_default)\n",
    "    print(wood)\n",
    "    print(swp.harmonics)\n",
    "    print(\"\")"
   ]
  },
  {
   "cell_type": "code",
   "execution_count": 38,
   "metadata": {},
   "outputs": [],
   "source": [
    "def make_bar(note, tuning = xylo.tuning.yamaha_YX500R, width = 0.040, depth = 0.019, elements = 1):\n",
    "  length = tuning.note_to_length(note)\n",
    "  return t.BarProps(width = width, depth = depth, length = length, elements = elements, min_depth = 0.010)"
   ]
  },
  {
   "cell_type": "code",
   "execution_count": 62,
   "metadata": {},
   "outputs": [
    {
     "name": "stdout",
     "output_type": "stream",
     "text": [
      "BarProps(width=0.038, depth=0.019, length=0.3, elements=1, min_depth=0.01)\n",
      "Wood(rho=1059, E=29100000000.0, G=1581521739.130435, nu=8.2)\n",
      "[1081.58212833 2677.9975283  4616.38080524]\n",
      "\n"
     ]
    }
   ],
   "source": [
    "bar300 = make_bar(59, width = 0.038, depth = 0.019)\n",
    "print(bar300)\n",
    "\n",
    "# [1081.6 2677.8 4615. ]\n",
    "sweep_blank(t.Wood.make_E_nu(E = 29.100e9, nu = 8.20, rho = 1059), bar300)"
   ]
  },
  {
   "cell_type": "code",
   "execution_count": null,
   "metadata": {},
   "outputs": [],
   "source": [
    "# xsweep(t.Wood.make_E_nu(E = 26.100e9, nu = 0.49, rho = 990))\n",
    "# xsweep(t.Wood.make_E_nu(E = 26.100e9, nu = 0.49, rho = 1114))\n",
    "# xsweep(t.Wood.make_E_nu(E = 23.150e9, nu = 0.49, rho = 990))\n",
    "# xsweep(t.Wood.make_E_nu(E = 26.100e9, nu = 12.7, rho = 990))\n",
    "# xsweep(t.Wood.make_E_nu(E = 24.500e9, nu = 6.9, rho = 990))\n",
    "# xsweep19(t.Wood.make_E_nu(E = 26.100e9, nu = 0.49, rho = 1059), d = 0.0195, w = 0.040)\n",
    "# xsweep19(t.Wood.make_E_nu(E = 26.100e9, nu = 0.49, rho = 1059), d = 0.0192, w = 0.038, l = 0.300)\n",
    "# xsweep19(t.Wood.make_E_nu(E = 28.500e9, nu = 8.00, rho = 1059), d = 0.0192, w = 0.038, l = 0.300)\n",
    "# recording 1086.6 2689.2 3689.2 4689.4\n",
    "# xsweep19(t.Wood.make_E_nu(E = 28.500e9, nu = 8.00, rho = 1059), d = 0.0192, w = 0.040, l = 0.300)\n",
    "\n",
    "# recording # 1048.  2631.6 3769.6 4577.8 5044.8\n",
    "# xsweep19(t.Wood.make_E_nu(E = 24.900e9, nu = 6.60, rho = 1059), d = 0.0192, w = 0.040, l = 0.295)\n",
    "\n",
    "# recording 2160.4 3711.8 5052.2\n",
    "# xsweep19(t.Wood.make_E_nu(E = 26.100e9, nu = 6.00, rho = 1059), d = 0.0192, w = 0.038, l = 0.204)\n"
   ]
  }
 ],
 "metadata": {
  "kernelspec": {
   "display_name": ".venv",
   "language": "python",
   "name": "python3"
  },
  "language_info": {
   "codemirror_mode": {
    "name": "ipython",
    "version": 3
   },
   "file_extension": ".py",
   "mimetype": "text/x-python",
   "name": "python",
   "nbconvert_exporter": "python",
   "pygments_lexer": "ipython3",
   "version": "3.12.3"
  }
 },
 "nbformat": 4,
 "nbformat_minor": 2
}
