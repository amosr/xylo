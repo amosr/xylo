{
 "cells": [
  {
   "cell_type": "code",
   "execution_count": 20,
   "metadata": {},
   "outputs": [
    {
     "name": "stdout",
     "output_type": "stream",
     "text": [
      "The autoreload extension is already loaded. To reload it, use:\n",
      "  %reload_ext autoreload\n"
     ]
    }
   ],
   "source": [
    "%load_ext autoreload\n",
    "%autoreload 2"
   ]
  },
  {
   "cell_type": "code",
   "execution_count": 21,
   "metadata": {},
   "outputs": [],
   "source": [
    "import jax\n",
    "import jax.numpy as jnp\n",
    "import numpy as np\n",
    "import matplotlib.pyplot as plt\n",
    "\n",
    "import evosax\n",
    "\n",
    "from typing import NamedTuple\n",
    "from functools import partial\n",
    "import math"
   ]
  },
  {
   "cell_type": "code",
   "execution_count": 22,
   "metadata": {},
   "outputs": [],
   "source": [
    "import xylo\n",
    "import xylo.types as t\n",
    "import xylo.woods\n",
    "import xylo.cut\n",
    "\n",
    "import xylo.receptance as r\n",
    "import xylo.sweep as xs\n",
    "\n",
    "import xylo.loss.receptance as xlr\n",
    "\n",
    "import xylo.tuning\n",
    "import xylo.database as db"
   ]
  },
  {
   "cell_type": "code",
   "execution_count": 23,
   "metadata": {},
   "outputs": [],
   "source": [
    "def sweep_blank(wood, bar):\n",
    "    sections = xylo.cut.none(bar)\n",
    "    # sections.plot(to_scale = True)\n",
    "    swp = xs.sweep(wood, bar, sections, t.sweep_default)\n",
    "    print(wood)\n",
    "    print(swp.harmonics)\n",
    "    print(swp.harmonics / swp.harmonics[0])\n",
    "    print(\"\")"
   ]
  },
  {
   "cell_type": "code",
   "execution_count": 43,
   "metadata": {},
   "outputs": [],
   "source": [
    "# def make_bar(note, tuning = xylo.tuning.yamaha_YX500R, width = 0.040, depth = 0.019, elements = 1):\n",
    "#   length = tuning.note_to_length(note)\n",
    "#   return t.BarProps(width = width, depth = depth, length = length, elements = elements, min_depth = 0.010)\n",
    "\n",
    "def make_bar(note):\n",
    "  return db.get().get_geometry(note).to_bar()\n",
    "\n",
    "def make_bar_wood(note, base, coeffs):\n",
    "  d = db.get()\n",
    "  bar = d.get_geometry(note).to_bar()\n",
    "  bar = bar._replace(elements = 1)\n",
    "  wood = d.get_wood(note, base, coeffs) # , base, coeffs)\n",
    "  return bar, wood\n"
   ]
  },
  {
   "cell_type": "code",
   "execution_count": 137,
   "metadata": {},
   "outputs": [
    {
     "name": "stdout",
     "output_type": "stream",
     "text": [
      "80\n",
      "Wood(rho=1070.185630027113, E=24100000000.0, G=1606666666.6666667, nu=6.5)\n",
      "[2645.43561958 5936.30445378 9489.68951811]\n",
      "[1.         2.24397994 3.58719352]\n",
      "\n",
      "\n"
     ]
    }
   ],
   "source": [
    "for note in [80]: # list(range(45,57)) + [75, 77, 80]:\n",
    "# for note in [75,80]:\n",
    "# for note in range(57,89):\n",
    "# for note in [85]: #, 72, 75, 77, 78, 80, 83, 85]:\n",
    "  print(note)\n",
    "  b,w = make_bar_wood(note, t.Wood.make_E_nu(E = 24.1e9, nu = 6.5, rho = 1059), coeffs = [1.0, 1.0, 1.0])\n",
    "  # print(b,w)\n",
    "  sweep_blank(w, b)\n",
    "  print()"
   ]
  },
  {
   "cell_type": "code",
   "execution_count": null,
   "metadata": {},
   "outputs": [],
   "source": []
  },
  {
   "cell_type": "code",
   "execution_count": 27,
   "metadata": {},
   "outputs": [
    {
     "name": "stdout",
     "output_type": "stream",
     "text": [
      "Wood(rho=1059, E=29100000000.0, G=9765100671.14094, nu=0.49)\n",
      "[1120.30408141 3003.31652142 5669.14557166]\n",
      "[1.         2.68080477 5.06036322]\n",
      "\n",
      "Wood(rho=990, E=26100000000.0, G=8758389261.744967, nu=0.49)\n",
      "[1097.33661931 2941.74575803 5552.92107742]\n",
      "[1.         2.68080524 5.0603625 ]\n",
      "\n",
      "Wood(rho=2700, E=68900000000.0, G=25900000000.0, nu=0.33011583011583)\n",
      "[1080.42030355 2901.90082862 5491.78197625]\n",
      "[1.         2.68589994 5.08300516]\n",
      "\n",
      "Wood(rho=837.187565, E=17960000000.0, G=6750000000.0, nu=0.3303703703703704)\n",
      "[ 990.61767751 2660.69385167 5035.27707692]\n",
      "[1.         2.68589377 5.08296711]\n",
      "\n",
      "Wood(rho=1080, E=23000000000.0, G=3000000000.0, nu=2.8333333333333335)\n",
      "[ 975.53049936 2546.68791556 4647.57035414]\n",
      "[1.         2.61056719 4.76414664]\n",
      "\n",
      "Wood(rho=760, E=14700000000.0, G=1470000000.0, nu=4.0)\n",
      "[ 924.72303394 2384.35220228 4288.71636105]\n",
      "[1.         2.5784501  4.63783879]\n",
      "\n",
      "Wood(rho=611.0152, E=6067000000.0, G=16030300000.0, nu=-0.8107646145112692)\n",
      "[ 677.60391318 1845.45434796 3560.96206003]\n",
      "[1.         2.72350013 5.25522653]\n",
      "\n",
      "Wood(rho=1015, E=9540000000.0, G=3669230769.230769, nu=0.3)\n",
      "[ 655.79477605 1762.03185212 3336.22970697]\n",
      "[1.         2.68686473 5.08730754]\n",
      "\n"
     ]
    }
   ],
   "source": [
    "sweep_blank(t.Wood.make_E_nu(E = 29.100e9, nu = 0.49, rho = 1059), bar300)\n",
    "sweep_blank(xylo.woods.spotted_gum, bar300)\n",
    "sweep_blank(xylo.woods.aluminium, bar300)\n",
    "sweep_blank(xylo.woods.mingming, bar300)\n",
    "sweep_blank(xylo.woods.rosewood, bar300)\n",
    "sweep_blank(xylo.woods.suits_oak, bar300)\n",
    "sweep_blank(xylo.woods.tasmanian_oak, bar300)\n",
    "sweep_blank(xylo.woods.wood_test_chaigne1997, bar300)\n",
    "\n",
    "# xsweep(t.Wood.make_E_nu(E = 26.100e9, nu = 0.49, rho = 990))\n",
    "# xsweep(t.Wood.make_E_nu(E = 26.100e9, nu = 0.49, rho = 1114))\n",
    "# xsweep(t.Wood.make_E_nu(E = 23.150e9, nu = 0.49, rho = 990))\n",
    "# xsweep(t.Wood.make_E_nu(E = 26.100e9, nu = 12.7, rho = 990))\n",
    "# xsweep(t.Wood.make_E_nu(E = 24.500e9, nu = 6.9, rho = 990))\n",
    "# xsweep19(t.Wood.make_E_nu(E = 26.100e9, nu = 0.49, rho = 1059), d = 0.0195, w = 0.040)\n",
    "# xsweep19(t.Wood.make_E_nu(E = 26.100e9, nu = 0.49, rho = 1059), d = 0.0192, w = 0.038, l = 0.300)\n",
    "# xsweep19(t.Wood.make_E_nu(E = 28.500e9, nu = 8.00, rho = 1059), d = 0.0192, w = 0.038, l = 0.300)\n",
    "# recording 1086.6 2689.2 3689.2 4689.4\n",
    "# xsweep19(t.Wood.make_E_nu(E = 28.500e9, nu = 8.00, rho = 1059), d = 0.0192, w = 0.040, l = 0.300)\n",
    "\n",
    "# recording # 1048.  2631.6 3769.6 4577.8 5044.8\n",
    "# xsweep19(t.Wood.make_E_nu(E = 24.900e9, nu = 6.60, rho = 1059), d = 0.0192, w = 0.040, l = 0.295)\n",
    "\n",
    "# recording 2160.4 3711.8 5052.2\n",
    "# xsweep19(t.Wood.make_E_nu(E = 26.100e9, nu = 6.00, rho = 1059), d = 0.0192, w = 0.038, l = 0.204)\n"
   ]
  },
  {
   "cell_type": "code",
   "execution_count": 9,
   "metadata": {},
   "outputs": [
    {
     "name": "stdout",
     "output_type": "stream",
     "text": [
      "BarProps(width=0.038, depth=0.019, length=0.3, elements=300, min_depth=0.01)\n",
      "0.0 [1081.58212829 2677.9975283  4616.38080523] [1.         2.47600017 4.26817408]\n",
      "0.2 [1014.75190054 2560.40249433 4622.50367033] [1.         2.52318078 4.55530427]\n",
      "0.4 [ 948.44115816 2432.8962998  4567.62463734] [1.         2.5651526  4.81592832]\n",
      "0.6000000000000001 [ 881.89605444 2295.44322897 4446.26990275] [1.         2.60285009 5.04171652]\n",
      "0.8 [ 814.16787158 2146.65558884 4270.74870943] [1.         2.63662528 5.24553825]\n",
      "1.0 [ 744.00682405 1983.32202568 4058.55807472] [1.         2.66573096 5.45500114]\n"
     ]
    },
    {
     "data": {
      "image/png": "[encoded data removed]",
      "text/plain": [
       "<Figure size 640x480 with 1 Axes>"
      ]
     },
     "metadata": {},
     "output_type": "display_data"
    }
   ],
   "source": [
    "# spline = jnp.array([0.86181835, 0.10249491, 0.67961064, 0.68944927])\n",
    "# spline = jnp.array([0.86181835, 0.10249491, 0.67961064, 0.68944927, 0.39092797])\n",
    "spline = jnp.array([0.86181835, 0.10249491, 0.67961064, 0.68944927, 0.39092797, 0.73175392])\n",
    "wood = t.Wood.make_E_nu(E = 29.100e9, nu = 8.20, rho = 1059)\n",
    "# wood = t.Wood.make_E_nu(E = 26.100e9, nu = 8.49, rho = 1059)\n",
    "# wood = t.Wood.make_E_nu(E = 29.100e9, nu = 8.49, rho = 1059)\n",
    "bar = make_bar(59, width = 0.038, depth = 0.019, elements = 300)\n",
    "print(bar)\n",
    "\n",
    "\n",
    "cuts = jnp.arange(0.0, 1.1, 0.2)\n",
    "predict_freqs = []\n",
    "\n",
    "for i in cuts:\n",
    "    # xi = jnp.arange(1, len(sol.value) - 1)\n",
    "    # ii = jnp.minimum(xi * i, 1)\n",
    "\n",
    "    vv = xylo.cut.spline_scale(spline, i)\n",
    "    # XXX\n",
    "    sections = xylo.cut.spline(bar, vv) # , max_spread=1.0)\n",
    "    sections.plot() # (to_scale = False)\n",
    "\n",
    "    swp = xs.sweep(wood, bar, sections, t.sweep_default)\n",
    "    print(i, swp.harmonics, swp.harmonics / swp.harmonics[0])\n",
    "\n",
    "    predict_freqs.append(swp.harmonics[0])\n",
    "\n",
    "predict_freqs = jnp.array(predict_freqs)"
   ]
  },
  {
   "cell_type": "code",
   "execution_count": 10,
   "metadata": {},
   "outputs": [],
   "source": [
    "measure_freqs = jnp.array([1081.6, 999.6, 928.8, 871.2, 771.4, 688.6])\n",
    "# [1081.6 1585.8 2677.8 3527.4]\n",
    "# [ 999.6 1858.6 2535.6 3509.6]\n",
    "# [ 928.8 1447.2 2410.4]\n",
    "# [ 871.2 1346.  1801.  2276.4]\n",
    "# [ 771.4 ]\n",
    "# [ 688.6 1690.4 2100.4 3531. ]"
   ]
  },
  {
   "cell_type": "code",
   "execution_count": 11,
   "metadata": {},
   "outputs": [],
   "source": [
    "error_freqs = predict_freqs - measure_freqs"
   ]
  },
  {
   "cell_type": "code",
   "execution_count": 12,
   "metadata": {},
   "outputs": [
    {
     "data": {
      "text/plain": [
       "Array([-1.78717084e-02,  1.51519005e+01,  1.96411582e+01,  1.06960544e+01,\n",
       "        4.27678716e+01,  5.54068240e+01], dtype=float64)"
      ]
     },
     "execution_count": 12,
     "metadata": {},
     "output_type": "execute_result"
    }
   ],
   "source": [
    "error_freqs"
   ]
  },
  {
   "cell_type": "code",
   "execution_count": 13,
   "metadata": {},
   "outputs": [
    {
     "name": "stdout",
     "output_type": "stream",
     "text": [
      "[36.37451506 11.45820819  4.33465571]\n",
      "[ 4.33465571  8.08127795 14.7378614  24.30440605 36.7809119  52.16737896] [-1.78717084e-02  1.51519005e+01  1.96411582e+01  1.06960544e+01\n",
      "  4.27678716e+01  5.54068240e+01]\n"
     ]
    },
    {
     "data": {
      "image/png": "[encoded data removed]",
      "text/plain": [
       "<Figure size 640x480 with 1 Axes>"
      ]
     },
     "metadata": {},
     "output_type": "display_data"
    }
   ],
   "source": [
    "# plt.plot(cuts, measure_freqs, color = 'blue')\n",
    "# plt.plot(cuts, predict_freqs, color = 'green')\n",
    "\n",
    "rhs = error_freqs # / predict_freqs\n",
    "plt.scatter(cuts, rhs, color = 'red')\n",
    "\n",
    "p = jnp.polyfit(cuts[0:-1], rhs[0:-1], 2)\n",
    "print(p)\n",
    "# plt.plot(cuts, (cuts ** 2) * p[0] + (cuts ** 1) * p[1] + p[2], color = 'purple')\n",
    "vals = jnp.polyval(p, cuts)\n",
    "plt.plot(cuts, vals, color = 'green')\n",
    "print(vals, rhs)"
   ]
  },
  {
   "cell_type": "code",
   "execution_count": 14,
   "metadata": {},
   "outputs": [
    {
     "name": "stdout",
     "output_type": "stream",
     "text": [
      "[-8.48654731e-07 -1.08104985e-03  2.15034035e+00]\n",
      "[[ 1.08158213e+03 -1.16770488e-02]\n",
      " [ 1.01475190e+03  1.79464997e-01]\n",
      " [ 9.48441158e+02  3.61628758e-01]\n",
      " [ 8.81896054e+02  5.36933462e-01]\n",
      " [ 8.14167872e+02  7.07637100e-01]\n",
      " [ 7.44006824e+02  8.76262315e-01]]\n"
     ]
    },
    {
     "data": {
      "image/png": "[encoded data removed]",
      "text/plain": [
       "<Figure size 640x480 with 1 Axes>"
      ]
     },
     "metadata": {},
     "output_type": "display_data"
    }
   ],
   "source": [
    "plt.scatter(measure_freqs, cuts, color = 'blue')\n",
    "plt.scatter(predict_freqs, cuts, color = 'green')\n",
    "\n",
    "lhs = measure_freqs\n",
    "rhs = cuts\n",
    "\n",
    "p = jnp.polyfit(lhs[0:-1], rhs[0:-1], 2)\n",
    "print(p)\n",
    "# plt.plot(cuts, (cuts ** 2) * p[0] + (cuts ** 1) * p[1] + p[2], color = 'purple')\n",
    "vals = jnp.polyval(p, predict_freqs)\n",
    "plt.plot(predict_freqs, vals, color = 'red')\n",
    "print(jnp.stack([predict_freqs, vals]).T)"
   ]
  },
  {
   "cell_type": "code",
   "execution_count": 19,
   "metadata": {},
   "outputs": [
    {
     "name": "stdout",
     "output_type": "stream",
     "text": [
      "[2.58960804e-04 4.06250624e-01 3.42994699e+02]\n"
     ]
    },
    {
     "data": {
      "text/plain": [
       "[<matplotlib.lines.Line2D at 0x32360d3d0>]"
      ]
     },
     "execution_count": 19,
     "metadata": {},
     "output_type": "execute_result"
    },
    {
     "data": {
      "image/png": "[encoded data removed]",
      "text/plain": [
       "<Figure size 640x480 with 1 Axes>"
      ]
     },
     "metadata": {},
     "output_type": "display_data"
    }
   ],
   "source": [
    "plt.scatter(measure_freqs, predict_freqs, color = 'blue')\n",
    "\n",
    "lhs = measure_freqs\n",
    "rhs = predict_freqs\n",
    "\n",
    "p = jnp.polyfit(lhs[0:-1], rhs[0:-1], 2)\n",
    "print(p)\n",
    "# plt.plot(cuts, (cuts ** 2) * p[0] + (cuts ** 1) * p[1] + p[2], color = 'purple')\n",
    "vals = jnp.polyval(p, measure_freqs)\n",
    "plt.plot(lhs, vals, color = 'red')"
   ]
  },
  {
   "cell_type": "code",
   "execution_count": 16,
   "metadata": {},
   "outputs": [],
   "source": [
    "def loss(woodX, bar, measurements, spline):\n",
    "    wood = t.Wood.make_E_nu(E = woodX[0], nu = woodX[1], rho = 1059)\n",
    "\n",
    "    cuts = jnp.arange(0.0, 1.1, 0.2)\n",
    "    def go(i):\n",
    "        vv = xylo.cut.spline_scale(spline, i)\n",
    "        sections = xylo.cut.spline(bar, vv) # , max_spread=1.0)\n",
    "        swp = xs.sweep(wood, bar, sections, t.sweep_default)\n",
    "        jax.debug.print(\"{i} swp {swp}\", i=i, swp=swp.harmonics)\n",
    "        return swp.harmonics[0]\n",
    "\n",
    "    freqs = jax.vmap(go)(cuts)\n",
    "    print(freqs)\n",
    "    return jnp.mean((freqs - measurements) ** 2)\n"
   ]
  },
  {
   "cell_type": "code",
   "execution_count": 17,
   "metadata": {},
   "outputs": [],
   "source": [
    "bar = make_bar(59, width = 0.038, depth = 0.019, elements = 300)\n",
    "woodX = jnp.array([29.1e9, 8.5])\n",
    "iters = 100\n",
    "lrate = 0.001"
   ]
  },
  {
   "cell_type": "code",
   "execution_count": 18,
   "metadata": {},
   "outputs": [
    {
     "ename": "NameError",
     "evalue": "name 'grad' is not defined",
     "output_type": "error",
     "traceback": [
      "\u001b[0;31m---------------------------------------------------------------------------\u001b[0m",
      "\u001b[0;31mNameError\u001b[0m                                 Traceback (most recent call last)",
      "Cell \u001b[0;32mIn[18], line 2\u001b[0m\n\u001b[1;32m      1\u001b[0m \u001b[38;5;66;03m# for _ in range(iters):\u001b[39;00m\n\u001b[0;32m----> 2\u001b[0m w \u001b[38;5;241m=\u001b[39m \u001b[43mgrad\u001b[49m(woodX, bar, measure_freqs, spline)\n\u001b[1;32m      3\u001b[0m \u001b[38;5;28mprint\u001b[39m(w)\n",
      "\u001b[0;31mNameError\u001b[0m: name 'grad' is not defined"
     ]
    }
   ],
   "source": [
    "# for _ in range(iters):\n",
    "w = grad(woodX, bar, measure_freqs, spline)\n",
    "print(w)"
   ]
  },
  {
   "cell_type": "code",
   "execution_count": null,
   "metadata": {},
   "outputs": [],
   "source": []
  }
 ],
 "metadata": {
  "kernelspec": {
   "display_name": ".venv",
   "language": "python",
   "name": "python3"
  },
  "language_info": {
   "codemirror_mode": {
    "name": "ipython",
    "version": 3
   },
   "file_extension": ".py",
   "mimetype": "text/x-python",
   "name": "python",
   "nbconvert_exporter": "python",
   "pygments_lexer": "ipython3",
   "version": "3.12.3"
  }
 },
 "nbformat": 4,
 "nbformat_minor": 2
}
