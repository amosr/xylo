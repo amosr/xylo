{
 "cells": [
  {
   "cell_type": "code",
   "execution_count": 1,
   "metadata": {},
   "outputs": [],
   "source": [
    "%load_ext autoreload\n",
    "%autoreload 2"
   ]
  },
  {
   "cell_type": "code",
   "execution_count": 2,
   "metadata": {},
   "outputs": [],
   "source": [
    "import jax\n",
    "import jax.numpy as jnp\n",
    "import numpy as np\n",
    "import matplotlib.pyplot as plt\n",
    "\n",
    "from typing import NamedTuple\n",
    "from functools import partial\n",
    "import math\n",
    "import json"
   ]
  },
  {
   "cell_type": "code",
   "execution_count": 3,
   "metadata": {},
   "outputs": [],
   "source": [
    "import xylo\n",
    "import xylo.types as t\n",
    "import xylo.cut\n",
    "import xylo.slicer as s\n",
    "import xylo.database\n",
    "import xylo.sweep as xs\n",
    "import xylo.audio as xaudio\n",
    "import xylo.tuning"
   ]
  },
  {
   "cell_type": "code",
   "execution_count": 4,
   "metadata": {},
   "outputs": [],
   "source": [
    "tuning = xylo.tuning.glock_F5_200"
   ]
  },
  {
   "cell_type": "code",
   "execution_count": 5,
   "metadata": {},
   "outputs": [],
   "source": [
    "note = 57\n",
    "# note = 87\n",
    "stage = '5-finex'"
   ]
  },
  {
   "cell_type": "code",
   "execution_count": 15,
   "metadata": {},
   "outputs": [
    {
     "name": "stdout",
     "output_type": "stream",
     "text": [
      "57\n",
      "[ 702.  3774.5 5235. ] [1.00052554 5.37960634 7.46118405]\n"
     ]
    }
   ],
   "source": [
    "print(note)\n",
    "vs = xaudio.read_samples(4.0)\n",
    "xaudio.print_spectrum(vs, height = 0.02, distance = 1000, prominence = 0.02, comparison_freq = tuning.note_to_freq(note))\n",
    "# xaudio.plot_spectrum(vs, height = 0.02, distance = 1000, prominence = 0.02, comparison_freq = tuning.note_to_freq(note))\n",
    "xaudio.write_wave(f'glock/tb-{stage}-{note}', vs)"
   ]
  },
  {
   "cell_type": "code",
   "execution_count": 239,
   "metadata": {},
   "outputs": [],
   "source": [
    "note += 1"
   ]
  },
  {
   "cell_type": "code",
   "execution_count": null,
   "metadata": {},
   "outputs": [],
   "source": [
    "# 80 flat, 0.988\n",
    "\n",
    "# >>> math.pow(2,1/12)\n",
    "# 1.0594630943592953\n",
    "# goal: 5cents\n",
    "# >>> math.pow(2,1/(12*20))\n",
    "# 1.0028922878693671"
   ]
  },
  {
   "cell_type": "code",
   "execution_count": 7,
   "metadata": {},
   "outputs": [],
   "source": [
    "# xaudio.list_spectrum(height = 0.02, distance = 1000, prominence = 0.01, dir='data/wav/glock')"
   ]
  },
  {
   "cell_type": "code",
   "execution_count": 8,
   "metadata": {},
   "outputs": [],
   "source": [
    "# xaudio.plot_spectrum(xaudio.read_wave('glock/tb-2-mount-bar-raised-60-centre.wav'))"
   ]
  },
  {
   "cell_type": "code",
   "execution_count": 9,
   "metadata": {},
   "outputs": [],
   "source": [
    "# xaudio.plot_spectrum(xaudio.read_wave('glock/tb-2-mount-bar-raised-60-nodesusp.wav'))"
   ]
  },
  {
   "cell_type": "code",
   "execution_count": null,
   "metadata": {},
   "outputs": [],
   "source": [
    "# "
   ]
  },
  {
   "cell_type": "code",
   "execution_count": 10,
   "metadata": {},
   "outputs": [],
   "source": [
    "# xaudio.plot_spectrum(xaudio.read_wave('glock/tb-2-mount-bar-raised-60-nodepin.wav'))\n"
   ]
  },
  {
   "cell_type": "code",
   "execution_count": null,
   "metadata": {},
   "outputs": [],
   "source": []
  }
 ],
 "metadata": {
  "kernelspec": {
   "display_name": ".venv",
   "language": "python",
   "name": "python3"
  },
  "language_info": {
   "codemirror_mode": {
    "name": "ipython",
    "version": 3
   },
   "file_extension": ".py",
   "mimetype": "text/x-python",
   "name": "python",
   "nbconvert_exporter": "python",
   "pygments_lexer": "ipython3",
   "version": "3.12.3"
  }
 },
 "nbformat": 4,
 "nbformat_minor": 2
}
