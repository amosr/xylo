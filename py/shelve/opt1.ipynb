{
 "cells": [
  {
   "cell_type": "code",
   "execution_count": null,
   "metadata": {},
   "outputs": [],
   "source": [
    "%load_ext autoreload\n",
    "%autoreload 2\n"
   ]
  },
  {
   "cell_type": "code",
   "execution_count": null,
   "metadata": {},
   "outputs": [],
   "source": [
    "import jax\n",
    "import jax.numpy as jnp\n",
    "import numpy as np\n",
    "import matplotlib.pyplot as plt\n",
    "\n",
    "import evosax\n",
    "\n",
    "from typing import NamedTuple\n",
    "from functools import partial\n",
    "import math\n"
   ]
  },
  {
   "cell_type": "code",
   "execution_count": null,
   "metadata": {},
   "outputs": [],
   "source": [
    "import xylo\n",
    "import xylo.types as t\n",
    "import xylo.woods\n",
    "import xylo.cut\n",
    "\n",
    "import xylo.receptance as r\n",
    "import xylo.sweep as xs\n",
    "\n",
    "import xylo.loss.receptance as xlr\n"
   ]
  },
  {
   "cell_type": "code",
   "execution_count": null,
   "metadata": {},
   "outputs": [],
   "source": [
    "import optimistix\n",
    "# solver = optimistix.GradientDescent(learning_rate = 0.001, rtol = 0.0000001, atol = 0.0000001)\n",
    "solver = optimistix.BFGS(rtol = 1e-10, atol = 1e-10)\n",
    "# solver = optimistix.NonlinearCG(rtol = 0.000001, atol = 0.000001)\n",
    "\n",
    "solver = optimistix.BestSoFarMinimiser(solver)\n",
    "\n",
    "# y0 = es_state.best_member\n",
    "\n",
    "# fundamental = 440\n",
    "\n",
    "# args = (wood, bar, fundamental, jnp.array([[0.5, 0.5], [1, -1.0], [2, 0.5], [3, -0.9], [4, 0.5], [5, -0.8]]))\n",
    "\n",
    "sol = optimistix.minimise(lambda x,args: loss_spline(x), solver = solver, y0 = es_state.best_member, max_steps = None)\n",
    "\n"
   ]
  }
 ],
 "metadata": {
  "kernelspec": {
   "display_name": ".venv",
   "language": "python",
   "name": "python3"
  },
  "language_info": {
   "name": "python",
   "version": "3.12.3"
  }
 },
 "nbformat": 4,
 "nbformat_minor": 2
}
