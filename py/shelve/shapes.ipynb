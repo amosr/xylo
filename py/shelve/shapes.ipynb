{
 "cells": [
  {
   "cell_type": "code",
   "execution_count": 2,
   "id": "15cce8f1-c9db-4c44-865e-50688b0da609",
   "metadata": {
    "editable": true,
    "slideshow": {
     "slide_type": ""
    },
    "tags": []
   },
   "outputs": [],
   "source": [
    "import jax\n",
    "import jax.numpy as jnp\n",
    "import numpy as np\n",
    "import matplotlib.pyplot as plt\n",
    "from typing import NamedTuple\n",
    "\n",
    "from functools import partial\n",
    "\n",
    "jax.config.update(\"jax_enable_x64\", True)"
   ]
  },
  {
   "cell_type": "code",
   "execution_count": 5,
   "id": "e7a1422f-737a-46cc-9624-01e95e302fdd",
   "metadata": {
    "editable": true,
    "slideshow": {
     "slide_type": ""
    },
    "tags": []
   },
   "outputs": [],
   "source": [
    "class CutCubic(NamedTuple):\n",
    "    cubic:   float\n",
    "    square:  float\n",
    "    offset:  float\n",
    "\n",
    "class Shape(NamedTuple):\n",
    "    width: float\n",
    "    depth: float\n",
    "    length: float\n",
    "    elements: int\n",
    "    min_depth: float\n",
    "    # assert elements % 2 = 0\n",
    "\n",
    "    # def num_subdivisions(self):\n",
    "    #     return (self.elements // 2) + 1\n",
    "\n",
    "class Bar(NamedTuple):\n",
    "    xmids: jnp.ndarray\n",
    "    depths: jnp.ndarray\n",
    "    length_per_element: float\n",
    "\n",
    "    def plot(self, to_scale=True):\n",
    "        plt.plot(bar.xmids, bar.depths)\n",
    "        plt.plot(bar.xmids, jnp.full(bar.xmids.shape, 0))\n",
    "        if to_scale:\n",
    "            plt.gca().set_aspect('equal')\n",
    "\n",
    "class Consts(NamedTuple):\n",
    "    def make_E_G(rho: float, E: float, G: float):\n",
    "        return Consts(rho = rho, E = E, G = G, nu = (E / (2 * G)) - 1)\n",
    "    def make_G_nu(rho: float, G: float, nu: float):\n",
    "        return Consts(rho = rho, E = 2 * G * (1 + nu), G = G, nu = nu)\n",
    "    def make_E_nu(rho: float, E: float, nu: float):\n",
    "        return Consts(rho = rho, E = E, G = E / (2 * (1 + nu)), nu = nu)\n",
    "    \n",
    "    # density (kg / m^3)\n",
    "    rho: float\n",
    "    # Young's modulus (Pa) or elastic modulus: https://en.wikipedia.org/wiki/Young%27s_modulus\n",
    "    # Typically, wood is on the order of 10 gigapascals (10e9)\n",
    "    # E = 2 * G * (1 + nu)\n",
    "    E: float\n",
    "    # Shear modulus (Pa): https://en.wikipedia.org/wiki/Shear_modulus\n",
    "    # Typically, wood is on the order of 4 gigapascals (4e9)\n",
    "    G: float\n",
    "    # Poisson's ratio: https://en.wikipedia.org/wiki/Poisson%27s_ratio\n",
    "    # Most materials between 0.0 and 0.5; typically 0.2 to 0.3\n",
    "    nu: float\n",
    "\n",
    "class SweepTimoshenko(NamedTuple):\n",
    "    start_freq: float\n",
    "    stop_freq: float\n",
    "    num_freq: int\n",
    "    bisect_iters: int\n",
    "\n",
    "sweep_default = SweepTimoshenko(start_freq = 100, stop_freq = 10000, num_freq = 600, bisect_iters = 40)"
   ]
  },
  {
   "cell_type": "code",
   "execution_count": 6,
   "id": "14990f9a-385a-4141-a091-58b7cde63fa7",
   "metadata": {},
   "outputs": [],
   "source": [
    "tasmanian_oak = Consts.make_E_G(E = 6.067e9, G = 16.0303e9, rho = 611.0152)\n",
    "# https://vicbeam.com.au/product-information/\n",
    "# E = 21,000MPa; G = 1,400MPa, rho = 990kg/m^3\n",
    "# https://www.wood-database.com/spotted-gum/\n",
    "# E = 19.77GPa; rho = 940kg/m^3\n",
    "spotted_gum = Consts.make_E_G(E = 21.000e9, G = 1.4e9, rho = 990)\n",
    "\n",
    "# eastern indian rosewood\n",
    "# https://www.matweb.com/search/datasheet.aspx?matguid=e3b5a2a1a6794cddb47a91fbea57c18a&ckck=1\n",
    "# eastern_indian_rosewood = Consts(E = \n",
    "\n",
    "# Eucalyptus hemilampra\n",
    "# https://www.matweb.com/search/DataSheet.aspx?MatGUID=1022bc4dd73149399e4ad53d386cf458\n",
    "# Eucalyptus globulus\n",
    "# https://www.matweb.com/search/DataSheet.aspx?MatGUID=a246917e73594287b60e9338f85d511e\n",
    "\n",
    "# From supermediocre http://supermediocre.org/index.php/rich/richs-projects/xylophone-project/\n",
    "rosewood = Consts.make_E_G(E = 23.7e9, G = 19e9, rho = 1082)\n",
    "\n",
    "\n",
    "# Test from Numerical simulations of xylophones. I. Time-domain modeling of the vibrating bars (Chaigne, Doutaut, 1997)\n",
    "# Inferred properties from supermediocre\n",
    "wood_test_chaigne1997 = Consts.make_E_nu(E = 9.54E9, nu = 0.3, rho = 1015)\n"
   ]
  },
  {
   "cell_type": "code",
   "execution_count": 8,
   "id": "b3f62b99-d6f6-4298-b779-10fcdc130027",
   "metadata": {},
   "outputs": [
    {
     "data": {
      "text/plain": [
       "(6.5, -0.8107646145112692, -0.37631578947368416)"
      ]
     },
     "execution_count": 8,
     "metadata": {},
     "output_type": "execute_result"
    }
   ],
   "source": [
    "spotted_gum.nu, tasmanian_oak.nu, rosewood.nu"
   ]
  },
  {
   "cell_type": "code",
   "execution_count": 9,
   "id": "7f4c80e5-f611-442f-b0a4-f7375fe43200",
   "metadata": {},
   "outputs": [],
   "source": [
    "def make_bar_cubic(shape: Shape, cut: CutCubic) -> jnp.ndarray:\n",
    "    # length of each section\n",
    "    l = shape.length / shape.elements\n",
    "    # midpoint of each section\n",
    "    x = jnp.linspace(0 + l/2, shape.length / 2 - l/2, shape.elements // 2)\n",
    "    # cut-out\n",
    "    y = cut.cubic * (x ** 3) + cut.square * (x ** 2) + cut.offset\n",
    "    # clamped\n",
    "    yclamp = jnp.maximum(jnp.minimum(y, shape.depth), shape.min_depth)\n",
    "    \n",
    "    xmids = jnp.append( - jnp.flip(x), x)\n",
    "    depths = jnp.append( jnp.flip(yclamp), yclamp)\n",
    "    return Bar(xmids = xmids, depths = depths, length_per_element = l)"
   ]
  },
  {
   "cell_type": "code",
   "execution_count": 10,
   "id": "cc059504-c13e-47e0-b12b-4deeb9622098",
   "metadata": {},
   "outputs": [],
   "source": [
    "shape = Shape(width = 0.040, depth = 0.020, length = 0.450, elements = 300, min_depth = 0.010)\n",
    "cut = CutCubic(1.0, 1.0, 0.018)\n",
    "bar = make_bar_cubic(shape, cut)\n",
    "# bar"
   ]
  },
  {
   "cell_type": "code",
   "execution_count": 11,
   "id": "1dc87f30-352d-4d49-91a9-d2aa22a37325",
   "metadata": {},
   "outputs": [
    {
     "data": {
      "image/png": "[encoded data removed]",
      "text/plain": [
       "<Figure size 640x480 with 1 Axes>"
      ]
     },
     "metadata": {},
     "output_type": "display_data"
    }
   ],
   "source": [
    "bar.plot()"
   ]
  },
  {
   "cell_type": "code",
   "execution_count": 12,
   "id": "f6cb5044-ab59-4552-b005-80b04689449d",
   "metadata": {},
   "outputs": [],
   "source": [
    "def shear_factor_timoshenko(nu, w, b, num_terms = 15):\n",
    "    # shear factor - overridden in matlab\n",
    "    lambdas = jnp.full_like(b, 5/6)\n",
    "    return lambdas"
   ]
  },
  {
   "cell_type": "code",
   "execution_count": 16,
   "id": "80403438-3b50-44b9-b875-c63608b95e87",
   "metadata": {},
   "outputs": [],
   "source": [
    "def recept_timoshenko(consts: Consts, shape: Shape, bar: Bar, w: float):\n",
    "    I = shape.width * bar.depths ** 3 / 12\n",
    "    EI = consts.E * I\n",
    "    area = shape.width * bar.depths\n",
    "    lam = shear_factor_timoshenko(consts.nu, shape.width, bar.depths)\n",
    "    \n",
    "    lens = jnp.full_like(bar.depths, bar.length_per_element)\n",
    "    \n",
    "    aplus = 1 + consts.E / (lam * consts.G)\n",
    "    aminus = 1 - consts.E / (lam * consts.G)\n",
    "    \n",
    "    flipsign = w * w < lam * consts.G * area / (consts.rho * I)\n",
    "    sign = jnp.where(flipsign, 1, -1)\n",
    "    \n",
    "    m   = consts.rho * I * w * w\n",
    "    n   = jnp.sqrt(m * (m * aminus ** 2 + 4 * consts.E * area))\n",
    "    eta = jnp.sqrt(((-sign * m * aplus) + sign * n) / 2 * EI)\n",
    "    xi  = jnp.sqrt(((m * aplus) + n) / (2*EI))\n",
    "    s   = consts.rho * w * w / (lam * consts.G * xi) - xi\n",
    "    r   = consts.rho * w * w / (lam * consts.G * eta) + sign * eta\n",
    "    e   = r * eta ** 2 / (s * xi ** 2)\n",
    "    xi_len  = xi * lens\n",
    "    eta_len = eta * lens\n",
    "    c   = jnp.cos(xi_len)\n",
    "    ch  = jnp.cosh(eta_len)\n",
    "    si  = jnp.sin(xi_len)\n",
    "    sh  = jnp.sinh(eta_len)\n",
    "    f1  = si * sh\n",
    "    f2  = c * ch\n",
    "    f3  = f2 - 1\n",
    "    f4  = si * ch\n",
    "    f5  = c * sh\n",
    "    f6  = c - ch\n",
    "    recip_delta = 1 / (consts.rho * w * w * area * (2 - 2 * f2 + sign * (e + -sign / e)*f1))\n",
    "    \n",
    "    b11 = -sign * f5 * (r * eta ** 2 / (s * xi) - eta) + f4 * (s * xi ** 2 / (r * eta) - xi)\n",
    "    b12 = -sign * f3 * (s * xi + r * eta) + -sign * f1 * (r * eta ** 2 / xi + -sign * s * xi ** 2 / eta)\n",
    "    b22 = f4 * r * eta * (s - r * eta / xi) + f5 * s * xi * (r - s * xi / eta)\n",
    "\n",
    "    # add all of the remaining sections in section C\n",
    "    # signs_ref=[-1 1 1 1 -1 -1 -1 -1 -1 1   1 -1 -1  1];\n",
    "    #             1 2 3 4  5  6  7  8  9 10 11 12 13 14\n",
    "    gamma1_11 = b11 # -sign * f5 * (r * eta ** 2 / (s * xi) - eta) + f4 * (s * xi ** 2 / (r * eta) - xi)\n",
    "    gamma1_12 = -b12 # sign * f3 * (s * xi + r * eta) + sign * f1 * (r * eta ** 2 / xi + -sign * s * xi ** 2 / eta)\n",
    "    gamma1_22 = b22 # f4 * r * eta * (s - r * eta / xi) + f5 * s * xi * (r - s * xi / eta)\n",
    "    \n",
    "    gamma1 = recip_delta * jnp.array([[ gamma1_11, gamma1_12 ], [ gamma1_12, gamma1_22 ]])\n",
    "    \n",
    "    gamma2_11 = -sign * sh * (r * eta ** 2 / (s * xi) - eta) + si * (s * xi ** 2 / (r * eta) - xi)\n",
    "    gamma2_12 = -sign * f6 * (r * eta - s * xi)\n",
    "    gamma2_21 = -gamma2_12 # sign * f6 * (r * eta - s * xi)\n",
    "    gamma2_22 = sh * (r * s * xi - s ** 2 * xi ** 2 / eta) + si * (r * s * eta - r ** 2 * eta ** 2 / xi)\n",
    "    gamma2 = recip_delta * jnp.array([[ gamma2_11, gamma2_12 ], [ gamma2_21, gamma2_22 ]])\n",
    "    \n",
    "    gamma3 = gamma1 * jnp.array([[ [1], [-1] ], [ [-1], [1]]])\n",
    "    \n",
    "    beta0 = recip_delta[0] * jnp.array([ [ b11[0], b12[0] ], [ b12[0], b22[0] ] ]);\n",
    "    \n",
    "    result = jax.lax.fori_loop(1, shape.elements, lambda k, beta: gamma3.T[k] - gamma2.T[k].T * jnp.linalg.solve(gamma1.T[k] + beta, gamma2.T[k]), beta0)\n",
    "    return result\n",
    "\n",
    "def recept_timoshenko_11(consts: Consts, shape: Shape, bar: Bar, w: float):\n",
    "    return recept_timoshenko(consts, shape, bar, w)[0,0]"
   ]
  },
  {
   "cell_type": "code",
   "execution_count": 17,
   "id": "f040acf2-8d07-495f-956b-692d28c53f8b",
   "metadata": {},
   "outputs": [
    {
     "data": {
      "text/plain": [
       "Array([[-1.90989468e-04,  5.96427712e-04],\n",
       "       [ 5.96825785e-04,  5.19761205e-01]], dtype=float64)"
      ]
     },
     "execution_count": 17,
     "metadata": {},
     "output_type": "execute_result"
    }
   ],
   "source": [
    "recept_timoshenko(rosewood, shape, bar, 100)"
   ]
  },
  {
   "cell_type": "code",
   "execution_count": 19,
   "id": "71303f18-4984-4e39-88ac-d71bc16f9fc2",
   "metadata": {},
   "outputs": [
    {
     "name": "stdout",
     "output_type": "stream",
     "text": [
      "-0.0002879889915914039 0.0001114169351504758\n"
     ]
    },
    {
     "data": {
      "image/png": "[encoded data removed]",
      "text/plain": [
       "<Figure size 640x480 with 1 Axes>"
      ]
     },
     "metadata": {},
     "output_type": "display_data"
    }
   ],
   "source": [
    "StartFreq = 100\n",
    "StopFreq = 10000\n",
    "NumFreq = 100\n",
    "\n",
    "shape = Shape(width = 0.040, depth = 0.020, length = 0.450, elements = 300, min_depth = 0.010)\n",
    "cut = CutCubic(1, 1, 0.018)\n",
    "bar = make_bar_cubic(shape, cut)\n",
    "\n",
    "sweep = jnp.logspace(jnp.log10(StartFreq), jnp.log10(StopFreq), NumFreq)\n",
    "recepts = jax.vmap(lambda w: recept_timoshenko_11(rosewood, shape, bar, 2 * jnp.pi * w))(sweep)\n",
    "# plt.loglog(sweep / (2 * jnp.pi), recepts)\n",
    "# plt.semilogx(sweep / (2 * jnp.pi), recepts)\n",
    "plt.plot(sweep, recepts)\n",
    "\n",
    "print(jnp.min(recepts), jnp.max(recepts))\n",
    "\n"
   ]
  },
  {
   "cell_type": "code",
   "execution_count": 20,
   "id": "577d0ec6-dca2-4f1c-a9da-174b7b9b6275",
   "metadata": {},
   "outputs": [],
   "source": [
    "def bracket_natfreq(sweep: jnp.ndarray, recepts: jnp.ndarray):\n",
    "    sweeprecepts = jnp.stack([sweep, recepts]).T\n",
    "    \n",
    "    def bracket_go(pre, now):\n",
    "        # (pre, k) = prek\n",
    "        (pre_freq, pre_v) = (pre[0], pre[1])\n",
    "        (now_freq, now_v) = (now[0], now[1])\n",
    "        return (now, jnp.array([pre_freq, now_freq, jnp.logical_and(pre_v >= 0, now_v < 0)]))\n",
    "    _, brackets = jax.lax.scan(bracket_go, jnp.array([-1.0, -1.0]), sweeprecepts)\n",
    "    \n",
    "    nz = brackets[brackets[:,2].nonzero(size = 3, fill_value = 0)]\n",
    "    return nz"
   ]
  },
  {
   "cell_type": "code",
   "execution_count": 21,
   "id": "48e9790c-ef5f-4acc-85e6-5097352e6c42",
   "metadata": {},
   "outputs": [
    {
     "data": {
      "text/plain": [
       "Array([[1.91791026e+02, 2.00923300e+02, 1.00000000e+00],\n",
       "       [8.11130831e+02, 8.49753436e+02, 1.00000000e+00],\n",
       "       [1.70735265e+03, 1.78864953e+03, 1.00000000e+00]], dtype=float64)"
      ]
     },
     "execution_count": 21,
     "metadata": {},
     "output_type": "execute_result"
    }
   ],
   "source": [
    "brackets = bracket_natfreq(sweep, recepts)\n",
    "brackets"
   ]
  },
  {
   "cell_type": "code",
   "execution_count": 22,
   "id": "d1844aac-04d1-4ab0-acf6-0639a0c2b779",
   "metadata": {},
   "outputs": [],
   "source": [
    "def find_freq_timo(consts: Consts, shape: Shape, bar: Bar, bracket: jnp.ndarray, iters = 40, tolerance = 0.0001):\n",
    "    wlo = bracket[0]\n",
    "    whi = bracket[1]\n",
    "    ylo = recept_timoshenko_11(consts, shape, bar, 2 * jnp.pi * wlo)\n",
    "    yhi = recept_timoshenko_11(consts, shape, bar, 2 * jnp.pi * whi)\n",
    "\n",
    "    estimate = whi\n",
    "    dw = wlo - whi\n",
    "    state0 = jnp.array([estimate, dw])\n",
    "    def go(k: int, state: jnp.ndarray) -> jnp.ndarray:\n",
    "        estimate = state[0]\n",
    "        dw = state[1] * 0.5\n",
    "        wmid = estimate + dw\n",
    "        ymid = recept_timoshenko_11(consts, shape, bar, 2 * jnp.pi * wmid)\n",
    "        estimate = jnp.where(ymid <= 0, wmid, estimate)\n",
    "        # jax.debug.print(\"{estimate}: {ymid}\", estimate=estimate, ymid=ymid)\n",
    "        return jnp.array([estimate, dw])\n",
    "        \n",
    "    return jax.lax.fori_loop(0, iters, go, state0).T[0]\n"
   ]
  },
  {
   "cell_type": "code",
   "execution_count": 24,
   "id": "0f46e83a-3f1e-408b-bf10-0f1c932569e1",
   "metadata": {},
   "outputs": [
    {
     "data": {
      "text/plain": [
       "Array([ 197.74126093,  849.22352905, 1777.27196722], dtype=float64)"
      ]
     },
     "execution_count": 24,
     "metadata": {},
     "output_type": "execute_result"
    }
   ],
   "source": [
    "jax.vmap(lambda br: find_freq_timo(rosewood, shape, bar, br))(brackets)"
   ]
  },
  {
   "cell_type": "code",
   "execution_count": 25,
   "id": "39964ddb-db5f-4d26-ad08-34e2ea823b3f",
   "metadata": {},
   "outputs": [],
   "source": [
    "class SweepResult(NamedTuple):\n",
    "    sweep: jnp.ndarray\n",
    "    recepts: jnp.ndarray\n",
    "    harmonics: jnp.ndarray\n",
    "\n",
    "def sweep_timoshenko(consts: Consts, shape: Shape, bar: Bar, sweep_opts: SweepTimoshenko):\n",
    "    sweep = jnp.logspace(jnp.log10(sweep_opts.start_freq), jnp.log10(sweep_opts.stop_freq), sweep_opts.num_freq)\n",
    "    recepts = jax.vmap(lambda w: recept_timoshenko_11(consts, shape, bar, 2 * jnp.pi * w))(sweep)\n",
    "    # plt.loglog(sweep / (2 * jnp.pi), recepts)\n",
    "    # plt.semilogx(sweep / (2 * jnp.pi), recepts)\n",
    "    # plt.plot(sweep, recepts)\n",
    "    # print(jnp.min(recepts), jnp.max(recepts))\n",
    "\n",
    "    brackets = bracket_natfreq(sweep, recepts)\n",
    "    freqs = jax.vmap(lambda br: find_freq_timo(consts, shape, bar, br))(brackets)\n",
    "    return SweepResult(sweep = sweep, recepts = recepts, harmonics = freqs)"
   ]
  },
  {
   "cell_type": "code",
   "execution_count": 27,
   "id": "14c91fd1-eb54-4251-a117-c42944c4c830",
   "metadata": {},
   "outputs": [
    {
     "data": {
      "text/plain": [
       "CutCubic(cubic=1, square=1, offset=0.018)"
      ]
     },
     "execution_count": 27,
     "metadata": {},
     "output_type": "execute_result"
    }
   ],
   "source": [
    "recept_timoshenko(rosewood, shape, bar, 2672.367 * 2 * jnp.pi)\n",
    "cut"
   ]
  },
  {
   "cell_type": "code",
   "execution_count": 46,
   "id": "b2124127-d58a-4f22-a324-9c65e900572e",
   "metadata": {},
   "outputs": [
    {
     "data": {
      "text/plain": [
       "Array([ 450.84809956, 1781.46432492, 3931.00127302], dtype=float64)"
      ]
     },
     "execution_count": 46,
     "metadata": {},
     "output_type": "execute_result"
    },
    {
     "data": {
      "image/png": "[encoded data removed]",
      "text/plain": [
       "<Figure size 640x480 with 1 Axes>"
      ]
     },
     "metadata": {},
     "output_type": "display_data"
    }
   ],
   "source": [
    "# sweep = sweep_timoshenko(consts, shape, bar, sweep)\n",
    "sweep = sweep_timoshenko(rosewood, shape, bar, SweepTimoshenko(start_freq=100, stop_freq=5500, num_freq=1000, bisect_iters=40))\n",
    "plt.plot(sweep.sweep, sweep.recepts)\n",
    "# plt.semilogx(sweep.sweep, sweep.recepts)\n",
    "sweep.harmonics\n",
    "# print(jnp.stack([sweep.sweep, sweep.recepts]).T)"
   ]
  },
  {
   "cell_type": "code",
   "execution_count": 30,
   "id": "96420e03-18ed-4b5a-bc27-4f0a4bef55a3",
   "metadata": {},
   "outputs": [],
   "source": [
    "@partial(jax.jit, static_argnames=['consts', 'shape', 'sweep_opts'])\n",
    "def loss(cut: CutCubic, consts: Consts, shape: Shape, sweep_opts: SweepTimoshenko, target: jnp.ndarray, weights: jnp.ndarray = jnp.array([1.0, 0.5, 0.25])):\n",
    "    bar = make_bar_cubic(shape, cut)\n",
    "    # jax.debug.print(\"{c}; {b}\", c = cut, b = bar.depths)\n",
    "    sweep = sweep_timoshenko(consts, shape, bar, sweep_opts)\n",
    "    diff = jnp.abs((target - sweep.harmonics) / target)\n",
    "    loss = diff * weights\n",
    "    # jax.debug.print(\"{c} T {t}; A {h}: loss {d}\", c = cut, t = target, h = sweep.harmonics, d = loss)\n",
    "    return jnp.sum(loss)\n",
    "    "
   ]
  },
  {
   "cell_type": "code",
   "execution_count": 31,
   "id": "54685fe5-5d3e-4083-a127-67848c578c61",
   "metadata": {},
   "outputs": [],
   "source": [
    "import scipy\n"
   ]
  },
  {
   "cell_type": "code",
   "execution_count": 33,
   "id": "79fd0898-0eba-41ae-ab82-bccfc7e0af01",
   "metadata": {},
   "outputs": [
    {
     "name": "stdout",
     "output_type": "stream",
     "text": [
      "Optimization terminated successfully.\n",
      "         Current function value: 0.045516\n",
      "         Iterations: 204\n",
      "         Function evaluations: 381\n",
      "[0.00949981 0.01156012 0.01901974]\n"
     ]
    },
    {
     "data": {
      "image/png": "[encoded data removed]",
      "text/plain": [
       "<Figure size 640x480 with 1 Axes>"
      ]
     },
     "metadata": {},
     "output_type": "display_data"
    }
   ],
   "source": [
    "tasmanian_oak = Consts.make_E_G(E = 6.067e9, G = 16.0303e9, rho = 611.0152)\n",
    "consts = tasmanian_oak\n",
    "shape = Shape(width = 0.065, depth = 0.0192, length = 0.300, elements = 300, min_depth = 0.010)\n",
    "\n",
    "target = 300 * jnp.array([1.0, 4.0, 9.8])\n",
    "\n",
    "def scipy_go(x, consts, shape, sweep_default, target):\n",
    "    cut = CutCubic(x[0], x[1], x[2])\n",
    "    # consts, shape, sweep_default, target = args\n",
    "    return loss(cut, consts, shape, sweep_default, target, weights = jnp.array([1.0, 0.8, 0.5]))\n",
    "\n",
    "x = np.linspace(0, 1, 10)\n",
    "y = np.linspace(0, 1, 10)\n",
    "z = np.linspace(shape.min_depth, shape.depth, 10)\n",
    "xv, yv, zv = np.meshgrid(x, y, z)\n",
    "\n",
    "x0 = np.array([0.0, 0.0, 0.0192])\n",
    "# x0 = np.array([0.5, 0.5, 0.01834])\n",
    "r = scipy.optimize.fmin(scipy_go, x0, args = (consts, shape, sweep_default, target), ftol=1e-9, xtol=1e-9)\n",
    "# r = scipy.optimize.minimize(scipy_go, x0, args = (consts, shape, sweep_default, target), tol = 1e-5) # , options = { 'maxiter': 100}) #, tol=1e-10)\n",
    "# r = scipy.optimize.minimize(scipy_go, x0, args = (consts, shape, sweep_default, target))\n",
    "\n",
    "print(r)\n",
    "\n",
    "bar = make_bar_cubic(shape, CutCubic(r[0], r[1], r[2]))\n",
    "bar.plot(to_scale = False)"
   ]
  },
  {
   "cell_type": "code",
   "execution_count": 35,
   "id": "40465d1d-74a3-48e4-bbf7-d4aeae0fe6ca",
   "metadata": {
    "scrolled": true
   },
   "outputs": [
    {
     "name": "stdout",
     "output_type": "stream",
     "text": [
      "CPU times: user 11.6 s, sys: 1.52 s, total: 13.1 s\n",
      "Wall time: 5.21 s\n"
     ]
    }
   ],
   "source": [
    "%%time\n",
    "x = np.linspace(0, 2, 5)\n",
    "y = np.linspace(0, 2, 5)\n",
    "z = np.linspace(shape.min_depth, shape.depth, 5)\n",
    "xv, yv, zv = np.meshgrid(x, y, z)\n",
    "\n",
    "# r = scipy.optimize.fmin(scipy_go, x0, args = (consts, shape, sweep_default, target), ftol=1e-9, xtol=1e-9)\n",
    "\n",
    "losses = jax.vmap(lambda x, y, z: jnp.array([scipy_go(jnp.array([x, y, z]), consts, shape, sweep_default, target), x, y, z]))(xv.flatten(), yv.flatten(), zv.flatten())\n",
    "best = jnp.argmin(losses, axis = 0)[0]\n",
    "xyz = losses[best, 1:]"
   ]
  },
  {
   "cell_type": "code",
   "execution_count": 36,
   "id": "1dac802b-27db-4210-b2fb-3dc990e7cc19",
   "metadata": {},
   "outputs": [
    {
     "name": "stdout",
     "output_type": "stream",
     "text": [
      "[0.     0.     0.0192]\n"
     ]
    },
    {
     "data": {
      "text/plain": [
       "Array([ 303.79820951, 1207.10488165, 2684.88637587], dtype=float64)"
      ]
     },
     "execution_count": 36,
     "metadata": {},
     "output_type": "execute_result"
    },
    {
     "data": {
      "image/png": "[encoded data removed]",
      "text/plain": [
       "<Figure size 640x480 with 1 Axes>"
      ]
     },
     "metadata": {},
     "output_type": "display_data"
    }
   ],
   "source": [
    "print(xyz)\n",
    "bar = make_bar_cubic(shape, CutCubic(xyz[0], xyz[1], xyz[2]))\n",
    "bar.plot(to_scale = False)\n",
    "\n",
    "sweep = sweep_timoshenko(consts, shape, bar, sweep_default)\n",
    "sweep.harmonics"
   ]
  },
  {
   "cell_type": "code",
   "execution_count": 37,
   "id": "9baf5523-908f-4a85-8236-ad1d87f17ed2",
   "metadata": {},
   "outputs": [
    {
     "name": "stdout",
     "output_type": "stream",
     "text": [
      "[ 1.94525481e-04  2.57710823e-05 -2.63521243e-07]\n",
      "-0.00020734514230708262\n"
     ]
    }
   ],
   "source": [
    "def recept_loss(cut, consts, shape, ws):\n",
    "    bar = make_bar_cubic(shape, cut)\n",
    "    wsT = ws.T\n",
    "    rs  = jax.vmap(lambda w: recept_timoshenko_11(consts, shape, bar, w))(wsT[0] * 2 * jnp.pi)\n",
    "    # rs  = jnp.maximum(0.0, rs)\n",
    "    # jax.debug.print(\"{c} T {t}; A {h}: loss {d}\", c = cut, t = target, h = sweep.harmonics, d = loss)\n",
    "    jax.debug.print(\"{rs}\", rs=rs)\n",
    "    return -jnp.dot(rs, wsT[1])\n",
    "\n",
    "# cut = CutCubic(x[0], x[1], x[2])\n",
    "\n",
    "# print(jax.grad(recept_loss, argnums=[0])(CutCubic(0.0, 0.0, 0.0192), consts, shape, jnp.array([[300, 1.0], [1200, 0.5], [2940, 0.25]])))\n",
    "print(recept_loss(CutCubic(0.0, 0.0, 0.0192), consts, shape, jnp.array([[300, 1.0], [1200, 0.5], [2940, 0.25]])))\n",
    "# print(recept_loss(CutCubic(0.0, 0.0, 0.0192), consts, shape, jnp.array([[300, 1.0], [1200, 0.5], [2940, 0.25]])))\n"
   ]
  },
  {
   "cell_type": "code",
   "execution_count": 38,
   "id": "eae71424-5741-4138-986a-93a2f460a1ac",
   "metadata": {},
   "outputs": [],
   "source": [
    "import optimistix"
   ]
  },
  {
   "cell_type": "code",
   "execution_count": 39,
   "id": "91b5cf4a-9031-4b15-9dd8-68b869e1f77a",
   "metadata": {},
   "outputs": [
    {
     "name": "stdout",
     "output_type": "stream",
     "text": [
      "[ 5.03072329e-04  1.86788741e-05 -2.50558822e-07  1.06571680e-05\n",
      "  1.58772538e-03  3.68639183e-07  2.07793064e-05  6.22352605e-08\n",
      " -2.49372333e-07]\n",
      "[ 1.94525481e-04  2.57710823e-05 -2.63521243e-07  1.04547750e-05\n",
      "  2.62961887e-04  3.68153885e-07  2.99621022e-05  5.94080221e-08\n",
      " -2.62232370e-07]\n",
      "[ 1.94525481e-04  2.57710823e-05 -2.63521243e-07  1.04547750e-05\n",
      "  2.62961887e-04  3.68153885e-07  2.99621022e-05  5.94080221e-08\n",
      " -2.62232370e-07]\n",
      "Solution(\n",
      "  value=f64[3],\n",
      "  result=EnumerationItem(\n",
      "    _value=i32[],\n",
      "    _enumeration=<class 'optimistix._solution.RESULTS'>\n",
      "  ),\n",
      "  aux=None,\n",
      "  stats={'max_steps': 256, 'num_steps': i64[]},\n",
      "  state=_GradientDescentState(\n",
      "    first_step=bool[],\n",
      "    y_eval=f64[3],\n",
      "    search_state=None,\n",
      "    f_info=EvalGrad(f=f64[], grad=f64[3]),\n",
      "    aux=None,\n",
      "    descent_state=_SteepestDescentState(grad=f64[3]),\n",
      "    terminate=bool[],\n",
      "    result=EnumerationItem(\n",
      "      _value=i32[],\n",
      "      _enumeration=<class 'optimistix._solution.RESULTS'>\n",
      "    )\n",
      "  )\n",
      ")\n"
     ]
    },
    {
     "data": {
      "text/plain": [
       "Array([0.1       , 0.10000013, 0.01923142], dtype=float64)"
      ]
     },
     "execution_count": 39,
     "metadata": {},
     "output_type": "execute_result"
    }
   ],
   "source": [
    "weights = jnp.array([[300, 1.0], [1200, 0.8], [2940, 0.6],\n",
    "                     [200, -0.5], [301, -0.5],\n",
    "                     [800, -0.4], [1201, -0.4],\n",
    "                     [2000, -0.3], [2941, -0.3]])\n",
    "\n",
    "solver = optimistix.GradientDescent(learning_rate = 1e-5, rtol = 1e-5, atol=1e-5)\n",
    "\n",
    "res = optimistix.minimise(lambda x, args: recept_loss(CutCubic(x[0], x[1], x[2]), *args), solver, jnp.array([0.1, 0.1, 0.019]), args = (consts, shape, weights))\n",
    "# res = optimistix.compat.minimize(lambda x, *args: recept_loss(CutCubic(x[0], x[1], x[2]), *args), jnp.array([0.1, 0.1, 0.019]), args = (consts, shape, weights), method = 'bfgs')\n",
    "print(res)\n",
    "res.value"
   ]
  },
  {
   "cell_type": "code",
   "execution_count": 40,
   "id": "a541e308-5293-4044-9f21-7d9577e5d744",
   "metadata": {},
   "outputs": [
    {
     "name": "stdout",
     "output_type": "stream",
     "text": [
      "[ 303.79820951 1207.10488165 2684.88637587]\n"
     ]
    },
    {
     "data": {
      "image/png": "[encoded data removed]",
      "text/plain": [
       "<Figure size 640x480 with 1 Axes>"
      ]
     },
     "metadata": {},
     "output_type": "display_data"
    }
   ],
   "source": [
    "cut = CutCubic(res.value[0], res.value[1], res.value[2])\n",
    "# cut = CutCubic(res.x[0], res.x[1], res.x[2])\n",
    "# cut = CutCubic(0.0, 0.0, 0.0192)\n",
    "\n",
    "bar = make_bar_cubic(shape, cut)\n",
    "bar.plot(to_scale = False)\n",
    "\n",
    "sweep = sweep_timoshenko(consts, shape, bar, sweep_default)\n",
    "print(sweep.harmonics)"
   ]
  },
  {
   "cell_type": "code",
   "execution_count": null,
   "id": "a326bcfd-cf1c-47e2-9cb3-ab3e97f4a400",
   "metadata": {},
   "outputs": [],
   "source": []
  }
 ],
 "metadata": {
  "kernelspec": {
   "display_name": "Python 3 (ipykernel)",
   "language": "python",
   "name": "python3"
  },
  "language_info": {
   "codemirror_mode": {
    "name": "ipython",
    "version": 3
   },
   "file_extension": ".py",
   "mimetype": "text/x-python",
   "name": "python",
   "nbconvert_exporter": "python",
   "pygments_lexer": "ipython3",
   "version": "3.11.2"
  }
 },
 "nbformat": 4,
 "nbformat_minor": 5
}
