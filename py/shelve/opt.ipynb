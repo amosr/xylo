{
 "cells": [
  {
   "cell_type": "code",
   "execution_count": 3,
   "id": "d37c120f",
   "metadata": {},
   "outputs": [
    {
     "name": "stdout",
     "output_type": "stream",
     "text": [
      "The autoreload extension is already loaded. To reload it, use:\n",
      "  %reload_ext autoreload\n"
     ]
    }
   ],
   "source": [
    "%load_ext autoreload\n",
    "%autoreload 2"
   ]
  },
  {
   "cell_type": "code",
   "execution_count": 9,
   "id": "473d1e40-289e-4f2e-a586-7923b754f47e",
   "metadata": {},
   "outputs": [],
   "source": [
    "import jax\n",
    "import jax.numpy as jnp\n",
    "import numpy as np\n",
    "import matplotlib.pyplot as plt\n",
    "import optimistix\n",
    "\n",
    "from typing import NamedTuple\n",
    "from functools import partial"
   ]
  },
  {
   "cell_type": "code",
   "execution_count": 10,
   "id": "596c2ad9-704b-4cdc-9c63-9ea10f6fd97f",
   "metadata": {},
   "outputs": [],
   "source": [
    "import xylo\n",
    "import xylo.types as t\n",
    "import xylo.woods\n",
    "import xylo.cut\n",
    "\n",
    "import xylo.receptance as r\n",
    "import xylo.sweep as xs\n",
    "\n",
    "import xylo.loss.receptance as xlr"
   ]
  },
  {
   "cell_type": "code",
   "execution_count": 11,
   "id": "ea062785-5d51-40e3-a7bf-ba4c5efff1ff",
   "metadata": {},
   "outputs": [
    {
     "name": "stderr",
     "output_type": "stream",
     "text": [
      "2024-05-12 07:44:35,212 - jax._src.xla_bridge - INFO - Unable to initialize backend 'cuda': \n",
      "2024-05-12 07:44:35,212 - jax._src.xla_bridge - INFO - Unable to initialize backend 'rocm': module 'jaxlib.xla_extension' has no attribute 'GpuAllocatorConfig'\n",
      "2024-05-12 07:44:35,213 - jax._src.xla_bridge - INFO - Unable to initialize backend 'tpu': INTERNAL: Failed to open libtpu.so: libtpu.so: cannot open shared object file: No such file or directory\n"
     ]
    },
    {
     "data": {
      "image/png": "[encoded data removed]",
      "text/plain": [
       "<Figure size 640x480 with 1 Axes>"
      ]
     },
     "metadata": {},
     "output_type": "display_data"
    }
   ],
   "source": [
    "bar = t.BarProps(width = 0.040, depth = 0.020, length = 0.450, elements = 300, min_depth = 0.010)\n",
    "cut = t.CutCubic(1.0, 1.0, 0.018)\n",
    "sections = xylo.cut.cubic(bar, cut)\n",
    "sections.plot(to_scale = False)"
   ]
  },
  {
   "cell_type": "code",
   "execution_count": 12,
   "id": "4b2f365d-58ba-440c-8e85-b4c2442ea9d0",
   "metadata": {},
   "outputs": [
    {
     "data": {
      "text/plain": [
       "Array([[-0.00102943, -0.00340451],\n",
       "       [-0.00340451, -0.01493466]], dtype=float64)"
      ]
     },
     "execution_count": 12,
     "metadata": {},
     "output_type": "execute_result"
    }
   ],
   "source": [
    "r.receptance(xylo.woods.rosewood, bar, sections, 100)"
   ]
  },
  {
   "cell_type": "code",
   "execution_count": 13,
   "id": "3093ceea",
   "metadata": {},
   "outputs": [
    {
     "data": {
      "text/plain": [
       "Array([ 442.08937228, 1239.27592341, 2283.35923444], dtype=float64)"
      ]
     },
     "execution_count": 13,
     "metadata": {},
     "output_type": "execute_result"
    }
   ],
   "source": [
    "sweep_opts = t.sweep_default\n",
    "xs.sweep(xylo.woods.rosewood, bar, sections, sweep_opts).harmonics"
   ]
  },
  {
   "cell_type": "code",
   "execution_count": 14,
   "id": "71d91527-ffb3-470e-889e-54f6ef5f3ca3",
   "metadata": {},
   "outputs": [
    {
     "name": "stdout",
     "output_type": "stream",
     "text": [
      "[-3.43551010e-06  1.35123164e-04 -3.50087950e-07 -1.40016879e-06\n",
      " -1.70734356e-07  5.01923723e-07]\n",
      "[-3.57550751e-06  1.16145308e-05 -3.74859815e-07 -1.40249622e-06\n",
      " -1.83761439e-07  2.60778180e-07]\n",
      "[-3.57550751e-06  1.16145308e-05 -3.74859815e-07 -1.40249622e-06\n",
      " -1.83761439e-07  2.60778180e-07]\n",
      "[-3.57550751e-06  1.16145308e-05 -3.74859815e-07 -1.40249622e-06\n",
      " -1.83761439e-07  2.60778180e-07]\n",
      "[-3.57550751e-06  1.16145308e-05 -3.74859815e-07 -1.40249622e-06\n",
      " -1.83761439e-07  2.60778180e-07]\n",
      "[-3.57550751e-06  1.16145308e-05 -3.74859815e-07 -1.40249622e-06\n",
      " -1.83761439e-07  2.60778180e-07]\n",
      "[-3.57550751e-06  1.16145308e-05 -3.74859815e-07 -1.40249622e-06\n",
      " -1.83761439e-07  2.60778180e-07]\n",
      "[-3.57550751e-06  1.16145308e-05 -3.74859815e-07 -1.40249622e-06\n",
      " -1.83761439e-07  2.60778180e-07]\n",
      "[-3.57550751e-06  1.16145308e-05 -3.74859815e-07 -1.40249622e-06\n",
      " -1.83761439e-07  2.60778180e-07]\n",
      "[-3.57550751e-06  1.16145308e-05 -3.74859815e-07 -1.40249622e-06\n",
      " -1.83761439e-07  2.60778180e-07]\n",
      "[-3.57532643e-06  1.16315529e-05 -3.74824682e-07 -1.40261873e-06\n",
      " -1.83742825e-07  2.61093113e-07]\n",
      "[-3.52997775e-06  1.75893987e-05 -3.66211231e-07 -1.41632646e-06\n",
      " -1.79225971e-07  3.36761104e-07]\n",
      "[-3.53093040e-06  1.74150046e-05 -3.66386504e-07 -1.41625199e-06\n",
      " -1.79317772e-07  3.35172104e-07]\n",
      "[-3.56628854e-06  1.25305088e-05 -3.73068616e-07 -1.40749543e-06\n",
      " -1.82818526e-07  2.76380866e-07]\n",
      "[-3.57487234e-06  1.16743795e-05 -3.74736457e-07 -1.40291628e-06\n",
      " -1.83696147e-07  2.61878149e-07]\n",
      "[-3.57550751e-06  1.16145308e-05 -3.74859815e-07 -1.40249622e-06\n",
      " -1.83761439e-07  2.60778180e-07]\n",
      "[-3.57550751e-06  1.16145308e-05 -3.74859815e-07 -1.40249622e-06\n",
      " -1.83761439e-07  2.60778180e-07]\n"
     ]
    }
   ],
   "source": [
    "# solver = optimistix.GradientDescent(learning_rate = 0.001, rtol = 0.0000001, atol = 0.0000001)\n",
    "solver = optimistix.BFGS(rtol = 0.0000001, atol = 0.0000001)\n",
    "# solver = optimistix.NonlinearCG(rtol = 0.000001, atol = 0.000001)\n",
    "\n",
    "solver = optimistix.BestSoFarMinimiser(solver)\n",
    "\n",
    "y0 = t.CutCubic(1.0, 1.0, 0.018)\n",
    "\n",
    "fundamental = 440\n",
    "\n",
    "args = (xylo.woods.rosewood, bar, fundamental, jnp.array([[0.5, 0.5], [1, -1.0], [2, 0.5], [3, -0.9], [4, 0.5], [5, -0.8]]))\n",
    "\n",
    "sol = optimistix.minimise(xlr.loss_, solver = solver, y0 = y0, args = args, max_steps = None)"
   ]
  },
  {
   "cell_type": "code",
   "execution_count": 15,
   "id": "15caecec",
   "metadata": {},
   "outputs": [
    {
     "name": "stdout",
     "output_type": "stream",
     "text": [
      "CutCubic(cubic=Array(0.99999064, dtype=float64), square=Array(0.99977699, dtype=float64), offset=Array(0.01993777, dtype=float64))\n"
     ]
    }
   ],
   "source": [
    "print(sol.value)"
   ]
  },
  {
   "cell_type": "code",
   "execution_count": 16,
   "id": "ce8343f8",
   "metadata": {},
   "outputs": [
    {
     "data": {
      "text/plain": [
       "Array([ 462.28412659, 1238.81075248, 2332.77168349], dtype=float64)"
      ]
     },
     "execution_count": 16,
     "metadata": {},
     "output_type": "execute_result"
    }
   ],
   "source": [
    "sweep_opts = t.sweep_default\n",
    "sec = xylo.cut.cubic(bar, sol.value)\n",
    "xs.sweep(xylo.woods.rosewood, bar, sec, sweep_opts).harmonics"
   ]
  },
  {
   "cell_type": "code",
   "execution_count": 17,
   "id": "4e24193d",
   "metadata": {},
   "outputs": [],
   "source": [
    "\n",
    "import pyswarms as ps\n",
    "from pyswarms.utils.functions import single_obj as fx"
   ]
  },
  {
   "cell_type": "code",
   "execution_count": 18,
   "id": "4a56f1c1",
   "metadata": {},
   "outputs": [
    {
     "name": "stderr",
     "output_type": "stream",
     "text": [
      "2024-05-12 07:44:40,371 - pyswarms.single.global_best - INFO - Optimize for 1000 iters with {'c1': 0.5, 'c2': 0.3, 'w': 0.9}\n",
      "pyswarms.single.global_best:   0%|          |0/1000\n"
     ]
    },
    {
     "ename": "TypeError",
     "evalue": "loss_() missing 1 required positional argument: 'args'",
     "output_type": "error",
     "traceback": [
      "\u001b[0;31m---------------------------------------------------------------------------\u001b[0m",
      "\u001b[0;31mTypeError\u001b[0m                                 Traceback (most recent call last)",
      "Cell \u001b[0;32mIn[18], line 8\u001b[0m\n\u001b[1;32m      5\u001b[0m optimizer \u001b[38;5;241m=\u001b[39m ps\u001b[38;5;241m.\u001b[39msingle\u001b[38;5;241m.\u001b[39mGlobalBestPSO(n_particles\u001b[38;5;241m=\u001b[39m\u001b[38;5;241m10\u001b[39m, dimensions\u001b[38;5;241m=\u001b[39m\u001b[38;5;241m2\u001b[39m, options\u001b[38;5;241m=\u001b[39moptions)\n\u001b[1;32m      7\u001b[0m \u001b[38;5;66;03m# Perform optimization\u001b[39;00m\n\u001b[0;32m----> 8\u001b[0m cost, pos \u001b[38;5;241m=\u001b[39m \u001b[43moptimizer\u001b[49m\u001b[38;5;241;43m.\u001b[39;49m\u001b[43moptimize\u001b[49m\u001b[43m(\u001b[49m\u001b[43mxlr\u001b[49m\u001b[38;5;241;43m.\u001b[39;49m\u001b[43mloss_\u001b[49m\u001b[43m,\u001b[49m\u001b[43m \u001b[49m\u001b[43miters\u001b[49m\u001b[38;5;241;43m=\u001b[39;49m\u001b[38;5;241;43m1000\u001b[39;49m\u001b[43m)\u001b[49m\n",
      "File \u001b[0;32m~/proj/xylo/.venv/lib/python3.11/site-packages/pyswarms/single/global_best.py:209\u001b[0m, in \u001b[0;36mGlobalBestPSO.optimize\u001b[0;34m(self, objective_func, iters, n_processes, verbose, **kwargs)\u001b[0m\n\u001b[1;32m    205\u001b[0m ftol_history \u001b[38;5;241m=\u001b[39m deque(maxlen\u001b[38;5;241m=\u001b[39m\u001b[38;5;28mself\u001b[39m\u001b[38;5;241m.\u001b[39mftol_iter)\n\u001b[1;32m    206\u001b[0m \u001b[38;5;28;01mfor\u001b[39;00m i \u001b[38;5;129;01min\u001b[39;00m \u001b[38;5;28mself\u001b[39m\u001b[38;5;241m.\u001b[39mrep\u001b[38;5;241m.\u001b[39mpbar(iters, \u001b[38;5;28mself\u001b[39m\u001b[38;5;241m.\u001b[39mname) \u001b[38;5;28;01mif\u001b[39;00m verbose \u001b[38;5;28;01melse\u001b[39;00m \u001b[38;5;28mrange\u001b[39m(iters):\n\u001b[1;32m    207\u001b[0m     \u001b[38;5;66;03m# Compute cost for current position and personal best\u001b[39;00m\n\u001b[1;32m    208\u001b[0m     \u001b[38;5;66;03m# fmt: off\u001b[39;00m\n\u001b[0;32m--> 209\u001b[0m     \u001b[38;5;28mself\u001b[39m\u001b[38;5;241m.\u001b[39mswarm\u001b[38;5;241m.\u001b[39mcurrent_cost \u001b[38;5;241m=\u001b[39m \u001b[43mcompute_objective_function\u001b[49m\u001b[43m(\u001b[49m\u001b[38;5;28;43mself\u001b[39;49m\u001b[38;5;241;43m.\u001b[39;49m\u001b[43mswarm\u001b[49m\u001b[43m,\u001b[49m\u001b[43m \u001b[49m\u001b[43mobjective_func\u001b[49m\u001b[43m,\u001b[49m\u001b[43m \u001b[49m\u001b[43mpool\u001b[49m\u001b[38;5;241;43m=\u001b[39;49m\u001b[43mpool\u001b[49m\u001b[43m,\u001b[49m\u001b[43m \u001b[49m\u001b[38;5;241;43m*\u001b[39;49m\u001b[38;5;241;43m*\u001b[39;49m\u001b[43mkwargs\u001b[49m\u001b[43m)\u001b[49m\n\u001b[1;32m    210\u001b[0m     \u001b[38;5;28mself\u001b[39m\u001b[38;5;241m.\u001b[39mswarm\u001b[38;5;241m.\u001b[39mpbest_pos, \u001b[38;5;28mself\u001b[39m\u001b[38;5;241m.\u001b[39mswarm\u001b[38;5;241m.\u001b[39mpbest_cost \u001b[38;5;241m=\u001b[39m compute_pbest(\u001b[38;5;28mself\u001b[39m\u001b[38;5;241m.\u001b[39mswarm)\n\u001b[1;32m    211\u001b[0m     \u001b[38;5;66;03m# Set best_cost_yet_found for ftol\u001b[39;00m\n",
      "File \u001b[0;32m~/proj/xylo/.venv/lib/python3.11/site-packages/pyswarms/backend/operators.py:239\u001b[0m, in \u001b[0;36mcompute_objective_function\u001b[0;34m(swarm, objective_func, pool, **kwargs)\u001b[0m\n\u001b[1;32m    214\u001b[0m \u001b[38;5;250m\u001b[39m\u001b[38;5;124;03m\"\"\"Evaluate particles using the objective function\u001b[39;00m\n\u001b[1;32m    215\u001b[0m \n\u001b[1;32m    216\u001b[0m \u001b[38;5;124;03mThis method evaluates each particle in the swarm according to the objective\u001b[39;00m\n\u001b[0;32m   (...)\u001b[0m\n\u001b[1;32m    236\u001b[0m \u001b[38;5;124;03m    Cost-matrix for the given swarm\u001b[39;00m\n\u001b[1;32m    237\u001b[0m \u001b[38;5;124;03m\"\"\"\u001b[39;00m\n\u001b[1;32m    238\u001b[0m \u001b[38;5;28;01mif\u001b[39;00m pool \u001b[38;5;129;01mis\u001b[39;00m \u001b[38;5;28;01mNone\u001b[39;00m:\n\u001b[0;32m--> 239\u001b[0m     \u001b[38;5;28;01mreturn\u001b[39;00m \u001b[43mobjective_func\u001b[49m\u001b[43m(\u001b[49m\u001b[43mswarm\u001b[49m\u001b[38;5;241;43m.\u001b[39;49m\u001b[43mposition\u001b[49m\u001b[43m,\u001b[49m\u001b[43m \u001b[49m\u001b[38;5;241;43m*\u001b[39;49m\u001b[38;5;241;43m*\u001b[39;49m\u001b[43mkwargs\u001b[49m\u001b[43m)\u001b[49m\n\u001b[1;32m    240\u001b[0m \u001b[38;5;28;01melse\u001b[39;00m:\n\u001b[1;32m    241\u001b[0m     results \u001b[38;5;241m=\u001b[39m pool\u001b[38;5;241m.\u001b[39mmap(\n\u001b[1;32m    242\u001b[0m         partial(objective_func, \u001b[38;5;241m*\u001b[39m\u001b[38;5;241m*\u001b[39mkwargs),\n\u001b[1;32m    243\u001b[0m         np\u001b[38;5;241m.\u001b[39marray_split(swarm\u001b[38;5;241m.\u001b[39mposition, pool\u001b[38;5;241m.\u001b[39m_processes),\n\u001b[1;32m    244\u001b[0m     )\n",
      "\u001b[0;31mTypeError\u001b[0m: loss_() missing 1 required positional argument: 'args'"
     ]
    }
   ],
   "source": [
    "# Set-up hyperparameters\n",
    "options = {'c1': 0.5, 'c2': 0.3, 'w':0.9}\n",
    "\n",
    "# Call instance of PSO\n",
    "optimizer = ps.single.GlobalBestPSO(n_particles=10, dimensions=2, options=options)\n",
    "\n",
    "# Perform optimization\n",
    "cost, pos = optimizer.optimize(xlr.loss_, iters=1000)"
   ]
  },
  {
   "cell_type": "code",
   "execution_count": null,
   "id": "547dd3b7",
   "metadata": {},
   "outputs": [],
   "source": []
  }
 ],
 "metadata": {
  "kernelspec": {
   "display_name": "Python 3 (ipykernel)",
   "language": "python",
   "name": "python3"
  },
  "language_info": {
   "codemirror_mode": {
    "name": "ipython",
    "version": 3
   },
   "file_extension": ".py",
   "mimetype": "text/x-python",
   "name": "python",
   "nbconvert_exporter": "python",
   "pygments_lexer": "ipython3",
   "version": "3.11.2"
  }
 },
 "nbformat": 4,
 "nbformat_minor": 5
}
