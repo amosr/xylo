{
 "cells": [
  {
   "cell_type": "code",
   "execution_count": 7,
   "metadata": {},
   "outputs": [],
   "source": [
    "%load_ext autoreload\n",
    "%autoreload 2"
   ]
  },
  {
   "cell_type": "code",
   "execution_count": 8,
   "metadata": {},
   "outputs": [],
   "source": [
    "import jax\n",
    "import jax.numpy as jnp\n",
    "import numpy as np\n",
    "import matplotlib.pyplot as plt\n",
    "\n",
    "from typing import NamedTuple\n",
    "from functools import partial\n",
    "import math\n",
    "import json"
   ]
  },
  {
   "cell_type": "code",
   "execution_count": 35,
   "metadata": {},
   "outputs": [],
   "source": [
    "import xylo\n",
    "import xylo.types as t\n",
    "import xylo.cut\n",
    "import xylo.slicer as s\n",
    "import xylo.database\n",
    "import xylo.sweep as xs"
   ]
  },
  {
   "cell_type": "code",
   "execution_count": 10,
   "metadata": {},
   "outputs": [],
   "source": [
    "note = 61"
   ]
  },
  {
   "cell_type": "code",
   "execution_count": 18,
   "metadata": {},
   "outputs": [],
   "source": [
    "db = xylo.database.get()\n",
    "bar = db.get_bar(note)\n",
    "best = db.get_best(note)\n",
    "spline = jnp.array(best['coeff'])\n",
    "with open(f\"data/gcode/{note}.json\", 'w') as f:\n",
    "  json.dump(best, f)"
   ]
  },
  {
   "cell_type": "code",
   "execution_count": 19,
   "metadata": {},
   "outputs": [],
   "source": [
    "# spline = [0.8618183457492242, 0.10249491254184383, 0.6796106365369823, 0.6894492655492203, 0.3909279734013816, 0.7317539174703496]\n",
    "# spline = jnp.array([ 0.81393585, -0.00699588,  0.63882503,  0.65606331,  0.37536516, 0.79187227])\n",
    "# spline = jnp.array([0.5, 0.3, 0.5, 1.0])\n",
    "\n",
    "# sections = xylo.cut.spline(bar, spline)\n",
    "sections = [xylo.cut.spline(bar, xylo.cut.spline_scale(spline, i)) for i in jnp.arange(0.2, 1.01, 0.2)]\n",
    "# sections2 = xylo.cut.spline(bar, xylo.cut.spline_scale(spline, 0.5))"
   ]
  },
  {
   "cell_type": "code",
   "execution_count": 20,
   "metadata": {},
   "outputs": [
    {
     "data": {
      "image/png": "[encoded data removed]",
      "text/plain": [
       "<Figure size 640x480 with 1 Axes>"
      ]
     },
     "metadata": {},
     "output_type": "display_data"
    }
   ],
   "source": [
    "sections[-1].plot()\n",
    "# sections2.plot()"
   ]
  },
  {
   "cell_type": "code",
   "execution_count": 34,
   "metadata": {},
   "outputs": [],
   "source": [
    "prev = None\n",
    "i = 1\n",
    "for ss in sections:\n",
    "  o = s.slicer8.outline(bar, ss)\n",
    "  s.slicer8.path_topdown(bar, o, prev, cut_width = 3).write(f'data/gcode/topdown-{note}-{i}.ngc')\n",
    "  prev = o\n",
    "  i = i + 1\n"
   ]
  },
  {
   "cell_type": "code",
   "execution_count": 37,
   "metadata": {},
   "outputs": [
    {
     "name": "stdout",
     "output_type": "stream",
     "text": [
      "6 [1054.0885546  2712.78384815 4731.24524507] [1.         2.57358249 4.48847037]\n",
      "6 [1011.93308722 2707.39452624 4799.12490554] [1.         2.67546793 4.74253186]\n",
      "6 [ 969.62778857 2696.28991535 4882.92933051] [1.         2.78074736 5.03588015]\n",
      "6 [ 927.02513972 2678.01644391 4983.39755313] [1.         2.88882828 5.37568761]\n",
      "6 [ 883.95593872 2650.94490356 5100.77491357] [1.         2.99895593 5.77039498]\n"
     ]
    }
   ],
   "source": [
    "wood = db.get_wood(note)\n",
    "for s in sections:\n",
    "    swp = xs.sweep(wood, bar, s, t.sweep_default)\n",
    "    print(i, swp.harmonics, swp.harmonics / swp.harmonics[0])"
   ]
  },
  {
   "cell_type": "code",
   "execution_count": null,
   "metadata": {},
   "outputs": [],
   "source": []
  }
 ],
 "metadata": {
  "kernelspec": {
   "display_name": ".venv",
   "language": "python",
   "name": "python3"
  },
  "language_info": {
   "codemirror_mode": {
    "name": "ipython",
    "version": 3
   },
   "file_extension": ".py",
   "mimetype": "text/x-python",
   "name": "python",
   "nbconvert_exporter": "python",
   "pygments_lexer": "ipython3",
   "version": "3.12.3"
  }
 },
 "nbformat": 4,
 "nbformat_minor": 2
}
