{
 "cells": [
  {
   "cell_type": "code",
   "execution_count": 1,
   "metadata": {},
   "outputs": [],
   "source": [
    "%load_ext autoreload\n",
    "%autoreload 2"
   ]
  },
  {
   "cell_type": "code",
   "execution_count": 2,
   "metadata": {},
   "outputs": [],
   "source": [
    "import jax\n",
    "import jax.numpy as jnp\n",
    "import numpy as np\n",
    "import matplotlib.pyplot as plt\n",
    "\n",
    "import evosax\n",
    "\n",
    "from typing import NamedTuple\n",
    "from functools import partial\n",
    "import math"
   ]
  },
  {
   "cell_type": "code",
   "execution_count": 3,
   "metadata": {},
   "outputs": [],
   "source": [
    "import xylo\n",
    "import xylo.types as t\n",
    "import xylo.woods\n",
    "import xylo.cut\n",
    "\n",
    "import xylo.receptance as r\n",
    "import xylo.sweep as xs\n",
    "\n",
    "import xylo.loss.receptance as xlr"
   ]
  },
  {
   "cell_type": "code",
   "execution_count": 137,
   "metadata": {},
   "outputs": [
    {
     "name": "stdout",
     "output_type": "stream",
     "text": [
      "261.6255653005986  expect 261\n",
      "440.0  expect 440\n",
      "659.2551138257398  expect 659\n",
      "880.0  expect 880\n"
     ]
    }
   ],
   "source": [
    "CN4 = 40\n",
    "CS4 = 41\n",
    "DN4 = 42\n",
    "DS4 = 43\n",
    "EN4 = 44\n",
    "FN4 = 45\n",
    "FS4 = 46\n",
    "GN4 = 47\n",
    "GS4 = 48\n",
    "AN4 = 49\n",
    "CN8 = 88\n",
    "\n",
    "def note_to_freq(note, base=444):\n",
    "  offset = note - AN4\n",
    "  return math.pow(2, offset / 12) * base\n",
    "\n",
    "print(note_to_freq(CN4, base=440), \" expect 261\")\n",
    "print(note_to_freq(AN4, base=440), \" expect 440\")\n",
    "print(note_to_freq(56, base=440), \" expect 659\")\n",
    "print(note_to_freq(AN4+12, base=440), \" expect 880\")\n",
    "\n",
    "# based on yamaha\n",
    "note_to_len_dict = {\n",
    "    45: 380,\n",
    "    46: 375,\n",
    "    47: 370,\n",
    "    48: 365,\n",
    "    49: 360,\n",
    "    50: 355,\n",
    "    51: 350,\n",
    "    52: 340,\n",
    "    53: 335,\n",
    "    54: 330,\n",
    "    55: 325,\n",
    "    56: 320,\n",
    "    57: 310,\n",
    "    58: 305,\n",
    "    59: 300,\n",
    "    60: 295,\n",
    "    61: 290,\n",
    "    62: 285,\n",
    "    63: 280,\n",
    "    64: 270,\n",
    "    65: 265,\n",
    "    66: 260,\n",
    "    68: 250,\n",
    "    69: 240,\n",
    "    70: 235,\n",
    "    71: 230,\n",
    "    72: 225,\n",
    "    73: 220,\n",
    "    74: 215,\n",
    "    75: 210,\n",
    "    76: 200,\n",
    "    77: 195,\n",
    "    78: 190,\n",
    "    79: 185,\n",
    "    80: 180,\n",
    "    81: 170,\n",
    "    82: 165,\n",
    "    83: 160,\n",
    "    84: 155,\n",
    "    85: 150,\n",
    "    86: 145,\n",
    "    87: 140,\n",
    "    88: 130\n",
    "}\n",
    "def note_to_len(note):\n",
    "    return note_to_len_dict[note] / 1000\n"
   ]
  },
  {
   "cell_type": "code",
   "execution_count": 237,
   "metadata": {},
   "outputs": [
    {
     "name": "stdout",
     "output_type": "stream",
     "text": [
      "791.1180617086213 0.3\n"
     ]
    }
   ],
   "source": [
    "note = 59\n",
    "\n",
    "bar_default = t.BarProps(width = 0.040, depth = 0.020, length = note_to_len(note), elements = 300, min_depth = 0.010)\n",
    "fundamental = note_to_freq(note) # / 1.5\n",
    "\n",
    "wood = xylo.woods.spotted_gum\n",
    "# weights = jnp.array([[1, -1.0]])\n",
    "# weights = jnp.array([[3, -0.75]])\n",
    "# weights = jnp.array([[1, -1.0], [3, -1.0]])\n",
    "# weights = jnp.array([[1, -1.0], [1.1, 1.0], [3, -1.0], [3.3, 1.0]])\n",
    "# weights = jnp.array([[1, -1.0], [3, -0.75], [6, -0.5]])\n",
    "# weights = jnp.array([[0.5, 0.1], [1, -1.0], [2, 0.1], [3, -0.75], [4, 0.1], [6, -0.5]])\n",
    "# weights = jnp.array([[1, -1.0]])\n",
    "# weights = jnp.array([[0.9, 0.1], [1, -1.0], [1.1, 0.1], [2.9, 0.075], [3, -0.75], [3.1, 0.075], [5.9, 0.05], [6, -0.5], [6.1, 0.05]])\n",
    "\n",
    "# weights = jnp.array([[1, -1.0], [0.9, 1.0]]) # , [3, -0.9], [2.9, 0.9], [6, -0.8], [5.9, 0.8]])\n",
    "\n",
    "# weights = jnp.array([[1, -1.0], [0.9, 1.0], [3, -0.9], [2.9, 0.9], [6, -0.8], [5.9, 0.8]])\n",
    "# weights = jnp.array([[0.5, 1.0], [0.75, 1.0], [1, -1.0], [0.9, 1.0], [1.1, -1.0], [3, -0.9], [2.9, 0.9], [3.1, -0.9], [6, -0.8], [5.9, 0.8], [6.1, -0.8]])\n",
    "\n",
    "# weights = jnp.array([[0.1, 1.0], [0.2, 1.0], [0.3, 1.0], [0.4, 1.0], [0.5, 1.0], [0.6, 1.0], [0.7, 1.0], [0.8, 1.0], [0.9, 1.0], [1, -1.0]]) # [3, -0.9], [2.9, 0.9]])\n",
    "# weights = jnp.array([[0.1, 1.0], [0.2, 1.0], [0.3, 1.0], [0.4, 1.0], [0.5, 1.0], [0.6, 1.0], [0.7, 1.0], [0.8, 1.0], [0.9, 1.0], [1, -1.0], [3, -0.9], [2.9, 0.9]])\n",
    "# weights = jnp.array([[0.1, 1.0], [0.2, 1.0], [0.3, 1.0], [0.4, 1.0], [0.5, 1.0], [0.6, 1.0], [0.7, 1.0], [0.8, 1.0], [0.9, 1.0], [1, -1.0], [3, -0.5], [2.9, 0.5], [6, -0.2], [5.9, 0.2]])\n",
    "\n",
    "weights = jnp.array([[0.9, 1.0], [1, -1.0], [3, -0.75], [2.9, 0.75], [6, -0.5], [5.9, 0.5]])\n",
    "\n",
    "\n",
    "# p = 0.1\n",
    "# r1 = -1\n",
    "# r2 = -0.5\n",
    "# r3 = -0.25\n",
    "# w = [[x/10, r1 if x == 10 else r2 if x == 30 else r3 if x == 6 else p] for x in range(1, 70)]\n",
    "# weights = jnp.array(w)\n",
    "print(fundamental, bar_default.length)"
   ]
  },
  {
   "cell_type": "code",
   "execution_count": 238,
   "metadata": {},
   "outputs": [],
   "source": [
    "def mkBarLength(l: float):\n",
    "    # if l in range [0,1] then range from 0.5*len to 1.5*len\n",
    "    return bar_default.length # / 2 + bar_default.length * l\n",
    "\n",
    "def mkCut3(x):\n",
    "  bar_ = bar_default._replace(length = mkBarLength(x[-1]))\n",
    "  cut_ = t.CutCubic(x[0], x[1], x[2] * bar_default.depth)\n",
    "  sections_ = xylo.cut.cubic(bar_, cut_)\n",
    "  return bar_, sections_\n",
    "\n",
    "def mkCut4(x):\n",
    "  bar_ = bar_default._replace(length = mkBarLength(x[-1]))\n",
    "  sections_ = xylo.cut.quartic(bar_, x[0:-1])\n",
    "  return bar_, sections_\n",
    "\n",
    "def mkCutSpline(x):\n",
    "  cut, length = x[0:-1], x[-1]\n",
    "  bar_ = bar_default._replace(length = mkBarLength(length))\n",
    "  sections_ = xylo.cut.spline(bar_, cut) # , symmetric=False)\n",
    "  return bar_, sections_\n",
    "\n",
    "def loss_receptance(sections: t.Sections, wood: t.Wood, bar: t.BarProps, fundamental: float, ws: jnp.ndarray):\n",
    "    # sections = xylo.cut.cubic(bar, cut)\n",
    "    wsT = ws.T\n",
    "    rs  = jax.vmap(lambda w: r.receptance_scalar(wood, bar, sections, w))(wsT[0] * 2 * jnp.pi * fundamental)\n",
    "    # jax.debug.print(\"{rs}\", rs=rs)\n",
    "    return -jnp.dot(jnp.minimum(rs, 0.0), wsT[1])\n",
    "\n",
    "def loss_harmonic(sections: t.Sections, wood: t.Wood, bar: t.BarProps, sweep_opts: t.FrequencySweep, target: jnp.ndarray, weights: jnp.ndarray = jnp.array([1.0, 0.0, 0.0])):\n",
    "    sweep = xylo.sweep.sweep(wood, bar, sections, sweep_opts)\n",
    "    diff = jnp.abs((target - sweep.harmonics) / target)\n",
    "    # jax.debug.print(\"S={s}\", s=sweep.harmonics)\n",
    "    loss = diff * weights\n",
    "    return jnp.sum(loss)\n",
    "\n",
    "\n",
    "\n",
    "@jax.jit\n",
    "def loss3(x):\n",
    "  bar, sections = mkCut3(x)\n",
    "  return loss_receptance(sections, wood, bar, fundamental, weights) # + jnp.abs(jnp.dot(x, jnp.ones(x.shape) * 0.001))\n",
    "\n",
    "@jax.jit\n",
    "def loss4(x):\n",
    "  bar, sections = mkCut4(x)\n",
    "  return loss_receptance(sections, wood, bar, fundamental, weights) # + jnp.abs(jnp.dot(x, jnp.ones(x.shape) * 0.001))\n",
    "\n",
    "@jax.jit\n",
    "def loss_spline(x):\n",
    "  bar, sections = mkCutSpline(x)\n",
    "  return loss_receptance(sections, wood, bar, fundamental, weights) # + jnp.abs(jnp.dot(x, jnp.ones(x.shape) * 0.001))\n",
    "\n",
    "fundamental_goals = jnp.array([fundamental * 1, fundamental * 3, fundamental * 6])\n",
    "loss_harm_sweep_opt = t.FrequencySweep(start_freq = fundamental * 0.1, stop_freq = fundamental * 10, num_freq = 30, bisect_iters = 2)\n",
    "\n",
    "@jax.jit\n",
    "def loss3_harmonic(x):\n",
    "  bar, sections = mkCut3(x)\n",
    "  return loss_harmonic(sections, wood, bar, loss_harm_sweep_opt, fundamental_goals) # + jnp.abs(jnp.dot(x, jnp.ones(x.shape) * 0.001))\n",
    "\n",
    "@jax.jit\n",
    "def loss4_harmonic(x):\n",
    "  bar, sections = mkCut4(x)\n",
    "  return loss_harmonic(sections, wood, bar, loss_harm_sweep_opt, fundamental_goals) # + jnp.abs(jnp.dot(x, jnp.ones(x.shape) * 0.001))\n",
    "\n",
    "@jax.jit\n",
    "def loss_spline_harmonic(x):\n",
    "  bar, sections = mkCutSpline(x)\n",
    "  return loss_harmonic(sections, wood, bar, loss_harm_sweep_opt, fundamental_goals) # + jnp.abs(jnp.dot(x, jnp.ones(x.shape) * 0.001))\n",
    "\n"
   ]
  },
  {
   "cell_type": "code",
   "execution_count": 231,
   "metadata": {
    "scrolled": true
   },
   "outputs": [
    {
     "name": "stdout",
     "output_type": "stream",
     "text": [
      "iteration 0\n",
      "[0.32314612 0.56300937 0.41625089 0.32657005 0.2609046 ] 0.37815654\n",
      "[ 610.50329693 2013.44517093 3904.57711753] [1.37500743 4.53478642 8.79409261] 0.36\n",
      "iteration 10\n",
      "[0.04403848 0.3251318  0.10400483 0.49498998 0.35129877] 0.0031537956\n",
      "[ 444.97042431 1546.04388712 3557.50021985] [1.00218564 3.48208083 8.01238788] 0.36\n",
      "iteration 20\n",
      "[0.04403848 0.3251318  0.10400483 0.49498998 0.35129877] 0.0031537956\n",
      "[ 444.97042431 1546.04388712 3557.50021985] [1.00218564 3.48208083 8.01238788] 0.36\n",
      "iteration 30\n",
      "[0.04403848 0.3251318  0.10400483 0.49498998 0.35129877] 0.0031537956\n",
      "[ 444.97042431 1546.04388712 3557.50021985] [1.00218564 3.48208083 8.01238788] 0.36\n",
      "iteration 40\n",
      "[0.04403848 0.3251318  0.10400483 0.49498998 0.35129877] 0.0031537956\n",
      "[ 444.97042431 1546.04388712 3557.50021985] [1.00218564 3.48208083 8.01238788] 0.36\n",
      "iteration 50\n",
      "[0.04403848 0.3251318  0.10400483 0.49498998 0.35129877] 0.0031537956\n",
      "[ 444.97042431 1546.04388712 3557.50021985] [1.00218564 3.48208083 8.01238788] 0.36\n",
      "iteration 60\n",
      "[0.04403848 0.3251318  0.10400483 0.49498998 0.35129877] 0.0031537956\n",
      "[ 444.97042431 1546.04388712 3557.50021985] [1.00218564 3.48208083 8.01238788] 0.36\n",
      "iteration 70\n",
      "[0.04403848 0.3251318  0.10400483 0.49498998 0.35129877] 0.0031537956\n",
      "[ 444.97042431 1546.04388712 3557.50021985] [1.00218564 3.48208083 8.01238788] 0.36\n",
      "iteration 80\n",
      "[0.04403848 0.3251318  0.10400483 0.49498998 0.35129877] 0.0031537956\n",
      "[ 444.97042431 1546.04388712 3557.50021985] [1.00218564 3.48208083 8.01238788] 0.36\n",
      "iteration 90\n",
      "[0.04403848 0.3251318  0.10400483 0.49498998 0.35129877] 0.0031537956\n",
      "[ 444.97042431 1546.04388712 3557.50021985] [1.00218564 3.48208083 8.01238788] 0.36\n"
     ]
    },
    {
     "data": {
      "text/plain": [
       "(Array([-4.08802955,  2.60383715, -3.90199004,  2.63241182,  0.2126157 ],      dtype=float64),\n",
       " Array([0.04403848, 0.3251318 , 0.10400483, 0.49498998, 0.35129877],      dtype=float64),\n",
       " Array(0.0031538, dtype=float32))"
      ]
     },
     "execution_count": 231,
     "metadata": {},
     "output_type": "execute_result"
    }
   ],
   "source": [
    "num_generations = 100\n",
    "\n",
    "rng = jax.random.key(0)\n",
    "# for Cut3/Cut4\n",
    "# strategy = evosax.CMA_ES(popsize = 500, num_dims=5)\n",
    "strategy = evosax.OpenES(popsize = 2000, num_dims=5)\n",
    "# strategy = evosax.SNES(popsize = 500, num_dims=5)\n",
    "es_params = strategy.default_params.replace(init_min = 0, init_max=1, clip_min = 0, clip_max=1)\n",
    "\n",
    "# for splines\n",
    "# strategy = evosax.SNES(popsize = 500, num_dims=6)\n",
    "# strategy = evosax.OpenES(popsize = 500, num_dims=10)\n",
    "# es_params = strategy.default_params.replace(init_min = 0, init_max=1, clip_min = 0, clip_max=1)\n",
    "\n",
    "es_state = strategy.initialize(rng, es_params)\n",
    "\n",
    "for i in range(num_generations):\n",
    "  rng, rng_gen, rng_eval = jax.random.split(rng, 3)\n",
    "  x, es_state = strategy.ask(rng_gen, es_state, es_params)\n",
    "  fitness = jax.vmap(loss_spline_harmonic, in_axes = 0)(x)\n",
    "  fitness = jnp.float32(fitness)\n",
    "  es_state = strategy.tell(x, fitness, es_state, es_params)\n",
    "  if i % 10 == 0:\n",
    "    print(f\"iteration {i}\")\n",
    "    print(es_state.best_member, es_state.best_fitness)\n",
    "    bar_, sections = mkCutSpline(es_state.best_member)\n",
    "    # print(sections.depths)\n",
    "    swp = xs.sweep(wood, bar_, sections, t.sweep_default)\n",
    "    print(swp.harmonics, swp.harmonics / fundamental, bar_.length)\n",
    "\n",
    "es_state.mean, es_state.best_member, es_state.best_fitness"
   ]
  },
  {
   "cell_type": "code",
   "execution_count": 232,
   "metadata": {},
   "outputs": [
    {
     "data": {
      "text/plain": [
       "(Array([ 444.97042431, 1546.04388712, 3557.50021985], dtype=float64),\n",
       " Array([1.00218564, 3.48208083, 8.01238788], dtype=float64),\n",
       " 0.36)"
      ]
     },
     "execution_count": 232,
     "metadata": {},
     "output_type": "execute_result"
    },
    {
     "data": {
      "image/png": "[encoded data removed]",
      "text/plain": [
       "<Figure size 640x480 with 1 Axes>"
      ]
     },
     "metadata": {},
     "output_type": "display_data"
    }
   ],
   "source": [
    "bar_, sections = mkCutSpline(es_state.best_member)\n",
    "sections.plot(to_scale = False)\n",
    "\n",
    "swp = xs.sweep(wood, bar_, sections, t.sweep_default)\n",
    "swp.harmonics, swp.harmonics / fundamental, bar_.length\n",
    "\n"
   ]
  },
  {
   "cell_type": "code",
   "execution_count": 233,
   "metadata": {},
   "outputs": [],
   "source": [
    "import optimistix\n",
    "# solver = optimistix.GradientDescent(learning_rate = 0.001, rtol = 0.0000001, atol = 0.0000001)\n",
    "solver = optimistix.BFGS(rtol = 1e-10, atol = 1e-10)\n",
    "# solver = optimistix.NonlinearCG(rtol = 0.000001, atol = 0.000001)\n",
    "\n",
    "solver = optimistix.BestSoFarMinimiser(solver)\n",
    "\n",
    "# y0 = es_state.best_member\n",
    "\n",
    "# fundamental = 440\n",
    "\n",
    "# args = (wood, bar, fundamental, jnp.array([[0.5, 0.5], [1, -1.0], [2, 0.5], [3, -0.9], [4, 0.5], [5, -0.8]]))\n",
    "\n",
    "sol = optimistix.minimise(lambda x,args: loss_spline(x), solver = solver, y0 = es_state.best_member, max_steps = None)\n",
    "\n"
   ]
  },
  {
   "cell_type": "code",
   "execution_count": 234,
   "metadata": {},
   "outputs": [
    {
     "data": {
      "text/plain": [
       "(Array([ 443.99999998, 1539.72266412, 3546.76903554], dtype=float64),\n",
       " Array([1.        , 3.46784384, 7.98821855], dtype=float64),\n",
       " 0.36)"
      ]
     },
     "execution_count": 234,
     "metadata": {},
     "output_type": "execute_result"
    },
    {
     "data": {
      "image/png": "[encoded data removed]",
      "text/plain": [
       "<Figure size 640x480 with 1 Axes>"
      ]
     },
     "metadata": {},
     "output_type": "display_data"
    }
   ],
   "source": [
    "bar_, sections = mkCutSpline(sol.value)\n",
    "sections.plot(to_scale = False)\n",
    "\n",
    "swp = xs.sweep(wood, bar_, sections, t.sweep_default)\n",
    "swp.harmonics, swp.harmonics / fundamental, bar_.length"
   ]
  },
  {
   "cell_type": "code",
   "execution_count": 239,
   "metadata": {},
   "outputs": [
    {
     "data": {
      "text/plain": [
       "(Array([1153.23311998, 3083.04555279, 5799.73045889], dtype=float64),\n",
       " Array([1.45772569, 3.8970739 , 7.33105555], dtype=float64),\n",
       " 0.3)"
      ]
     },
     "execution_count": 239,
     "metadata": {},
     "output_type": "execute_result"
    },
    {
     "data": {
      "image/png": "[encoded data removed]",
      "text/plain": [
       "<Figure size 640x480 with 1 Axes>"
      ]
     },
     "metadata": {},
     "output_type": "display_data"
    }
   ],
   "source": [
    "bar_, sections = mkCutSpline(jnp.array([1.0, 1.0, 1.0]))\n",
    "sections.plot(to_scale = False)\n",
    "\n",
    "swp = xs.sweep(wood, bar_, sections, t.sweep_default)\n",
    "swp.harmonics, swp.harmonics / fundamental, bar_.length"
   ]
  },
  {
   "cell_type": "code",
   "execution_count": null,
   "metadata": {},
   "outputs": [],
   "source": []
  }
 ],
 "metadata": {
  "kernelspec": {
   "display_name": "Python 3 (ipykernel)",
   "language": "python",
   "name": "python3"
  },
  "language_info": {
   "codemirror_mode": {
    "name": "ipython",
    "version": 3
   },
   "file_extension": ".py",
   "mimetype": "text/x-python",
   "name": "python",
   "nbconvert_exporter": "python",
   "pygments_lexer": "ipython3",
   "version": "3.11.2"
  }
 },
 "nbformat": 4,
 "nbformat_minor": 4
}
