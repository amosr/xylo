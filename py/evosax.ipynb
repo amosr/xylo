{
 "cells": [
  {
   "cell_type": "code",
   "execution_count": 1,
   "metadata": {},
   "outputs": [],
   "source": [
    "%load_ext autoreload\n",
    "%autoreload 2"
   ]
  },
  {
   "cell_type": "code",
   "execution_count": 2,
   "metadata": {},
   "outputs": [],
   "source": [
    "import jax\n",
    "import jax.numpy as jnp\n",
    "import numpy as np\n",
    "import matplotlib.pyplot as plt\n",
    "\n",
    "import evosax\n",
    "\n",
    "from typing import NamedTuple\n",
    "from functools import partial\n",
    "import math"
   ]
  },
  {
   "cell_type": "code",
   "execution_count": 3,
   "metadata": {},
   "outputs": [],
   "source": [
    "import xylo\n",
    "import xylo.types as t\n",
    "import xylo.woods\n",
    "import xylo.cut\n",
    "\n",
    "import xylo.receptance as r\n",
    "import xylo.sweep as xs\n",
    "\n",
    "import xylo.loss.receptance as xlr"
   ]
  },
  {
   "cell_type": "code",
   "execution_count": 288,
   "metadata": {},
   "outputs": [
    {
     "name": "stdout",
     "output_type": "stream",
     "text": [
      "261.6255653005986  expect 261\n",
      "440.0  expect 440\n",
      "659.2551138257398  expect 659\n",
      "880.0  expect 880\n"
     ]
    }
   ],
   "source": [
    "CN4 = 40\n",
    "CS4 = 41\n",
    "DN4 = 42\n",
    "DS4 = 43\n",
    "EN4 = 44\n",
    "FN4 = 45\n",
    "FS4 = 46\n",
    "GN4 = 47\n",
    "GS4 = 48\n",
    "AN4 = 49\n",
    "CN8 = 88\n",
    "\n",
    "def note_to_freq(note, base=442):\n",
    "  offset = note - AN4\n",
    "  return math.pow(2, offset / 12) * base\n",
    "\n",
    "print(note_to_freq(CN4, base=440), \" expect 261\")\n",
    "print(note_to_freq(AN4, base=440), \" expect 440\")\n",
    "print(note_to_freq(56, base=440), \" expect 659\")\n",
    "print(note_to_freq(AN4+12, base=440), \" expect 880\")\n",
    "\n",
    "# based on yamaha\n",
    "note_to_len_dict = {\n",
    "    45: 380,\n",
    "    46: 375,\n",
    "    47: 370,\n",
    "    48: 365,\n",
    "    49: 360,\n",
    "    50: 355,\n",
    "    51: 350,\n",
    "    52: 340,\n",
    "    53: 335,\n",
    "    54: 330,\n",
    "    55: 325,\n",
    "    56: 320,\n",
    "    57: 310,\n",
    "    58: 305,\n",
    "    59: 300,\n",
    "    60: 295,\n",
    "    61: 290,\n",
    "    62: 285,\n",
    "    63: 280,\n",
    "    64: 270,\n",
    "    65: 265,\n",
    "    66: 260,\n",
    "    68: 250,\n",
    "    69: 240,\n",
    "    70: 235,\n",
    "    71: 230,\n",
    "    72: 225,\n",
    "    73: 220,\n",
    "    74: 215,\n",
    "    75: 210,\n",
    "    76: 200,\n",
    "    77: 195,\n",
    "    78: 190,\n",
    "    79: 185,\n",
    "    80: 180,\n",
    "    81: 170,\n",
    "    82: 165,\n",
    "    83: 160,\n",
    "    84: 155,\n",
    "    85: 150,\n",
    "    86: 145,\n",
    "    87: 140,\n",
    "    88: 130\n",
    "}\n",
    "def note_to_len(note):\n",
    "    return note_to_len_dict[note] / 1000\n"
   ]
  },
  {
   "cell_type": "code",
   "execution_count": 289,
   "metadata": {},
   "outputs": [
    {
     "name": "stdout",
     "output_type": "stream",
     "text": [
      "787.5544668360599 0.3\n"
     ]
    }
   ],
   "source": [
    "note = 59\n",
    "\n",
    "bar_default = t.BarProps(width = 0.040, depth = 0.020, length = note_to_len(note), elements = 300, min_depth = 0.010)\n",
    "fundamental = note_to_freq(note) # / 1.5\n",
    "\n",
    "wood = xylo.woods.spotted_gum\n",
    "# weights = jnp.array([[1, -1.0]])\n",
    "# weights = jnp.array([[3, -0.75]])\n",
    "# weights = jnp.array([[1, -1.0], [3, -1.0]])\n",
    "# weights = jnp.array([[1, -1.0], [1.1, 1.0], [3, -1.0], [3.3, 1.0]])\n",
    "# weights = jnp.array([[1, -1.0], [3, -0.75], [6, -0.5]])\n",
    "# weights = jnp.array([[0.5, 0.1], [1, -1.0], [2, 0.1], [3, -0.75], [4, 0.1], [6, -0.5]])\n",
    "# weights = jnp.array([[1, -1.0]])\n",
    "# weights = jnp.array([[0.9, 0.1], [1, -1.0], [1.1, 0.1], [2.9, 0.075], [3, -0.75], [3.1, 0.075], [5.9, 0.05], [6, -0.5], [6.1, 0.05]])\n",
    "\n",
    "# weights = jnp.array([[1, -1.0], [0.9, 1.0]]) # , [3, -0.9], [2.9, 0.9], [6, -0.8], [5.9, 0.8]])\n",
    "\n",
    "# weights = jnp.array([[1, -1.0], [0.9, 1.0], [3, -0.9], [2.9, 0.9], [6, -0.8], [5.9, 0.8]])\n",
    "# weights = jnp.array([[0.5, 1.0], [0.75, 1.0], [1, -1.0], [0.9, 1.0], [1.1, -1.0], [3, -0.9], [2.9, 0.9], [3.1, -0.9], [6, -0.8], [5.9, 0.8], [6.1, -0.8]])\n",
    "\n",
    "# weights = jnp.array([[0.1, 1.0], [0.2, 1.0], [0.3, 1.0], [0.4, 1.0], [0.5, 1.0], [0.6, 1.0], [0.7, 1.0], [0.8, 1.0], [0.9, 1.0], [1, -1.0]]) # [3, -0.9], [2.9, 0.9]])\n",
    "# weights = jnp.array([[0.1, 1.0], [0.2, 1.0], [0.3, 1.0], [0.4, 1.0], [0.5, 1.0], [0.6, 1.0], [0.7, 1.0], [0.8, 1.0], [0.9, 1.0], [1, -1.0], [3, -0.9], [2.9, 0.9]])\n",
    "# weights = jnp.array([[0.1, 1.0], [0.2, 1.0], [0.3, 1.0], [0.4, 1.0], [0.5, 1.0], [0.6, 1.0], [0.7, 1.0], [0.8, 1.0], [0.9, 1.0], [1, -1.0], [3, -0.5], [2.9, 0.5], [6, -0.2], [5.9, 0.2]])\n",
    "\n",
    "weights = jnp.array([[0.9, 1.0], [1, -1.0], [3, -0.75], [2.9, 0.75], [6, -0.5], [5.9, 0.5]])\n",
    "\n",
    "\n",
    "# p = 0.1\n",
    "# r1 = -1\n",
    "# r2 = -0.5\n",
    "# r3 = -0.25\n",
    "# w = [[x/10, r1 if x == 10 else r2 if x == 30 else r3 if x == 6 else p] for x in range(1, 70)]\n",
    "# weights = jnp.array(w)\n",
    "print(fundamental, bar_default.length)"
   ]
  },
  {
   "cell_type": "code",
   "execution_count": 290,
   "metadata": {},
   "outputs": [],
   "source": [
    "def mkBarLength(l: float):\n",
    "    # if l in range [0,1] then range from 0.5*len to 1.5*len\n",
    "    return bar_default.length # / 2 + bar_default.length * l\n",
    "\n",
    "def mkCut3(x):\n",
    "  bar_ = bar_default._replace(length = mkBarLength(x[-1]))\n",
    "  cut_ = t.CutCubic(x[0], x[1], x[2] * bar_default.depth)\n",
    "  sections_ = xylo.cut.cubic(bar_, cut_)\n",
    "  return bar_, sections_\n",
    "\n",
    "def mkCut4(x):\n",
    "  bar_ = bar_default._replace(length = mkBarLength(x[-1]))\n",
    "  sections_ = xylo.cut.quartic(bar_, x[0:-1])\n",
    "  return bar_, sections_\n",
    "\n",
    "def mkCutSpline(x):\n",
    "  cut, length = x[0:-1], x[-1]\n",
    "  bar_ = bar_default._replace(length = mkBarLength(length))\n",
    "  sections_ = xylo.cut.spline(bar_, cut, max_spread=1) # , symmetric=False)\n",
    "  return bar_, sections_\n",
    "\n",
    "def loss_receptance(sections: t.Sections, wood: t.Wood, bar: t.BarProps, fundamental: float, ws: jnp.ndarray):\n",
    "    # sections = xylo.cut.cubic(bar, cut)\n",
    "    wsT = ws.T\n",
    "    rs  = jax.vmap(lambda w: r.receptance_scalar(wood, bar, sections, w))(wsT[0] * 2 * jnp.pi * fundamental)\n",
    "    # jax.debug.print(\"{rs}\", rs=rs)\n",
    "    return -jnp.dot(jnp.minimum(rs, 0.0), wsT[1])\n",
    "\n",
    "def loss_harmonic(sections: t.Sections, wood: t.Wood, bar: t.BarProps, sweep_opts: t.FrequencySweep, target: jnp.ndarray, weights: jnp.ndarray = jnp.array([1.0, 0.0, 0.0])):\n",
    "    sweep = xylo.sweep.sweep(wood, bar, sections, sweep_opts)\n",
    "    diff = jnp.abs((target - sweep.harmonics) / target)\n",
    "    # jax.debug.print(\"S={s}\", s=sweep.harmonics)\n",
    "    loss = diff * weights\n",
    "    return jnp.sum(loss)\n",
    "\n",
    "\n",
    "\n",
    "@jax.jit\n",
    "def loss3(x):\n",
    "  bar, sections = mkCut3(x)\n",
    "  return loss_receptance(sections, wood, bar, fundamental, weights) # + jnp.abs(jnp.dot(x, jnp.ones(x.shape) * 0.001))\n",
    "\n",
    "@jax.jit\n",
    "def loss4(x):\n",
    "  bar, sections = mkCut4(x)\n",
    "  return loss_receptance(sections, wood, bar, fundamental, weights) # + jnp.abs(jnp.dot(x, jnp.ones(x.shape) * 0.001))\n",
    "\n",
    "@jax.jit\n",
    "def loss_spline(x):\n",
    "  bar, sections = mkCutSpline(x)\n",
    "  return loss_receptance(sections, wood, bar, fundamental, weights) # + jnp.abs(jnp.dot(x, jnp.ones(x.shape) * 0.001))\n",
    "\n",
    "fundamental_goals = jnp.array([fundamental * 1, fundamental * 3, fundamental * 6])\n",
    "loss_harm_sweep_opt = t.FrequencySweep(start_freq = fundamental * 0.1, stop_freq = fundamental * 10, num_freq = 30, bisect_iters = 2)\n",
    "\n",
    "@jax.jit\n",
    "def loss3_harmonic(x):\n",
    "  bar, sections = mkCut3(x)\n",
    "  return loss_harmonic(sections, wood, bar, loss_harm_sweep_opt, fundamental_goals) # + jnp.abs(jnp.dot(x, jnp.ones(x.shape) * 0.001))\n",
    "\n",
    "@jax.jit\n",
    "def loss4_harmonic(x):\n",
    "  bar, sections = mkCut4(x)\n",
    "  return loss_harmonic(sections, wood, bar, loss_harm_sweep_opt, fundamental_goals) # + jnp.abs(jnp.dot(x, jnp.ones(x.shape) * 0.001))\n",
    "\n",
    "@jax.jit\n",
    "def loss_spline_harmonic(x):\n",
    "  bar, sections = mkCutSpline(x)\n",
    "  return loss_harmonic(sections, wood, bar, loss_harm_sweep_opt, fundamental_goals) # + jnp.abs(jnp.dot(x, jnp.ones(x.shape) * 0.001))\n",
    "\n"
   ]
  },
  {
   "cell_type": "code",
   "execution_count": 291,
   "metadata": {
    "scrolled": true
   },
   "outputs": [
    {
     "name": "stdout",
     "output_type": "stream",
     "text": [
      "iteration 0\n",
      "[0.32314612 0.56300937 0.41625089 0.32657005 0.2609046 ] 0.08263674\n",
      "[ 844.2892404  2727.91341158 5496.46088288] [1.07203917 3.46377746 6.97915016] 0.3\n",
      "iteration 10\n",
      "[0.24851439 0.50386146 0.32730061 0.35675506 0.35975513] 0.0031537956\n",
      "[ 785.03512953 2584.08848184 5407.77641595] [0.99680106 3.28115526 6.86654275] 0.3\n",
      "iteration 20\n",
      "[0.24851439 0.50386146 0.32730061 0.35675506 0.35975513] 0.0031537956\n",
      "[ 785.03512953 2584.08848184 5407.77641595] [0.99680106 3.28115526 6.86654275] 0.3\n",
      "iteration 30\n",
      "[0.24851439 0.50386146 0.32730061 0.35675506 0.35975513] 0.0031537956\n",
      "[ 785.03512953 2584.08848184 5407.77641595] [0.99680106 3.28115526 6.86654275] 0.3\n",
      "iteration 40\n",
      "[0.24851439 0.50386146 0.32730061 0.35675506 0.35975513] 0.0031537956\n",
      "[ 785.03512953 2584.08848184 5407.77641595] [0.99680106 3.28115526 6.86654275] 0.3\n",
      "iteration 50\n",
      "[0.24851439 0.50386146 0.32730061 0.35675506 0.35975513] 0.0031537956\n",
      "[ 785.03512953 2584.08848184 5407.77641595] [0.99680106 3.28115526 6.86654275] 0.3\n",
      "iteration 60\n",
      "[0.24851439 0.50386146 0.32730061 0.35675506 0.35975513] 0.0031537956\n",
      "[ 785.03512953 2584.08848184 5407.77641595] [0.99680106 3.28115526 6.86654275] 0.3\n",
      "iteration 70\n",
      "[0.24851439 0.50386146 0.32730061 0.35675506 0.35975513] 0.0031537956\n",
      "[ 785.03512953 2584.08848184 5407.77641595] [0.99680106 3.28115526 6.86654275] 0.3\n",
      "iteration 80\n",
      "[0.24851439 0.50386146 0.32730061 0.35675506 0.35975513] 0.0031537956\n",
      "[ 785.03512953 2584.08848184 5407.77641595] [0.99680106 3.28115526 6.86654275] 0.3\n",
      "iteration 90\n",
      "[0.24851439 0.50386146 0.32730061 0.35675506 0.35975513] 0.0031537956\n",
      "[ 785.03512953 2584.08848184 5407.77641595] [0.99680106 3.28115526 6.86654275] 0.3\n"
     ]
    },
    {
     "data": {
      "text/plain": [
       "(Array([0.22855728, 0.48500137, 0.47410909, 0.75023135, 0.53240015],      dtype=float64),\n",
       " Array([0.24851439, 0.50386146, 0.32730061, 0.35675506, 0.35975513],      dtype=float64),\n",
       " Array(0.0031538, dtype=float32))"
      ]
     },
     "execution_count": 291,
     "metadata": {},
     "output_type": "execute_result"
    }
   ],
   "source": [
    "num_generations = 100\n",
    "\n",
    "rng = jax.random.key(0)\n",
    "# for Cut3/Cut4\n",
    "# strategy = evosax.CMA_ES(popsize = 500, num_dims=5)\n",
    "strategy = evosax.OpenES(popsize = 2000, num_dims=5)\n",
    "# strategy = evosax.SNES(popsize = 500, num_dims=5)\n",
    "es_params = strategy.default_params.replace(init_min = 0, init_max=1, clip_min = 0, clip_max=1)\n",
    "\n",
    "# for splines\n",
    "# strategy = evosax.SNES(popsize = 500, num_dims=6)\n",
    "# strategy = evosax.OpenES(popsize = 500, num_dims=10)\n",
    "# es_params = strategy.default_params.replace(init_min = 0, init_max=1, clip_min = 0, clip_max=1)\n",
    "\n",
    "es_state = strategy.initialize(rng, es_params)\n",
    "\n",
    "for i in range(num_generations):\n",
    "  rng, rng_gen, rng_eval = jax.random.split(rng, 3)\n",
    "  x, es_state = strategy.ask(rng_gen, es_state, es_params)\n",
    "  fitness = jax.vmap(loss_spline_harmonic, in_axes = 0)(x)\n",
    "  fitness = jnp.float32(fitness)\n",
    "  es_state = strategy.tell(x, fitness, es_state, es_params)\n",
    "  if i % 10 == 0:\n",
    "    print(f\"iteration {i}\")\n",
    "    print(es_state.best_member, es_state.best_fitness)\n",
    "    bar_, sections = mkCutSpline(es_state.best_member)\n",
    "    # print(sections.depths)\n",
    "    swp = xs.sweep(wood, bar_, sections, t.sweep_default)\n",
    "    print(swp.harmonics, swp.harmonics / fundamental, bar_.length)\n",
    "\n",
    "es_state.mean, es_state.best_member, es_state.best_fitness"
   ]
  },
  {
   "cell_type": "code",
   "execution_count": 292,
   "metadata": {},
   "outputs": [
    {
     "data": {
      "text/plain": [
       "(Array([ 785.03512953, 2584.08848184, 5407.77641595], dtype=float64),\n",
       " Array([0.99680106, 3.28115526, 6.86654275], dtype=float64),\n",
       " 0.3)"
      ]
     },
     "execution_count": 292,
     "metadata": {},
     "output_type": "execute_result"
    },
    {
     "data": {
      "image/png": "[encoded data removed]",
      "text/plain": [
       "<Figure size 640x480 with 1 Axes>"
      ]
     },
     "metadata": {},
     "output_type": "display_data"
    }
   ],
   "source": [
    "bar_, sections = mkCutSpline(es_state.best_member)\n",
    "sections.plot(to_scale = False)\n",
    "\n",
    "swp = xs.sweep(wood, bar_, sections, t.sweep_default)\n",
    "swp.harmonics, swp.harmonics / fundamental, bar_.length\n",
    "\n"
   ]
  },
  {
   "cell_type": "code",
   "execution_count": 293,
   "metadata": {},
   "outputs": [],
   "source": [
    "import optimistix\n",
    "# solver = optimistix.GradientDescent(learning_rate = 0.001, rtol = 0.0000001, atol = 0.0000001)\n",
    "solver = optimistix.BFGS(rtol = 1e-10, atol = 1e-10)\n",
    "# solver = optimistix.NonlinearCG(rtol = 0.000001, atol = 0.000001)\n",
    "\n",
    "solver = optimistix.BestSoFarMinimiser(solver)\n",
    "\n",
    "# y0 = es_state.best_member\n",
    "\n",
    "# fundamental = 440\n",
    "\n",
    "# args = (wood, bar, fundamental, jnp.array([[0.5, 0.5], [1, -1.0], [2, 0.5], [3, -0.9], [4, 0.5], [5, -0.8]]))\n",
    "\n",
    "sol = optimistix.minimise(lambda x,args: loss_spline(x), solver = solver, y0 = es_state.best_member, max_steps = None)\n",
    "\n"
   ]
  },
  {
   "cell_type": "code",
   "execution_count": 294,
   "metadata": {},
   "outputs": [
    {
     "data": {
      "text/plain": [
       "(Array([ 787.55446685, 2594.40678036, 5415.4633665 ], dtype=float64),\n",
       " Array([1.        , 3.29425696, 6.87630328], dtype=float64),\n",
       " 0.3)"
      ]
     },
     "execution_count": 294,
     "metadata": {},
     "output_type": "execute_result"
    },
    {
     "data": {
      "image/png": "[encoded data removed]",
      "text/plain": [
       "<Figure size 640x480 with 1 Axes>"
      ]
     },
     "metadata": {},
     "output_type": "display_data"
    }
   ],
   "source": [
    "bar_, sections = mkCutSpline(sol.value)\n",
    "sections.plot(to_scale = False)\n",
    "\n",
    "swp = xs.sweep(wood, bar_, sections, t.sweep_default)\n",
    "swp.harmonics, swp.harmonics / fundamental, bar_.length"
   ]
  },
  {
   "cell_type": "code",
   "execution_count": 295,
   "metadata": {},
   "outputs": [
    {
     "data": {
      "text/plain": [
       "(Array([1153.23311998, 3083.04555279, 5799.73045889], dtype=float64),\n",
       " Array([1.46432173, 3.91470772, 7.36422775], dtype=float64),\n",
       " 0.3)"
      ]
     },
     "execution_count": 295,
     "metadata": {},
     "output_type": "execute_result"
    },
    {
     "data": {
      "image/png": "[encoded data removed]",
      "text/plain": [
       "<Figure size 640x480 with 1 Axes>"
      ]
     },
     "metadata": {},
     "output_type": "display_data"
    }
   ],
   "source": [
    "bar_, sections = mkCutSpline(jnp.array([1.0, 1.0, 1.0]))\n",
    "sections.plot(to_scale = False)\n",
    "\n",
    "swp = xs.sweep(wood, bar_, sections, t.sweep_default)\n",
    "swp.harmonics, swp.harmonics / fundamental, bar_.length"
   ]
  },
  {
   "cell_type": "code",
   "execution_count": 303,
   "metadata": {},
   "outputs": [
    {
     "name": "stdout",
     "output_type": "stream",
     "text": [
      "0.0 [1153.23311998 3083.04555279 5799.73045889] [1.46432173 3.91470772 7.36422775] [1.         1.         1.         0.35333472 0.35975513] [0. 0. 0.]\n",
      "0.1 [1086.33211427 3049.72912331 5685.85619293] [1.37937395 3.87240407 7.21963551] [0.92506067 0.90103476 0.79884681 0.35333472 0.35975513] [0.1 0.2 0.3]\n",
      "0.2 [1009.87308197 3009.7162108  5572.37055126] [1.28228983 3.82159754 7.07553672] [0.85012133 0.80206953 0.59769361 0.35333472 0.35975513] [0.2 0.4 0.6]\n",
      "0.30000000000000004 [ 921.57369305 2961.12855322 5460.75588468] [1.17017137 3.75990319 6.93381361] [0.775182   0.70310429 0.39654042 0.35333472 0.35975513] [0.3 0.6 0.9]\n",
      "0.4 [ 874.70798982 2908.56123355 5429.58724715] [1.11066349 3.69315566 6.89423713] [0.70024267 0.60413906 0.32948935 0.35333472 0.35975513] [0.4 0.8 1. ]\n",
      "0.5 [ 850.27157364 2850.7559973  5435.37472215] [1.07963526 3.61975726 6.9015858 ] [0.62530334 0.50517382 0.32948935 0.35333472 0.35975513] [0.5 1.  1. ]\n",
      "0.6000000000000001 [ 841.14160471 2811.46562324 5433.63378517] [1.06804245 3.56986817 6.89937524] [0.550364   0.50517382 0.32948935 0.35333472 0.35975513] [0.6 1.  1. ]\n",
      "0.7000000000000001 [ 830.5315979  2766.9182083  5430.92193159] [1.05457036 3.51330394 6.89593185] [0.47542467 0.50517382 0.32948935 0.35333472 0.35975513] [0.7 1.  1. ]\n",
      "0.8 [ 818.23109538 2716.4234486  5427.1036541 ] [1.03895175 3.44918804 6.89108358] [0.40048534 0.50517382 0.32948935 0.35333472 0.35975513] [0.8 1.  1. ]\n",
      "0.9 [ 803.99784276 2659.20662454 5422.01613174] [1.02087903 3.37653678 6.88462368] [0.32554601 0.50517382 0.32948935 0.35333472 0.35975513] [0.9 1.  1. ]\n",
      "1.0 [ 787.55446685 2594.40678036 5415.4633665 ] [1.         3.29425696 6.87630328] [0.25060667 0.50517382 0.32948935 0.35333472 0.35975513] [1. 1. 1.]\n"
     ]
    },
    {
     "data": {
      "image/png": "[encoded data removed]",
      "text/plain": [
       "<Figure size 640x480 with 1 Axes>"
      ]
     },
     "metadata": {},
     "output_type": "display_data"
    }
   ],
   "source": [
    "for i in jnp.arange(0.0, 1.1, 0.1):\n",
    "    xi = jnp.arange(1, len(sol.value) - 1)\n",
    "    ii = jnp.minimum(xi * i, 1)\n",
    "\n",
    "    vv = jnp.concat([1 - (1 - sol.value[0:-2]) * ii, sol.value[-2:]])\n",
    "    bar_, sections = mkCutSpline(vv)\n",
    "    sections.plot(to_scale = False)\n",
    "    \n",
    "    swp = xs.sweep(wood, bar_, sections, t.sweep_default)\n",
    "    print(i, swp.harmonics, swp.harmonics / fundamental, vv, ii)"
   ]
  },
  {
   "cell_type": "code",
   "execution_count": 271,
   "metadata": {},
   "outputs": [
    {
     "data": {
      "text/plain": [
       "(Array([0.25352795, 0.50700718, 0.33254144], dtype=float64),\n",
       " Array([0.34858063, 0.35975513], dtype=float64))"
      ]
     },
     "execution_count": 271,
     "metadata": {},
     "output_type": "execute_result"
    }
   ],
   "source": [
    "sol.value[0:-2], sol.value[-2:]"
   ]
  },
  {
   "cell_type": "code",
   "execution_count": 268,
   "metadata": {},
   "outputs": [
    {
     "data": {
      "text/plain": [
       "Array([0.25352795, 0.50700718, 0.33254144, 0.34858063, 0.35975513],      dtype=float64)"
      ]
     },
     "execution_count": 268,
     "metadata": {},
     "output_type": "execute_result"
    }
   ],
   "source": [
    "sol.value"
   ]
  },
  {
   "cell_type": "code",
   "execution_count": 285,
   "metadata": {},
   "outputs": [
    {
     "data": {
      "text/plain": [
       "Array([1. , 1.2, 1.4, 1.6, 1.8, 2. , 2.2, 2.4, 2.6, 2.8, 3. , 3.2, 3.4,\n",
       "       3.6, 3.8, 4. , 4.2, 4.4, 4.6, 4.8], dtype=float64)"
      ]
     },
     "execution_count": 285,
     "metadata": {},
     "output_type": "execute_result"
    }
   ],
   "source": [
    "jnp.arange(start = 1, stop = 5, step = 0.2)"
   ]
  },
  {
   "cell_type": "code",
   "execution_count": 358,
   "metadata": {},
   "outputs": [],
   "source": [
    "def xsweep(wood):\n",
    "    vv = jnp.array([1.0, 0.34858063, 0.35975513])\n",
    "    bar_, sections = mkCutSpline(vv)\n",
    "    sections.plot(to_scale = True)\n",
    "    \n",
    "    swp = xs.sweep(wood, bar_, sections, t.sweep_default)\n",
    "    print(wood)\n",
    "    print(i, swp.harmonics, swp.harmonics / fundamental, vv, ii)\n",
    "    print(\"\")"
   ]
  },
  {
   "cell_type": "code",
   "execution_count": 359,
   "metadata": {},
   "outputs": [
    {
     "name": "stdout",
     "output_type": "stream",
     "text": [
      "Wood(rho=990, E=26100000000.0, G=8758389261.744967, nu=0.49)\n",
      "1.0 [1153.23311998 3083.04555279 5799.73045889] [1.46432173 3.91470772 7.36422775] [1.         0.34858063 0.35975513] [1. 1. 1.]\n",
      "\n"
     ]
    },
    {
     "data": {
      "image/png": "[encoded data removed]",
      "text/plain": [
       "<Figure size 640x480 with 1 Axes>"
      ]
     },
     "metadata": {},
     "output_type": "display_data"
    }
   ],
   "source": [
    "xsweep(t.Wood.make_E_nu(E = 26.100e9, nu = 0.49, rho = 990))"
   ]
  },
  {
   "cell_type": "code",
   "execution_count": 414,
   "metadata": {},
   "outputs": [
    {
     "name": "stdout",
     "output_type": "stream",
     "text": [
      "Wood(rho=1114, E=26100000000.0, G=8758389261.744967, nu=0.49)\n",
      "1.0 [1087.15660409 2906.39704614 5467.4247219 ] [1.38042085 3.69040767 6.94228139] [1.         0.34858063 0.35975513] [1. 1. 1.]\n",
      "\n"
     ]
    },
    {
     "data": {
      "image/png": "[encoded data removed]",
      "text/plain": [
       "<Figure size 640x480 with 1 Axes>"
      ]
     },
     "metadata": {},
     "output_type": "display_data"
    }
   ],
   "source": [
    "xsweep(t.Wood.make_E_nu(E = 26.100e9, nu = 0.49, rho = 1114))"
   ]
  },
  {
   "cell_type": "code",
   "execution_count": 422,
   "metadata": {},
   "outputs": [
    {
     "name": "stdout",
     "output_type": "stream",
     "text": [
      "Wood(rho=990, E=23150000000.0, G=7768456375.838926, nu=0.49)\n",
      "1.0 [1086.10634422 2903.58928849 5462.14285458] [1.37908728 3.68684251 6.93557472] [1.         0.34858063 0.35975513] [1. 1. 1.]\n",
      "\n"
     ]
    },
    {
     "data": {
      "image/png": "[encoded data removed]",
      "text/plain": [
       "<Figure size 640x480 with 1 Axes>"
      ]
     },
     "metadata": {},
     "output_type": "display_data"
    }
   ],
   "source": [
    "xsweep(t.Wood.make_E_nu(E = 23.150e9, nu = 0.49, rho = 990))"
   ]
  },
  {
   "cell_type": "code",
   "execution_count": 445,
   "metadata": {},
   "outputs": [
    {
     "name": "stdout",
     "output_type": "stream",
     "text": [
      "Wood(rho=990, E=26100000000.0, G=952554744.5255475, nu=12.7)\n",
      "1.0 [1086.0524148  2560.41973279 4229.77439505] [1.3790188  3.25110178 5.37077062] [1.         0.34858063 0.35975513] [1. 1. 1.]\n",
      "\n"
     ]
    },
    {
     "data": {
      "image/png": "[encoded data removed]",
      "text/plain": [
       "<Figure size 640x480 with 1 Axes>"
      ]
     },
     "metadata": {},
     "output_type": "display_data"
    }
   ],
   "source": [
    "xsweep(t.Wood.make_E_nu(E = 26.100e9, nu = 12.7, rho = 990))"
   ]
  },
  {
   "cell_type": "code",
   "execution_count": 459,
   "metadata": {},
   "outputs": [
    {
     "name": "stdout",
     "output_type": "stream",
     "text": [
      "Wood(rho=990, E=24500000000.0, G=1550632911.392405, nu=6.9)\n",
      "1.0 [1081.77351702 2688.10471385 4651.23559553] [1.37358565 3.41323023 5.90592244] [1.         0.34858063 0.35975513] [1. 1. 1.]\n",
      "\n"
     ]
    },
    {
     "data": {
      "image/png": "[encoded data removed]",
      "text/plain": [
       "<Figure size 640x480 with 1 Axes>"
      ]
     },
     "metadata": {},
     "output_type": "display_data"
    }
   ],
   "source": [
    "xsweep(t.Wood.make_E_nu(E = 24.500e9, nu = 6.9, rho = 990))\n",
    "# 1400000000.0 / 1531250000.0"
   ]
  },
  {
   "cell_type": "code",
   "execution_count": 480,
   "metadata": {},
   "outputs": [],
   "source": [
    "def xsweep19(wood):\n",
    "    vv = jnp.array([1.0, 1.0, 1.0])\n",
    "    bar_, sections = mkCutSpline(vv)\n",
    "    sections = sections._replace(depths = sections.depths * (19.5 / 20))\n",
    "    sections.plot(to_scale = True)\n",
    "    \n",
    "    swp = xs.sweep(wood, bar_, sections, t.sweep_default)\n",
    "    print(wood)\n",
    "    print(i, swp.harmonics, swp.harmonics / fundamental, vv, ii)\n",
    "    print(\"\")"
   ]
  },
  {
   "cell_type": "code",
   "execution_count": 487,
   "metadata": {},
   "outputs": [
    {
     "name": "stdout",
     "output_type": "stream",
     "text": [
      "Wood(rho=1059, E=26100000000.0, G=8758389261.744967, nu=0.49)\n",
      "1.0 [1088.0402664  2912.82460477 5488.96375706] [1.38154288 3.69856909 6.96963066] [1. 1. 1.] [1. 1. 1.]\n",
      "\n"
     ]
    },
    {
     "data": {
      "image/png": "[encoded data removed]",
      "text/plain": [
       "<Figure size 640x480 with 1 Axes>"
      ]
     },
     "metadata": {},
     "output_type": "display_data"
    }
   ],
   "source": [
    "xsweep19(t.Wood.make_E_nu(E = 26.100e9, nu = 0.49, rho = 1059))"
   ]
  },
  {
   "cell_type": "code",
   "execution_count": null,
   "metadata": {},
   "outputs": [],
   "source": []
  }
 ],
 "metadata": {
  "kernelspec": {
   "display_name": "Python 3 (ipykernel)",
   "language": "python",
   "name": "python3"
  },
  "language_info": {
   "codemirror_mode": {
    "name": "ipython",
    "version": 3
   },
   "file_extension": ".py",
   "mimetype": "text/x-python",
   "name": "python",
   "nbconvert_exporter": "python",
   "pygments_lexer": "ipython3",
   "version": "3.11.2"
  }
 },
 "nbformat": 4,
 "nbformat_minor": 4
}
