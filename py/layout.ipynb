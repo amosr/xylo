{
 "cells": [
  {
   "cell_type": "code",
   "execution_count": 1,
   "metadata": {},
   "outputs": [],
   "source": [
    "%load_ext autoreload\n",
    "%autoreload 2"
   ]
  },
  {
   "cell_type": "code",
   "execution_count": 2,
   "metadata": {},
   "outputs": [],
   "source": [
    "import jax\n",
    "import jax.numpy as jnp\n",
    "import numpy as np\n",
    "import matplotlib.pyplot as plt\n",
    "\n",
    "from typing import NamedTuple\n",
    "from functools import partial\n",
    "import math\n",
    "import json\n",
    "\n",
    "import drawsvg\n"
   ]
  },
  {
   "cell_type": "code",
   "execution_count": 3,
   "metadata": {},
   "outputs": [],
   "source": [
    "import xylo\n",
    "import xylo.types as t\n",
    "import xylo.tuning"
   ]
  },
  {
   "cell_type": "code",
   "execution_count": 4,
   "metadata": {},
   "outputs": [],
   "source": [
    "bar_width = 40\n",
    "node_ratio = 0.22\n",
    "\n",
    "# bar_spacing = 7\n",
    "bar_spacing = 8\n",
    "# angle1 = math.radians(2.68)\n",
    "angle1 = math.radians(2.624)\n",
    "# angle2 = math.radians(9.423)\n",
    "angle2 = math.radians(9.23)"
   ]
  },
  {
   "cell_type": "code",
   "execution_count": 5,
   "metadata": {},
   "outputs": [
    {
     "name": "stdout",
     "output_type": "stream",
     "text": [
      "{45: 0.0, 46: 0.5, 47: 1.0, 48: 1.5, 49: 2.0, 50: 2.5, 51: 3.0, 52: 4.0, 53: 4.5, 54: 5.0, 55: 5.5, 56: 6.0, 57: 7.0, 58: 7.5, 59: 8.0, 60: 8.5, 61: 9.0, 62: 9.5, 63: 10.0, 64: 11.0, 65: 11.5, 66: 12.0, 67: 12.5, 68: 13.0, 69: 14.0, 70: 14.5, 71: 15.0, 72: 15.5, 73: 16.0, 74: 16.5, 75: 17.0, 76: 18.0, 77: 18.5, 78: 19.0, 79: 19.5, 80: 20.0, 81: 21.0, 82: 21.5, 83: 22.0, 84: 22.5, 85: 23.0, 86: 23.5, 87: 24.0, 88: 25.0}\n"
     ]
    }
   ],
   "source": [
    "lengths = xylo.tuning.yamaha_YX500R.lengths\n",
    "lengthsmm = { k : v * 1000 for k, v in lengths.items() }\n",
    "x_index = { k: (380 - v) / 10 for k, v in lengthsmm.items() }\n",
    "# x at left side of bar\n",
    "x = { k: bar_spacing + (bar_width + bar_spacing) * v for k, v in x_index.items() }"
   ]
  },
  {
   "cell_type": "code",
   "execution_count": 204,
   "metadata": {},
   "outputs": [],
   "source": [
    "naturals = { k for k, v in lengthsmm.items() if v % 10 == 0 }\n",
    "accidentals = { k for k, v in lengthsmm.items() if v % 10 != 0 }"
   ]
  },
  {
   "cell_type": "code",
   "execution_count": 205,
   "metadata": {},
   "outputs": [],
   "source": [
    "y1s = { k: (380 * node_ratio) - ((x[k] - (bar_spacing + bar_width / 2)) * math.tan(angle1)) for k in lengths }\n",
    "y2s = { k: (380 * (1 - node_ratio)) - ((x[k] - (bar_spacing + bar_width / 2)) * math.tan(angle2)) for k in lengths }"
   ]
  },
  {
   "cell_type": "code",
   "execution_count": 206,
   "metadata": {},
   "outputs": [
    {
     "data": {
      "text/plain": [
       "<matplotlib.collections.PathCollection at 0x12f632210>"
      ]
     },
     "execution_count": 206,
     "metadata": {},
     "output_type": "execute_result"
    },
    {
     "data": {
      "image/png": "[encoded data removed]",
      "text/plain": [
       "<Figure size 640x480 with 1 Axes>"
      ]
     },
     "metadata": {},
     "output_type": "display_data"
    }
   ],
   "source": [
    "plt.scatter([x[k] for k in naturals], [-lengthsmm[k] for k in naturals])\n",
    "plt.scatter([x[k] for k in naturals], [-y1s[k] for k in naturals])\n",
    "plt.scatter([x[k] for k in naturals], [-y2s[k] for k in naturals])\n",
    "plt.scatter([x[k] for k in accidentals], [lengthsmm[k] for k in accidentals])\n",
    "plt.scatter([x[k] for k in accidentals], [y1s[k] for k in accidentals])\n",
    "plt.scatter([x[k] for k in accidentals], [y2s[k] for k in accidentals])"
   ]
  },
  {
   "cell_type": "code",
   "execution_count": 207,
   "metadata": {},
   "outputs": [
    {
     "data": {
      "text/plain": [
       "{45: 84.51658970115322,\n",
       " 46: 83.41668205976934,\n",
       " 47: 82.31677441838546,\n",
       " 48: 81.21686677700158,\n",
       " 49: 80.1169591356177,\n",
       " 50: 79.01705149423383,\n",
       " 51: 77.91714385284995,\n",
       " 52: 75.71732857008219,\n",
       " 53: 74.61742092869831,\n",
       " 54: 73.51751328731443,\n",
       " 55: 72.41760564593054,\n",
       " 56: 71.31769800454666,\n",
       " 57: 69.1178827217789,\n",
       " 58: 68.01797508039502,\n",
       " 59: 66.91806743901114,\n",
       " 60: 65.81815979762726,\n",
       " 61: 64.71825215624338,\n",
       " 62: 63.6183445148595,\n",
       " 63: 62.51843687347562,\n",
       " 64: 60.31862159070786,\n",
       " 65: 59.21871394932398,\n",
       " 66: 58.1188063079401,\n",
       " 67: 57.01889866655622,\n",
       " 68: 55.91899102517233,\n",
       " 69: 53.71917574240457,\n",
       " 70: 52.619268101020694,\n",
       " 71: 51.519360459636815,\n",
       " 72: 50.419452818252935,\n",
       " 73: 49.319545176869056,\n",
       " 74: 48.21963753548518,\n",
       " 75: 47.11972989410129,\n",
       " 76: 44.91991461133353,\n",
       " 77: 43.82000696994965,\n",
       " 78: 42.72009932856577,\n",
       " 79: 41.620191687181894,\n",
       " 80: 40.520284045798014,\n",
       " 81: 38.32046876303025,\n",
       " 82: 37.22056112164637,\n",
       " 83: 36.12065348026249,\n",
       " 84: 35.02074583887861,\n",
       " 85: 33.92083819749473,\n",
       " 86: 32.820930556110845,\n",
       " 87: 31.721022914726966,\n",
       " 88: 29.521207631959207}"
      ]
     },
     "execution_count": 207,
     "metadata": {},
     "output_type": "execute_result"
    }
   ],
   "source": [
    "y1s"
   ]
  },
  {
   "cell_type": "code",
   "execution_count": 208,
   "metadata": {},
   "outputs": [
    {
     "data": {
      "text/plain": [
       "{45: 80.34995924300614,\n",
       " 46: 79.25000815139873,\n",
       " 47: 78.15005705979127,\n",
       " 48: 77.05010596818386,\n",
       " 49: 75.95015487657639,\n",
       " 50: 74.85020378496898,\n",
       " 51: 73.75025269336152,\n",
       " 52: 71.55035051014664,\n",
       " 53: 70.45039941853918,\n",
       " 54: 69.35044832693177,\n",
       " 55: 68.2504972353243,\n",
       " 56: 67.1505461437169,\n",
       " 57: 64.95064396050202,\n",
       " 58: 63.850692868894555,\n",
       " 59: 62.75074177728712,\n",
       " 60: 61.65079068567968,\n",
       " 61: 60.550839594072244,\n",
       " 62: 59.45088850246481,\n",
       " 63: 58.35093741085737,\n",
       " 64: 56.15103522764247,\n",
       " 65: 55.05108413603506,\n",
       " 66: 53.95113304442759,\n",
       " 67: 52.851181952820184,\n",
       " 68: 51.75123086121272,\n",
       " 69: 49.551328677997844,\n",
       " 70: 48.45137758639041,\n",
       " 71: 47.35142649478297,\n",
       " 72: 46.25147540317553,\n",
       " 73: 45.151524311568096,\n",
       " 74: 44.05157321996063,\n",
       " 75: 42.95162212835319,\n",
       " 76: 40.75171994513832,\n",
       " 77: 39.65176885353088,\n",
       " 78: 38.551817761923445,\n",
       " 79: 37.45186667031601,\n",
       " 80: 36.35191557870857,\n",
       " 81: 34.1520133954937,\n",
       " 82: 33.05206230388626,\n",
       " 83: 31.952111212278794,\n",
       " 84: 30.852160120671357,\n",
       " 85: 29.75220902906392,\n",
       " 86: 28.652257937456483,\n",
       " 87: 27.552306845849046,\n",
       " 88: 25.35240466263417}"
      ]
     },
     "execution_count": 208,
     "metadata": {},
     "output_type": "execute_result"
    }
   ],
   "source": [
    "{ k: lengthsmm[k] - y2s[k] for k in lengthsmm }"
   ]
  },
  {
   "cell_type": "code",
   "execution_count": 209,
   "metadata": {},
   "outputs": [
    {
     "data": {
      "text/plain": [
       "{45: 299.65004075699386,\n",
       " 46: 295.74999184860127,\n",
       " 47: 291.84994294020873,\n",
       " 48: 287.94989403181614,\n",
       " 49: 284.0498451234236,\n",
       " 50: 280.149796215031,\n",
       " 51: 276.2497473066385,\n",
       " 52: 268.44964948985336,\n",
       " 53: 264.5496005814608,\n",
       " 54: 260.64955167306823,\n",
       " 55: 256.7495027646757,\n",
       " 56: 252.8494538562831,\n",
       " 57: 245.04935603949798,\n",
       " 58: 241.14930713110545,\n",
       " 59: 237.24925822271288,\n",
       " 60: 233.34920931432032,\n",
       " 61: 229.44916040592776,\n",
       " 62: 225.5491114975352,\n",
       " 63: 221.64906258914263,\n",
       " 64: 213.84896477235753,\n",
       " 65: 209.94891586396494,\n",
       " 66: 206.0488669555724,\n",
       " 67: 202.14881804717982,\n",
       " 68: 198.24876913878728,\n",
       " 69: 190.44867132200216,\n",
       " 70: 186.5486224136096,\n",
       " 71: 182.64857350521703,\n",
       " 72: 178.74852459682447,\n",
       " 73: 174.8484756884319,\n",
       " 74: 170.94842678003937,\n",
       " 75: 167.0483778716468,\n",
       " 76: 159.24828005486168,\n",
       " 77: 155.34823114646912,\n",
       " 78: 151.44818223807655,\n",
       " 79: 147.548133329684,\n",
       " 80: 143.64808442129143,\n",
       " 81: 135.8479866045063,\n",
       " 82: 131.94793769611374,\n",
       " 83: 128.0478887877212,\n",
       " 84: 124.14783987932864,\n",
       " 85: 120.24779097093608,\n",
       " 86: 116.34774206254352,\n",
       " 87: 112.44769315415095,\n",
       " 88: 104.64759533736583}"
      ]
     },
     "execution_count": 209,
     "metadata": {},
     "output_type": "execute_result"
    }
   ],
   "source": [
    "y2s"
   ]
  },
  {
   "cell_type": "code",
   "execution_count": 194,
   "metadata": {},
   "outputs": [
    {
     "data": {
      "image/svg+xml": [
       "<?xml version=\"1.0\" encoding=\"UTF-8\"?>\n",
       "<svg xmlns=\"http://www.w3.org/2000/svg\" xmlns:xlink=\"http://www.w3.org/1999/xlink\"\n",
       "     width=\"297mm\" height=\"210mm\" viewBox=\"0 0 297mm 210mm\">\n",
       "<defs>\n",
       "</defs>\n",
       "<rect x=\"0\" y=\"0\" width=\"297mm\" height=\"210mm\" stroke=\"green\" stroke-width=\"2\" fill=\"none\" />\n",
       "<text x=\"20mm\" y=\"8mm\" font-size=\"5mm\">accidental-rear</text>\n",
       "<g transform=\"rotate(30)\">\n",
       "<text x=\"219.0171010409291mm\" y=\"13mm\" font-size=\"2mm\">65</text>\n",
       "<circle cx=\"220.0171010409291mm\" cy=\"11mm\" r=\"0.5mm\" />\n",
       "<rect x=\"10mm\" y=\"10mm\" width=\"220.0171010409291mm\" height=\"0.5mm\" stroke=\"red\" stroke-width=\"1\" />\n",
       "<text x=\"211.21691612051347mm\" y=\"13mm\" font-size=\"2mm\">67</text>\n",
       "<circle cx=\"212.21691612051347mm\" cy=\"11mm\" r=\"0.5mm\" />\n",
       "<rect x=\"10mm\" y=\"10mm\" width=\"212.21691612051347mm\" height=\"0.5mm\" stroke=\"red\" stroke-width=\"1\" />\n",
       "<text x=\"195.6165462796822mm\" y=\"13mm\" font-size=\"2mm\">70</text>\n",
       "<circle cx=\"196.6165462796822mm\" cy=\"11mm\" r=\"0.5mm\" />\n",
       "<rect x=\"10mm\" y=\"10mm\" width=\"196.6165462796822mm\" height=\"0.5mm\" stroke=\"red\" stroke-width=\"1\" />\n",
       "<text x=\"187.8163613592666mm\" y=\"13mm\" font-size=\"2mm\">72</text>\n",
       "<circle cx=\"188.8163613592666mm\" cy=\"11mm\" r=\"0.5mm\" />\n",
       "<rect x=\"10mm\" y=\"10mm\" width=\"188.8163613592666mm\" height=\"0.5mm\" stroke=\"red\" stroke-width=\"1\" />\n",
       "<text x=\"180.01617643885098mm\" y=\"13mm\" font-size=\"2mm\">74</text>\n",
       "<circle cx=\"181.01617643885098mm\" cy=\"11mm\" r=\"0.5mm\" />\n",
       "<rect x=\"10mm\" y=\"10mm\" width=\"181.01617643885098mm\" height=\"0.5mm\" stroke=\"red\" stroke-width=\"1\" />\n",
       "<text x=\"164.4158065980197mm\" y=\"13mm\" font-size=\"2mm\">77</text>\n",
       "<circle cx=\"165.4158065980197mm\" cy=\"11mm\" r=\"0.5mm\" />\n",
       "<rect x=\"10mm\" y=\"10mm\" width=\"165.4158065980197mm\" height=\"0.5mm\" stroke=\"red\" stroke-width=\"1\" />\n",
       "<text x=\"304.819135165501mm\" y=\"13mm\" font-size=\"2mm\">46</text>\n",
       "<circle cx=\"305.819135165501mm\" cy=\"11mm\" r=\"0.5mm\" />\n",
       "<rect x=\"10mm\" y=\"10mm\" width=\"305.819135165501mm\" height=\"0.5mm\" stroke=\"red\" stroke-width=\"1\" />\n",
       "<text x=\"156.6156216776041mm\" y=\"13mm\" font-size=\"2mm\">79</text>\n",
       "<circle cx=\"157.6156216776041mm\" cy=\"11mm\" r=\"0.5mm\" />\n",
       "<rect x=\"10mm\" y=\"10mm\" width=\"157.6156216776041mm\" height=\"0.5mm\" stroke=\"red\" stroke-width=\"1\" />\n",
       "<text x=\"297.01895024508536mm\" y=\"13mm\" font-size=\"2mm\">48</text>\n",
       "<circle cx=\"298.01895024508536mm\" cy=\"11mm\" r=\"0.5mm\" />\n",
       "<rect x=\"10mm\" y=\"10mm\" width=\"298.01895024508536mm\" height=\"0.5mm\" stroke=\"red\" stroke-width=\"1\" />\n",
       "<text x=\"289.21876532466973mm\" y=\"13mm\" font-size=\"2mm\">50</text>\n",
       "<circle cx=\"290.21876532466973mm\" cy=\"11mm\" r=\"0.5mm\" />\n",
       "<rect x=\"10mm\" y=\"10mm\" width=\"290.21876532466973mm\" height=\"0.5mm\" stroke=\"red\" stroke-width=\"1\" />\n",
       "<text x=\"141.01525183677285mm\" y=\"13mm\" font-size=\"2mm\">82</text>\n",
       "<circle cx=\"142.01525183677285mm\" cy=\"11mm\" r=\"0.5mm\" />\n",
       "<rect x=\"10mm\" y=\"10mm\" width=\"142.01525183677285mm\" height=\"0.5mm\" stroke=\"red\" stroke-width=\"1\" />\n",
       "<text x=\"133.21506691635722mm\" y=\"13mm\" font-size=\"2mm\">84</text>\n",
       "<circle cx=\"134.21506691635722mm\" cy=\"11mm\" r=\"0.5mm\" />\n",
       "<rect x=\"10mm\" y=\"10mm\" width=\"134.21506691635722mm\" height=\"0.5mm\" stroke=\"red\" stroke-width=\"1\" />\n",
       "<text x=\"273.61839548383847mm\" y=\"13mm\" font-size=\"2mm\">53</text>\n",
       "<circle cx=\"274.61839548383847mm\" cy=\"11mm\" r=\"0.5mm\" />\n",
       "<rect x=\"10mm\" y=\"10mm\" width=\"274.61839548383847mm\" height=\"0.5mm\" stroke=\"red\" stroke-width=\"1\" />\n",
       "<text x=\"125.41488199594158mm\" y=\"13mm\" font-size=\"2mm\">86</text>\n",
       "<circle cx=\"126.41488199594158mm\" cy=\"11mm\" r=\"0.5mm\" />\n",
       "<rect x=\"10mm\" y=\"10mm\" width=\"126.41488199594158mm\" height=\"0.5mm\" stroke=\"red\" stroke-width=\"1\" />\n",
       "<text x=\"265.8182105634229mm\" y=\"13mm\" font-size=\"2mm\">55</text>\n",
       "<circle cx=\"266.8182105634229mm\" cy=\"11mm\" r=\"0.5mm\" />\n",
       "<rect x=\"10mm\" y=\"10mm\" width=\"266.8182105634229mm\" height=\"0.5mm\" stroke=\"red\" stroke-width=\"1\" />\n",
       "<text x=\"250.2178407225916mm\" y=\"13mm\" font-size=\"2mm\">58</text>\n",
       "<circle cx=\"251.2178407225916mm\" cy=\"11mm\" r=\"0.5mm\" />\n",
       "<rect x=\"10mm\" y=\"10mm\" width=\"251.2178407225916mm\" height=\"0.5mm\" stroke=\"red\" stroke-width=\"1\" />\n",
       "<text x=\"242.417655802176mm\" y=\"13mm\" font-size=\"2mm\">60</text>\n",
       "<circle cx=\"243.417655802176mm\" cy=\"11mm\" r=\"0.5mm\" />\n",
       "<rect x=\"10mm\" y=\"10mm\" width=\"243.417655802176mm\" height=\"0.5mm\" stroke=\"red\" stroke-width=\"1\" />\n",
       "<text x=\"234.61747088176037mm\" y=\"13mm\" font-size=\"2mm\">62</text>\n",
       "<circle cx=\"235.61747088176037mm\" cy=\"11mm\" r=\"0.5mm\" />\n",
       "<rect x=\"10mm\" y=\"10mm\" width=\"235.61747088176037mm\" height=\"0.5mm\" stroke=\"red\" stroke-width=\"1\" />\n",
       "<circle cx=\"10mm\" cy=\"11mm\" r=\"1mm\" />\n",
       "</g>\n",
       "</svg>"
      ],
      "text/plain": [
       "<drawsvg.drawing.Drawing at 0x12da556d0>"
      ]
     },
     "execution_count": 194,
     "metadata": {},
     "output_type": "execute_result"
    }
   ],
   "source": [
    "def mkdots(keys, cuts, filename, offsetx = 1.3, rot = 0):\n",
    "  d = drawsvg.Drawing('297mm', '210mm')\n",
    "  d.append(drawsvg.Rectangle(0, 0, '297mm', '210mm', stroke='green', stroke_width=2, fill='none'))\n",
    "  d.append(drawsvg.Text(filename, '5mm', '20mm', '8mm'))\n",
    "  grp = drawsvg.Group(transform = f'rotate({rot})')\n",
    "  y = 10\n",
    "  for k in keys:\n",
    "    cut = cuts[k] + offsetx\n",
    "    grp.append(drawsvg.Text(f'{k}', '2mm', f'{cut-1}mm', f'{y + 3}mm'))\n",
    "    grp.append(drawsvg.Circle(f'{cut}mm', f'{y + 1}mm', '0.5mm'))\n",
    "    grp.append(drawsvg.Rectangle(f'{offsetx}mm', f'{y}mm', f'{cut}mm', f'0.5mm', stroke='red', stroke_width=1))\n",
    "  grp.append(drawsvg.Circle(f'{offsetx}mm', f'{y+1}mm', '1mm'))\n",
    "\n",
    "  d.append(grp)\n",
    "\n",
    "  d.save_html(f'data/layout/{filename}.html')\n",
    "  return d\n",
    "\n",
    "mkdots(naturals, y1s, 'natural-rear')\n",
    "mkdots(naturals, y2s, 'natural-front', rot = 30, offsetx=10)\n",
    "mkdots(accidentals, y1s, 'accidental-front')\n",
    "mkdots(accidentals, y2s, 'accidental-rear', rot = 30, offsetx=10)"
   ]
  },
  {
   "cell_type": "code",
   "execution_count": null,
   "metadata": {},
   "outputs": [],
   "source": []
  }
 ],
 "metadata": {
  "kernelspec": {
   "display_name": ".venv",
   "language": "python",
   "name": "python3"
  },
  "language_info": {
   "codemirror_mode": {
    "name": "ipython",
    "version": 3
   },
   "file_extension": ".py",
   "mimetype": "text/x-python",
   "name": "python",
   "nbconvert_exporter": "python",
   "pygments_lexer": "ipython3",
   "version": "3.12.3"
  }
 },
 "nbformat": 4,
 "nbformat_minor": 2
}
