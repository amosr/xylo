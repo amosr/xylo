{
 "cells": [
  {
   "cell_type": "code",
   "execution_count": 1,
   "id": "d2b80fe5-eb06-4aae-bf4c-b68cd648cacc",
   "metadata": {},
   "outputs": [],
   "source": [
    "import numpy as np\n",
    "import numpy.linalg\n",
    "import scipy.linalg\n",
    "import scipy.sparse as sparse\n",
    "import scipy.sparse.linalg as linalg\n",
    "import math\n",
    "import matplotlib.pyplot as plt"
   ]
  },
  {
   "cell_type": "code",
   "execution_count": 2,
   "id": "a9bd55bb-1b13-4701-be9b-ef688cf95cbf",
   "metadata": {},
   "outputs": [],
   "source": [
    "import xylo\n",
    "import xylo.types as t\n",
    "import xylo.woods\n",
    "import xylo.cut\n",
    "import xylo.receptance as r\n",
    "import xylo.sweep"
   ]
  },
  {
   "cell_type": "code",
   "execution_count": 19,
   "id": "c7c08c00-7726-421e-b22e-8586726b5e65",
   "metadata": {},
   "outputs": [],
   "source": [
    "E = 30e6\n",
    "h = 0.01\n",
    "poisson = 0.3\n",
    "L = 1\n",
    "wid = 0.1\n",
    "rho = 800\n",
    "num_elements = 10\n",
    "\n",
    "bar = t.BarProps(width = wid, depth = h, length = L, elements = num_elements, min_depth = h)\n",
    "wood = t.Wood.make_E_nu(rho = rho, E = E, nu = poisson)\n",
    "cut = t.CutCubic(cubic = 0, square = 0, offset = 0)\n",
    "sec = xylo.cut.cubic(bar, cut)\n"
   ]
  },
  {
   "cell_type": "code",
   "execution_count": 20,
   "id": "afe19312-d35a-4370-b352-3c1978de61ad",
   "metadata": {},
   "outputs": [
    {
     "data": {
      "text/plain": [
       "(Wood(rho=800, E=30000000.0, G=11538461.538461538, nu=0.3),\n",
       " BarProps(width=0.1, depth=0.01, length=1, elements=10, min_depth=0.01),\n",
       " Sections(xmids=Array([-0.45, -0.35, -0.25, -0.15, -0.05,  0.05,  0.15,  0.25,  0.35,\n",
       "         0.45], dtype=float64), depths=Array([0.01, 0.01, 0.01, 0.01, 0.01, 0.01, 0.01, 0.01, 0.01, 0.01],      dtype=float64), length_per_element=0.1))"
      ]
     },
     "execution_count": 20,
     "metadata": {},
     "output_type": "execute_result"
    }
   ],
   "source": [
    "wood, bar, sec"
   ]
  },
  {
   "cell_type": "code",
   "execution_count": 21,
   "id": "4113f3c2-a0a1-48ba-9544-329760eca655",
   "metadata": {},
   "outputs": [
    {
     "data": {
      "text/plain": [
       "Array([[0.04530125, 0.40176675],\n",
       "       [0.40176675, 2.58929548]], dtype=float64)"
      ]
     },
     "execution_count": 21,
     "metadata": {},
     "output_type": "execute_result"
    }
   ],
   "source": [
    "r.receptance(wood, bar, sec, 10)"
   ]
  },
  {
   "cell_type": "code",
   "execution_count": 23,
   "id": "0e65f4bb-2307-47f2-a23e-ae95a3d926d9",
   "metadata": {},
   "outputs": [
    {
     "data": {
      "text/plain": [
       "Array([[-0.0246033 , -0.03472766],\n",
       "       [-0.03472766,  0.46435436]], dtype=float64)"
      ]
     },
     "execution_count": 23,
     "metadata": {},
     "output_type": "execute_result"
    }
   ],
   "source": [
    "r.receptance(wood, bar, sec, 20)"
   ]
  },
  {
   "cell_type": "code",
   "execution_count": 24,
   "id": "2c3fac33-aa59-4cfe-b612-780300105279",
   "metadata": {},
   "outputs": [
    {
     "data": {
      "text/plain": [
       "Array([[0.0074133 , 0.12907456],\n",
       "       [0.12907456, 1.49274846]], dtype=float64)"
      ]
     },
     "execution_count": 24,
     "metadata": {},
     "output_type": "execute_result"
    }
   ],
   "source": [
    "r.receptance(wood, bar, sec, 30)"
   ]
  },
  {
   "cell_type": "code",
   "execution_count": 25,
   "id": "d5055e3f-b5d3-4b87-8de2-c92694e5d379",
   "metadata": {},
   "outputs": [
    {
     "data": {
      "text/plain": [
       "Array([[-0.00453933,  0.00182029],\n",
       "       [ 0.00182029,  0.43975323]], dtype=float64)"
      ]
     },
     "execution_count": 25,
     "metadata": {},
     "output_type": "execute_result"
    }
   ],
   "source": [
    "r.receptance(wood, bar, sec, 50)"
   ]
  },
  {
   "cell_type": "code",
   "execution_count": 26,
   "id": "96a613b8-409c-4bb4-a313-82852c891c18",
   "metadata": {},
   "outputs": [
    {
     "data": {
      "text/plain": [
       "Array([[-0.00389741, -0.0186356 ],\n",
       "       [-0.0186356 ,  0.11101509]], dtype=float64)"
      ]
     },
     "execution_count": 26,
     "metadata": {},
     "output_type": "execute_result"
    }
   ],
   "source": [
    "r.receptance(wood, bar, sec, 80)"
   ]
  },
  {
   "cell_type": "code",
   "execution_count": 27,
   "id": "5d967925-be71-4274-ac9b-3537294bc08d",
   "metadata": {},
   "outputs": [
    {
     "data": {
      "text/plain": [
       "Array([[-0.0016425 , -0.00781019],\n",
       "       [-0.00781019,  0.14265244]], dtype=float64)"
      ]
     },
     "execution_count": 27,
     "metadata": {},
     "output_type": "execute_result"
    }
   ],
   "source": [
    "r.receptance(wood, bar, sec, 130)"
   ]
  },
  {
   "cell_type": "code",
   "execution_count": null,
   "id": "484dee83-7730-4233-b6f0-d68bd4259415",
   "metadata": {},
   "outputs": [],
   "source": []
  }
 ],
 "metadata": {
  "kernelspec": {
   "display_name": "Python 3 (ipykernel)",
   "language": "python",
   "name": "python3"
  },
  "language_info": {
   "codemirror_mode": {
    "name": "ipython",
    "version": 3
   },
   "file_extension": ".py",
   "mimetype": "text/x-python",
   "name": "python",
   "nbconvert_exporter": "python",
   "pygments_lexer": "ipython3",
   "version": "3.11.2"
  }
 },
 "nbformat": 4,
 "nbformat_minor": 5
}
