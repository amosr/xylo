{
 "cells": [
  {
   "cell_type": "code",
   "execution_count": 1,
   "id": "f895ca5b-c96a-4059-a4ca-b2b6112921c8",
   "metadata": {},
   "outputs": [],
   "source": [
    "# Suits 2001\n",
    "# Recreating some data from Suits 2001 paper: \"Basic physics of xylophone and marimba bars\""
   ]
  },
  {
   "cell_type": "code",
   "execution_count": 2,
   "id": "5d7e8a84-6496-41ee-9f3c-4b145a119439",
   "metadata": {},
   "outputs": [],
   "source": [
    "import jax.numpy as jnp\n",
    "import math\n",
    "import matplotlib.pyplot as plt"
   ]
  },
  {
   "cell_type": "code",
   "execution_count": 3,
   "id": "6c9ebf4e-d3c7-4e84-96c1-1c544bb25455",
   "metadata": {},
   "outputs": [],
   "source": [
    "import xylo\n",
    "import xylo.types as t\n",
    "import xylo.woods\n",
    "import xylo.cut\n",
    "import xylo.receptance as r\n",
    "import xylo.sweep"
   ]
  },
  {
   "cell_type": "code",
   "execution_count": 8,
   "id": "723e2dd8-54b8-4626-bf39-84563529eae2",
   "metadata": {},
   "outputs": [],
   "source": [
    "no_cut = t.CutCubic(cubic = 0, square = 0, offset = 0)\n",
    "\n",
    "oak = t.Wood.make_E_G(rho = 760, E = 14.7e9, G = 1.47e9)\n"
   ]
  },
  {
   "cell_type": "code",
   "execution_count": 11,
   "id": "a774687e-9572-4732-b3d7-fbbd8997064d",
   "metadata": {},
   "outputs": [],
   "source": [
    "def sweep_no_cut(bar: t.BarProps, mat: t.Wood = oak, sweep = t.FrequencySweep(start_freq = 10, stop_freq = 20000, num_freq = 200, num_harmonics = 5, bisect_iters = 10)):\n",
    "    sec = xylo.cut.cubic(bar, no_cut)\n",
    "    swp = xylo.sweep.sweep(mat, bar, sec, sweep)\n",
    "    return swp.harmonics"
   ]
  },
  {
   "cell_type": "code",
   "execution_count": 12,
   "id": "6ca6cd03-02f8-406e-82ec-b2c06ae3f7dc",
   "metadata": {},
   "outputs": [
    {
     "data": {
      "text/plain": [
       "Array([ 1336.36781733,  3432.56803807,  6148.59948068,  9193.74116303,\n",
       "       12396.18594884], dtype=float64)"
      ]
     },
     "execution_count": 12,
     "metadata": {},
     "output_type": "execute_result"
    }
   ],
   "source": [
    "# Table 1, row 1\n",
    "oak1 = t.Wood.make_E_G(rho = 760, E = 14.7e9, G = 1.47e9)\n",
    "oak1_bar = t.BarProps(width = 0.032, depth = 0.014, length = 0.214, elements = 400, min_depth = 0.014)\n",
    "sweep_no_cut(oak1_bar, oak1)\n",
    "# Expect first fundamental ~1340"
   ]
  },
  {
   "cell_type": "code",
   "execution_count": 13,
   "id": "6a27dadf-32be-43d5-9370-caebf3a1f69c",
   "metadata": {},
   "outputs": [
    {
     "data": {
      "text/plain": [
       "Array([ 554.27655233, 1478.9225941 , 2769.76832847, 4330.95385095,\n",
       "       6081.47359799], dtype=float64)"
      ]
     },
     "execution_count": 13,
     "metadata": {},
     "output_type": "execute_result"
    }
   ],
   "source": [
    "# Table 1, row 2\n",
    "sweep_no_cut(t.BarProps(width = 0.032, depth = 0.014, length = 0.329, elements = 500, min_depth = 0.014), t.Wood.make_E_G(rho = 760, E = 13.6e9, G = 1.36e9))\n",
    "# Expect first fundamental ~550"
   ]
  },
  {
   "cell_type": "code",
   "execution_count": 14,
   "id": "5be85d6e-6e7c-433d-85d7-bbf645ef3aef",
   "metadata": {},
   "outputs": [
    {
     "data": {
      "text/plain": [
       "Array([ 848.69615623, 2234.44067457, 4116.05812608, 6324.30229374,\n",
       "       8733.6808192 ], dtype=float64)"
      ]
     },
     "execution_count": 14,
     "metadata": {},
     "output_type": "execute_result"
    }
   ],
   "source": [
    "# Table 1, row 3\n",
    "sweep_no_cut(t.BarProps(width = 0.032, depth = 0.014, length = 0.273, elements = 500, min_depth = 0.014), t.Wood.make_E_G(rho = 680, E = 13.7e9, G = 1.37e9))\n",
    "# Expect first fundamental ~850"
   ]
  },
  {
   "cell_type": "code",
   "execution_count": 15,
   "id": "327f2b14-7b9f-4a1e-9218-f4e43eb8725d",
   "metadata": {},
   "outputs": [
    {
     "data": {
      "text/plain": [
       "Array([ 1118.6446875 ,  2913.92475939,  5301.21638195,  8044.52868931,\n",
       "       10984.77416057], dtype=float64)"
      ]
     },
     "execution_count": 15,
     "metadata": {},
     "output_type": "execute_result"
    }
   ],
   "source": [
    "# Table 1, row 4\n",
    "sweep_no_cut(t.BarProps(width = 0.032, depth = 0.014, length = 0.243, elements = 500, min_depth = 0.014), t.Wood.make_E_G(rho = 680, E = 15.1e9, G = 1.51e9))\n",
    "# Expect first fundamental ~1140"
   ]
  },
  {
   "cell_type": "code",
   "execution_count": 16,
   "id": "0adc570f-c831-4b49-9d3b-022d400ead61",
   "metadata": {},
   "outputs": [
    {
     "data": {
      "text/plain": [
       "Array([ 1444.47162801,  3726.37105582,  6706.28355761, 10071.73689927,\n",
       "       13629.53491738], dtype=float64)"
      ]
     },
     "execution_count": 16,
     "metadata": {},
     "output_type": "execute_result"
    }
   ],
   "source": [
    "# Table 1, row 5\n",
    "sweep_no_cut(t.BarProps(width = 0.032, depth = 0.014, length = 0.222, elements = 500, min_depth = 0.014), t.Wood.make_E_G(rho = 380, E = 9.9e9, G = 0.99e9))\n",
    "# Expect first fundamental ~1430"
   ]
  },
  {
   "cell_type": "code",
   "execution_count": 17,
   "id": "e97b6f9a-1072-4ee2-ae27-ceb05672ad47",
   "metadata": {},
   "outputs": [
    {
     "data": {
      "text/plain": [
       "Array([ 807.75674692, 2126.66462278, 3917.51423511, 6019.20222109,\n",
       "       8312.24867179], dtype=float64)"
      ]
     },
     "execution_count": 17,
     "metadata": {},
     "output_type": "execute_result"
    }
   ],
   "source": [
    "# Table 1, row 6\n",
    "sweep_no_cut(t.BarProps(width = 0.032, depth = 0.014, length = 0.273, elements = 500, min_depth = 0.014), t.Wood.make_E_G(rho = 400, E = 7.3e9, G = 0.73e9))\n",
    "# Expect first fundamental ~810"
   ]
  },
  {
   "cell_type": "code",
   "execution_count": 22,
   "id": "87615d7f-28a4-4915-9648-b6f742c27622",
   "metadata": {},
   "outputs": [
    {
     "name": "stdout",
     "output_type": "stream",
     "text": [
      "2.419862482347648\n",
      "2.515087100190847\n",
      "2.576885631884346\n",
      "2.6184102943929486\n"
     ]
    }
   ],
   "source": [
    "# Figure 6\n",
    "# Timoshenko G=E/10\n",
    "def f6e10(length: float):\n",
    "    bar = t.BarProps(width = 0.0305, depth = 0.0191, length = length, elements = 500, min_depth = 0.0191)\n",
    "    swp = sweep_no_cut(bar, oak)\n",
    "    # print(swp)\n",
    "    print(swp[1] / swp[0])\n",
    "\n",
    "# Expect range from ~2.3 to ~2.6, increasing\n",
    "f6e10(0.20)\n",
    "f6e10(0.25)\n",
    "f6e10(0.30)\n",
    "f6e10(0.35)"
   ]
  },
  {
   "cell_type": "code",
   "execution_count": null,
   "id": "9061f70d-a3d7-4000-ab11-46aea05f8794",
   "metadata": {},
   "outputs": [],
   "source": []
  }
 ],
 "metadata": {
  "kernelspec": {
   "display_name": "Python 3 (ipykernel)",
   "language": "python",
   "name": "python3"
  },
  "language_info": {
   "codemirror_mode": {
    "name": "ipython",
    "version": 3
   },
   "file_extension": ".py",
   "mimetype": "text/x-python",
   "name": "python",
   "nbconvert_exporter": "python",
   "pygments_lexer": "ipython3",
   "version": "3.11.2"
  }
 },
 "nbformat": 4,
 "nbformat_minor": 5
}
