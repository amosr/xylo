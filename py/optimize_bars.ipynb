{
 "cells": [
  {
   "cell_type": "code",
   "execution_count": 22,
   "metadata": {},
   "outputs": [
    {
     "name": "stdout",
     "output_type": "stream",
     "text": [
      "The autoreload extension is already loaded. To reload it, use:\n",
      "  %reload_ext autoreload\n"
     ]
    }
   ],
   "source": [
    "%load_ext autoreload\n",
    "%autoreload 2"
   ]
  },
  {
   "cell_type": "code",
   "execution_count": 23,
   "metadata": {},
   "outputs": [],
   "source": [
    "import jax\n",
    "import jax.numpy as jnp\n",
    "import numpy as np\n",
    "import matplotlib.pyplot as plt\n",
    "import evosax\n",
    "\n",
    "import json\n"
   ]
  },
  {
   "cell_type": "code",
   "execution_count": 24,
   "metadata": {},
   "outputs": [],
   "source": [
    "import xylo\n",
    "import xylo.types as t\n",
    "import xylo.woods\n",
    "import xylo.cut\n",
    "\n",
    "import xylo.opt\n",
    "\n",
    "import xylo.tuning\n",
    "import xylo.database"
   ]
  },
  {
   "cell_type": "code",
   "execution_count": 27,
   "metadata": {},
   "outputs": [],
   "source": [
    "tuning = xylo.tuning.yamaha_YX500R\n",
    "# wood = t.Wood.make_E_nu(E = 29.100e9, nu = 8.20, rho = 1059)\n",
    "# init_mean = None"
   ]
  },
  {
   "cell_type": "code",
   "execution_count": 28,
   "metadata": {},
   "outputs": [],
   "source": [
    "options = xylo.opt.Options(num_generations = 100, strategy = evosax.OpenES(popsize = 2000, num_dims = 3), absolute_tolerance = 1e-3)"
   ]
  },
  {
   "cell_type": "code",
   "execution_count": 52,
   "metadata": {},
   "outputs": [
    {
     "name": "stdout",
     "output_type": "stream",
     "text": [
      "weights [1.0, 0.3, 0.1]\n",
      "iteration 0\n",
      "[0.67002442 0.82464598 0.4145144 ] 0.004090484\n",
      "[ 883.81558328 2650.34086539 5101.58493337] [0.99979138 2.99812315 5.77102368] 0.292835\n",
      "iteration 10\n",
      "[0.65965353 0.83377661 0.40560952] 0.004085171\n",
      "[ 883.81558328 2651.24350356 5096.8749868 ] [0.99979138 2.99914423 5.76569569] 0.292835\n",
      "iteration 20\n",
      "[0.6650316  0.82922472 0.40986941] 0.003998235\n",
      "[ 883.97805995 2651.22298905 5098.50867842] [0.99997518 2.99912103 5.76754375] 0.292835\n",
      "iteration 30\n",
      "[0.6650316  0.82922472 0.40986941] 0.003998235\n",
      "[ 883.97805995 2651.22298905 5098.50867842] [0.99997518 2.99912103 5.76754375] 0.292835\n",
      "iteration 40\n",
      "[0.6650316  0.82922472 0.40986941] 0.003998235\n",
      "[ 883.97805995 2651.22298905 5098.50867842] [0.99997518 2.99912103 5.76754375] 0.292835\n",
      "iteration 50\n",
      "[0.6650316  0.82922472 0.40986941] 0.003998235\n",
      "[ 883.97805995 2651.22298905 5098.50867842] [0.99997518 2.99912103 5.76754375] 0.292835\n",
      "iteration 60\n",
      "[0.6650316  0.82922472 0.40986941] 0.003998235\n",
      "[ 883.97805995 2651.22298905 5098.50867842] [0.99997518 2.99912103 5.76754375] 0.292835\n",
      "iteration 70\n",
      "[0.6650316  0.82922472 0.40986941] 0.003998235\n",
      "[ 883.97805995 2651.22298905 5098.50867842] [0.99997518 2.99912103 5.76754375] 0.292835\n",
      "iteration 80\n",
      "[0.6650316  0.82922472 0.40986941] 0.003998235\n",
      "[ 883.97805995 2651.22298905 5098.50867842] [0.99997518 2.99912103 5.76754375] 0.292835\n",
      "iteration 90\n",
      "[0.6650316  0.82922472 0.40986941] 0.003998235\n",
      "[ 883.97805995 2651.22298905 5098.50867842] [0.99997518 2.99912103 5.76754375] 0.292835\n",
      "61\n",
      "---------------\n",
      "[0.99997518 2.99912103 5.76754375]\n",
      "\n",
      "weights [1.0, 0.3, 0.1]\n",
      "iteration 0\n",
      "[1.         0.66802924 0.82307508 0.60833708] 0.0041268324\n",
      "[ 884.03755845 2653.23568982 5095.50523423] [1.00004249 3.00139784 5.76414619] 0.292835\n",
      "iteration 10\n",
      "[1.         0.68493899 0.81085926 0.629774  ] 0.0041228235\n",
      "[ 883.79651325 2649.98300126 5102.3221424 ] [0.99976981 2.99771833 5.77185763] 0.292835\n",
      "iteration 20\n",
      "[1.         0.67267302 0.81970396 0.61543224] 0.0040756427\n",
      "[ 883.8277881  2650.23373409 5101.87617644] [0.99980519 2.99800196 5.77135314] 0.292835\n"
     ]
    }
   ],
   "source": [
    "for num_dims in range(3,10):\n",
    "  options = xylo.opt.Options(num_generations = 100, strategy = evosax.OpenES(popsize = 2000, num_dims = num_dims), absolute_tolerance = 1e-3)\n",
    "  init_mean = None\n",
    "\n",
    "  # for note in range(57, 89):\n",
    "  for note in [61]:\n",
    "    db = xylo.database.get()\n",
    "    match db.get_best_for_dims(note, num_dims):\n",
    "      case None:\n",
    "        pass\n",
    "      case e:\n",
    "        init_mean = e\n",
    "\n",
    "    options_ = options._replace(init_mean = init_mean)\n",
    "    # options_ = options\n",
    "\n",
    "    bar = db.get_bar(note)\n",
    "    wood = db.get_wood(note)\n",
    "\n",
    "    fundamental = tuning.note_to_freq(note)\n",
    "    partials, weights = tuning.note_to_weights(note)\n",
    "    print(f\"weights {weights}\")\n",
    "    sol = xylo.opt.optimize_geometry(bar, wood, options_, fundamental, jnp.array(partials), jnp.array(weights))\n",
    "    spline = sol.best_member\n",
    "\n",
    "    xylo.database.with_db(lambda db: db.set_best_for_dims(note, num_dims, sol.best_member.tolist(), sol.best_fitness.tolist()))\n",
    "\n",
    "    init_mean = sol.best_member\n",
    "\n",
    "    sections = xylo.cut.spline(bar, spline)\n",
    "    swp = xylo.sweep.sweep(wood, bar, sections, t.sweep_default)\n",
    "\n",
    "    print(note)\n",
    "    print(\"---------------\")\n",
    "    print(swp.harmonics / fundamental)\n",
    "    print(\"\")\n"
   ]
  },
  {
   "cell_type": "code",
   "execution_count": null,
   "metadata": {},
   "outputs": [],
   "source": []
  }
 ],
 "metadata": {
  "kernelspec": {
   "display_name": ".venv",
   "language": "python",
   "name": "python3"
  },
  "language_info": {
   "codemirror_mode": {
    "name": "ipython",
    "version": 3
   },
   "file_extension": ".py",
   "mimetype": "text/x-python",
   "name": "python",
   "nbconvert_exporter": "python",
   "pygments_lexer": "ipython3",
   "version": "3.12.3"
  }
 },
 "nbformat": 4,
 "nbformat_minor": 2
}
