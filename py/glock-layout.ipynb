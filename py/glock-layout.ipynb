{
 "cells": [
  {
   "cell_type": "code",
   "execution_count": 42,
   "metadata": {},
   "outputs": [
    {
     "name": "stdout",
     "output_type": "stream",
     "text": [
      "The autoreload extension is already loaded. To reload it, use:\n",
      "  %reload_ext autoreload\n"
     ]
    }
   ],
   "source": [
    "%load_ext autoreload\n",
    "%autoreload 2"
   ]
  },
  {
   "cell_type": "code",
   "execution_count": 43,
   "metadata": {},
   "outputs": [],
   "source": [
    "import jax\n",
    "import jax.numpy as jnp\n",
    "import numpy as np\n",
    "import matplotlib.pyplot as plt\n",
    "\n",
    "from typing import NamedTuple\n",
    "from functools import partial\n",
    "import math\n",
    "import json\n",
    "\n",
    "import drawsvg\n"
   ]
  },
  {
   "cell_type": "code",
   "execution_count": 44,
   "metadata": {},
   "outputs": [],
   "source": [
    "import xylo\n",
    "import xylo.types as t\n",
    "import xylo.tuning"
   ]
  },
  {
   "cell_type": "code",
   "execution_count": 106,
   "metadata": {},
   "outputs": [],
   "source": [
    "tuning = xylo.tuning.glock_F5_200\n",
    "bars = list(tuning.lengths.keys())\n",
    "bar_width = 32\n",
    "node_ratio = 0.224\n",
    "\n",
    "max_length = tuning.lengths[bars[0]]\n",
    "\n",
    "bar_spacing = 7\n",
    "# bar_spacing = 8\n",
    "angle1 = math.radians(2.275)\n",
    "# angle1 = math.radians(2.624)\n",
    "angle2 = math.radians(7.836)\n",
    "# angle2 = math.radians(9.23)\n",
    "\n",
    "node_ratio_nat_rear = 0.21\n",
    "node_ratio_nat_front = 0.27\n",
    "angle1 = math.radians(2.133)\n",
    "angle2 = math.radians(7.377)\n",
    "\n",
    "node_ratio_nat_rear = 0.208\n",
    "node_ratio_nat_front = 0.28\n",
    "angle1 = math.radians(2.113)\n",
    "angle2 = math.radians(7.277)"
   ]
  },
  {
   "cell_type": "code",
   "execution_count": 107,
   "metadata": {},
   "outputs": [],
   "source": [
    "lengths = xylo.tuning.glock_F5_200.lengths\n",
    "lengthsmm = { k : v * 1000 for k, v in lengths.items() }\n",
    "x_index = { k: xylo.tuning.note_to_x(k, 58) for k, v in lengthsmm.items() }\n",
    "# x at left side of bar\n",
    "x = { k: bar_spacing + (bar_width + bar_spacing) * v for k, v in x_index.items() }"
   ]
  },
  {
   "cell_type": "code",
   "execution_count": 108,
   "metadata": {},
   "outputs": [],
   "source": [
    "naturals = { k for k, v in lengthsmm.items() if xylo.tuning.check_natural(k) }\n",
    "accidentals = { k for k, v in lengthsmm.items() if not xylo.tuning.check_natural(k) }"
   ]
  },
  {
   "cell_type": "code",
   "execution_count": 122,
   "metadata": {},
   "outputs": [
    {
     "name": "stdout",
     "output_type": "stream",
     "text": [
      "note 57, x -19.5\n",
      "  ratio1 0.26247932174624483, ratio2 0.224, y0 11.256192632509283\n",
      "note 58, x 0.0\n",
      "  ratio1 0.25588285761151935, ratio2 0.224, y0 9.047806894243422\n",
      "note 59, x 19.5\n",
      "  ratio1 0.24940307616279, ratio2 0.224, y0 6.990983655977516\n",
      "note 60, x 39.0\n",
      "  ratio1 0.24307052922259365, ratio2 0.224, y0 5.085722917711649\n",
      "note 61, x 58.5\n",
      "  ratio1 0.23691862755044993, ratio2 0.224, y0 3.332024679445766\n",
      "note 62, x 78.0\n",
      "  ratio1 0.23098372780315152, ratio2 0.224, y0 1.7298889411799507\n",
      "note 63, x 97.5\n",
      "  ratio1 0.225305186882983, ratio2 0.224, y0 0.2793157029140616\n",
      "note 64, x 136.5\n",
      "  ratio1 0.2296726146478523, ratio2 0.224, y0 1.3187942263823516\n",
      "note 65, x 156.0\n",
      "  ratio1 0.2242566124734217, ratio2 0.224, y0 0.01978348811647379\n",
      "note 66, x 175.5\n",
      "  ratio1 0.21918813369823797, ratio2 0.224, y0 -1.1276647501494352\n",
      "note 67, x 195.0\n",
      "  ratio1 0.21381554619654344, ratio2 0.224, y0 -2.2751129884152874\n",
      "note 68, x 214.5\n",
      "  ratio1 0.2088415080400534, ratio2 0.224, y0 -3.2709987266811282\n",
      "note 69, x 253.5\n",
      "  ratio1 0.21632937924091997, ratio2 0.224, y0 -1.6252702032128923\n",
      "note 70, x 273.0\n",
      "  ratio1 0.2118991761484059, ratio2 0.224, y0 -2.469593441478679\n",
      "note 71, x 292.5\n",
      "  ratio1 0.20879033787751486, ratio2 0.224, y0 -3.010791679744557\n",
      "note 72, x 312.0\n",
      "  ratio1 0.2046776382898188, ratio2 0.224, y0 -3.7035524180104744\n",
      "note 73, x 331.5\n",
      "  ratio1 0.2011641971524423, ratio2 0.224, y0 -4.244750656276324\n",
      "note 74, x 351.0\n",
      "  ratio1 0.19832121788105372, ratio2 0.224, y0 -4.6343863945421475\n",
      "note 75, x 370.5\n",
      "  ratio1 0.19530783922115869, ratio2 0.224, y0 -5.024022132808042\n",
      "note 76, x 409.5\n",
      "  ratio1 0.20684877991217546, ratio2 0.224, y0 -2.923606109339758\n",
      "note 77, x 429.0\n",
      "  ratio1 0.20678032460079201, ratio2 0.224, y0 -2.858554347605647\n",
      "note 78, x 448.5\n",
      "  ratio1 0.20474841519063872, ratio2 0.224, y0 -3.096627585871502\n",
      "note 79, x 468.0\n",
      "  ratio1 0.20461636108964193, ratio2 0.224, y0 -3.031575824137377\n",
      "note 80, x 487.5\n",
      "  ratio1 0.203433683951705, ratio2 0.224, y0 -3.118086562403235\n",
      "note 81, x 526.5\n",
      "  ratio1 0.2213367511919467, ratio2 0.224, y0 -0.4114205389349763\n",
      "note 82, x 546.0\n",
      "  ratio1 0.2217058088495053, ratio2 0.224, y0 -0.34636877720083703\n",
      "note 83, x 565.5\n",
      "  ratio1 0.2232018286156987, ratio2 0.224, y0 -0.129754515466729\n",
      "note 84, x 585.0\n",
      "  ratio1 0.2247900056570174, ratio2 0.224, y0 0.08685974626742166\n",
      "note 85, x 604.5\n",
      "  ratio1 0.2276409039003257, ratio2 0.224, y0 0.45503650800154105\n",
      "note 86, x 624.0\n",
      "  ratio1 0.2306657131475833, ratio2 0.224, y0 0.8232132697356889\n",
      "note 87, x 643.5\n",
      "  ratio1 0.2363064365204191, ratio2 0.224, y0 1.4945150314698168\n",
      "note 88, x 682.5\n",
      "  ratio1 0.2607293457376457, ratio2 0.224, y0 4.352743554938087\n",
      "0.22215974644413283\n",
      "0.224\n"
     ]
    }
   ],
   "source": [
    "x = { k: (bar_width + bar_spacing) * v for k, v in x_index.items() }\n",
    "\n",
    "y1s = { k: (max_length * 1000 * node_ratio_nat_rear) - ((x[k] + (bar_width / 2)) * math.tan(angle1)) for k in lengths }\n",
    "y2s = { k: (max_length * 1000 * (1 - node_ratio_nat_front)) - ((x[k] + (bar_width / 2)) * math.tan(angle2)) for k in lengths }\n",
    "y224s = { k: lengthsmm[k] * (1 - 0.224) for k in lengths }\n",
    "\n",
    "y0s = []\n",
    "avg1 = []\n",
    "avg2 = []\n",
    "for k in bars:\n",
    "  len = lengths[k] * 1000\n",
    "  y1 = y1s[k]\n",
    "  y2 = y2s[k]\n",
    "\n",
    "  yy2 = len * (1 - 0.224)\n",
    "  yy1 = yy2 - (y2 - y1)\n",
    "  yy0 = yy2 - y2\n",
    "\n",
    "  r1 = yy1 / len\n",
    "  r2 = 0.224 # (len - y2) / len\n",
    "  avg1 += [r1]\n",
    "  avg2 += [r2]\n",
    "  y0s += [yy0]\n",
    "  print(f\"note {k}, x {x[k]}\\n  ratio1 {r1}, ratio2 {r2}, y0 {yy0}\")\n",
    "  # print(f\"note {k}, x {x[k]}, x_index {x_index[k]}\\n   len {len}, ratio1 {y1 / len}, y2 {y2}, ratio2 {(len - y2) / len}\")\n",
    "\n",
    "print(sum(avg1) / 32)\n",
    "print(sum(avg2) / 32)"
   ]
  },
  {
   "cell_type": "code",
   "execution_count": 123,
   "metadata": {},
   "outputs": [
    {
     "data": {
      "text/plain": [
       "<matplotlib.collections.PathCollection at 0x16276c950>"
      ]
     },
     "execution_count": 123,
     "metadata": {},
     "output_type": "execute_result"
    },
    {
     "data": {
      "image/png": "[encoded data removed]",
      "text/plain": [
       "<Figure size 640x480 with 1 Axes>"
      ]
     },
     "metadata": {},
     "output_type": "display_data"
    }
   ],
   "source": [
    "plt.scatter([x[k] for k in naturals], [-lengthsmm[k] for k in naturals])\n",
    "plt.scatter([x[k] for k in naturals], [-y1s[k] for k in naturals])\n",
    "plt.scatter([x[k] for k in naturals], [-y2s[k] for k in naturals])\n",
    "plt.scatter([x[k] for k in accidentals], [lengthsmm[k] for k in accidentals])\n",
    "plt.scatter([x[k] for k in accidentals], [y1s[k] for k in accidentals])\n",
    "plt.scatter([x[k] for k in accidentals], [y2s[k] for k in accidentals])"
   ]
  },
  {
   "cell_type": "code",
   "execution_count": 124,
   "metadata": {},
   "outputs": [
    {
     "data": {
      "text/plain": [
       "{57: 43.59788437305362,\n",
       " 58: 42.878421437469214,\n",
       " 59: 42.15895850188481,\n",
       " 60: 41.439495566300415,\n",
       " 61: 40.72003263071601,\n",
       " 62: 40.00056969513161,\n",
       " 63: 39.28110675954721,\n",
       " 64: 37.84218088837841,\n",
       " 65: 37.122717952794005,\n",
       " 66: 36.4032550172096,\n",
       " 67: 35.6837920816252,\n",
       " 68: 34.9643291460408,\n",
       " 69: 33.52540327487199,\n",
       " 70: 32.80594033928759,\n",
       " 71: 32.08647740370319,\n",
       " 72: 31.36701446811879,\n",
       " 73: 30.647551532534386,\n",
       " 74: 29.928088596949983,\n",
       " 75: 29.208625661365584,\n",
       " 76: 27.769699790196782,\n",
       " 77: 27.05023685461238,\n",
       " 78: 26.330773919027976,\n",
       " 79: 25.611310983443577,\n",
       " 80: 24.891848047859174,\n",
       " 81: 23.45292217669037,\n",
       " 82: 22.73345924110597,\n",
       " 83: 22.013996305521566,\n",
       " 84: 21.294533369937167,\n",
       " 85: 20.575070434352764,\n",
       " 86: 19.85560749876836,\n",
       " 87: 19.13614456318396,\n",
       " 88: 17.697218692015156}"
      ]
     },
     "execution_count": 124,
     "metadata": {},
     "output_type": "execute_result"
    }
   ],
   "source": [
    "y1s"
   ]
  },
  {
   "cell_type": "code",
   "execution_count": 125,
   "metadata": {},
   "outputs": [
    {
     "data": {
      "text/plain": [
       "{57: 58.06869263250928,\n",
       " 58: 54.50405689424343,\n",
       " 59: 51.1347336559775,\n",
       " 60: 47.96072291771165,\n",
       " 61: 44.98202467944577,\n",
       " 62: 42.19863894117995,\n",
       " 63: 39.610565702914045,\n",
       " 64: 39.512544226382346,\n",
       " 65: 37.11978348811647,\n",
       " 66: 34.92233524985055,\n",
       " 67: 32.72488701158471,\n",
       " 68: 30.722751273318877,\n",
       " 69: 31.405979796787108,\n",
       " 70: 29.599156558521344,\n",
       " 71: 28.182958320255466,\n",
       " 72: 26.571447581989517,\n",
       " 73: 25.155249343723682,\n",
       " 74: 23.93436360545786,\n",
       " 75: 22.713477867191955,\n",
       " 76: 23.982643890660256,\n",
       " 77: 23.347695652394364,\n",
       " 78: 22.3221224141285,\n",
       " 79: 21.687174175862623,\n",
       " 80: 20.856913437596774,\n",
       " 81: 22.907329461065032,\n",
       " 82: 22.27238122279917,\n",
       " 83: 21.832745484533277,\n",
       " 84: 21.393109746267427,\n",
       " 85: 21.148786508001535,\n",
       " 86: 20.904463269735686,\n",
       " 87: 21.05076503146981,\n",
       " 88: 23.29649355493808}"
      ]
     },
     "execution_count": 125,
     "metadata": {},
     "output_type": "execute_result"
    }
   ],
   "source": [
    "{ k: lengthsmm[k] - y2s[k] for k in lengthsmm }"
   ]
  },
  {
   "cell_type": "code",
   "execution_count": 126,
   "metadata": {},
   "outputs": [
    {
     "data": {
      "text/plain": [
       "{57: 150.91568236749077,\n",
       " 58: 148.42563060575662,\n",
       " 59: 145.9355788440225,\n",
       " 60: 143.44552708228838,\n",
       " 61: 140.95547532055423,\n",
       " 62: 138.4654235588201,\n",
       " 63: 135.97537179708596,\n",
       " 64: 130.99526827361768,\n",
       " 65: 128.50521651188356,\n",
       " 66: 126.01516475014942,\n",
       " 67: 123.52511298841529,\n",
       " 68: 121.03506122668115,\n",
       " 69: 116.05495770321289,\n",
       " 70: 113.56490594147874,\n",
       " 71: 111.07485417974462,\n",
       " 72: 108.58480241801048,\n",
       " 73: 106.09475065627635,\n",
       " 74: 103.60469889454221,\n",
       " 75: 101.11464713280807,\n",
       " 76: 96.1345436093398,\n",
       " 77: 93.64449184760568,\n",
       " 78: 91.15444008587154,\n",
       " 79: 88.6643883241374,\n",
       " 80: 86.17433656240327,\n",
       " 81: 81.194233038935,\n",
       " 82: 78.70418127720086,\n",
       " 83: 76.21412951546674,\n",
       " 84: 73.7240777537326,\n",
       " 85: 71.23402599199846,\n",
       " 86: 68.74397423026433,\n",
       " 87: 66.25392246853019,\n",
       " 88: 61.27381894506192}"
      ]
     },
     "execution_count": 126,
     "metadata": {},
     "output_type": "execute_result"
    }
   ],
   "source": [
    "y2s"
   ]
  },
  {
   "cell_type": "code",
   "execution_count": 127,
   "metadata": {},
   "outputs": [
    {
     "data": {
      "image/svg+xml": [
       "<?xml version=\"1.0\" encoding=\"UTF-8\"?>\n",
       "<svg xmlns=\"http://www.w3.org/2000/svg\" xmlns:xlink=\"http://www.w3.org/1999/xlink\"\n",
       "     width=\"297mm\" height=\"210mm\" viewBox=\"0 0 297mm 210mm\">\n",
       "<defs>\n",
       "</defs>\n",
       "<rect x=\"0\" y=\"0\" width=\"297mm\" height=\"210mm\" stroke=\"green\" stroke-width=\"2\" fill=\"none\" />\n",
       "<text x=\"20mm\" y=\"8mm\" font-size=\"5mm\">glock-mount-224</text>\n",
       "<g transform=\"rotate(0)\">\n",
       "<text x=\"162.47187500000007mm\" y=\"13mm\" font-size=\"2mm\">57</text>\n",
       "<circle cx=\"163.47187500000007mm\" cy=\"11mm\" r=\"0.5mm\" />\n",
       "<rect x=\"1.3mm\" y=\"10mm\" width=\"163.47187500000007mm\" height=\"0.5mm\" stroke=\"red\" stroke-width=\"1\" />\n",
       "<text x=\"157.77343750000006mm\" y=\"13mm\" font-size=\"2mm\">58</text>\n",
       "<circle cx=\"158.77343750000006mm\" cy=\"11mm\" r=\"0.5mm\" />\n",
       "<rect x=\"1.3mm\" y=\"10mm\" width=\"158.77343750000006mm\" height=\"0.5mm\" stroke=\"red\" stroke-width=\"1\" />\n",
       "<text x=\"153.22656250000003mm\" y=\"13mm\" font-size=\"2mm\">59</text>\n",
       "<circle cx=\"154.22656250000003mm\" cy=\"11mm\" r=\"0.5mm\" />\n",
       "<rect x=\"1.3mm\" y=\"10mm\" width=\"154.22656250000003mm\" height=\"0.5mm\" stroke=\"red\" stroke-width=\"1\" />\n",
       "<text x=\"148.83125000000004mm\" y=\"13mm\" font-size=\"2mm\">60</text>\n",
       "<circle cx=\"149.83125000000004mm\" cy=\"11mm\" r=\"0.5mm\" />\n",
       "<rect x=\"1.3mm\" y=\"10mm\" width=\"149.83125000000004mm\" height=\"0.5mm\" stroke=\"red\" stroke-width=\"1\" />\n",
       "<text x=\"144.5875mm\" y=\"13mm\" font-size=\"2mm\">61</text>\n",
       "<circle cx=\"145.5875mm\" cy=\"11mm\" r=\"0.5mm\" />\n",
       "<rect x=\"1.3mm\" y=\"10mm\" width=\"145.5875mm\" height=\"0.5mm\" stroke=\"red\" stroke-width=\"1\" />\n",
       "<text x=\"140.49531250000007mm\" y=\"13mm\" font-size=\"2mm\">62</text>\n",
       "<circle cx=\"141.49531250000007mm\" cy=\"11mm\" r=\"0.5mm\" />\n",
       "<rect x=\"1.3mm\" y=\"10mm\" width=\"141.49531250000007mm\" height=\"0.5mm\" stroke=\"red\" stroke-width=\"1\" />\n",
       "<text x=\"136.55468750000003mm\" y=\"13mm\" font-size=\"2mm\">63</text>\n",
       "<circle cx=\"137.55468750000003mm\" cy=\"11mm\" r=\"0.5mm\" />\n",
       "<rect x=\"1.3mm\" y=\"10mm\" width=\"137.55468750000003mm\" height=\"0.5mm\" stroke=\"red\" stroke-width=\"1\" />\n",
       "<text x=\"132.61406250000005mm\" y=\"13mm\" font-size=\"2mm\">64</text>\n",
       "<circle cx=\"133.61406250000005mm\" cy=\"11mm\" r=\"0.5mm\" />\n",
       "<rect x=\"1.3mm\" y=\"10mm\" width=\"133.61406250000005mm\" height=\"0.5mm\" stroke=\"red\" stroke-width=\"1\" />\n",
       "<text x=\"128.82500000000005mm\" y=\"13mm\" font-size=\"2mm\">65</text>\n",
       "<circle cx=\"129.82500000000005mm\" cy=\"11mm\" r=\"0.5mm\" />\n",
       "<rect x=\"1.3mm\" y=\"10mm\" width=\"129.82500000000005mm\" height=\"0.5mm\" stroke=\"red\" stroke-width=\"1\" />\n",
       "<text x=\"125.18749999999999mm\" y=\"13mm\" font-size=\"2mm\">66</text>\n",
       "<circle cx=\"126.18749999999999mm\" cy=\"11mm\" r=\"0.5mm\" />\n",
       "<rect x=\"1.3mm\" y=\"10mm\" width=\"126.18749999999999mm\" height=\"0.5mm\" stroke=\"red\" stroke-width=\"1\" />\n",
       "<text x=\"121.55mm\" y=\"13mm\" font-size=\"2mm\">67</text>\n",
       "<circle cx=\"122.55mm\" cy=\"11mm\" r=\"0.5mm\" />\n",
       "<rect x=\"1.3mm\" y=\"10mm\" width=\"122.55mm\" height=\"0.5mm\" stroke=\"red\" stroke-width=\"1\" />\n",
       "<text x=\"118.06406250000002mm\" y=\"13mm\" font-size=\"2mm\">68</text>\n",
       "<circle cx=\"119.06406250000002mm\" cy=\"11mm\" r=\"0.5mm\" />\n",
       "<rect x=\"1.3mm\" y=\"10mm\" width=\"119.06406250000002mm\" height=\"0.5mm\" stroke=\"red\" stroke-width=\"1\" />\n",
       "<text x=\"114.7296875mm\" y=\"13mm\" font-size=\"2mm\">69</text>\n",
       "<circle cx=\"115.7296875mm\" cy=\"11mm\" r=\"0.5mm\" />\n",
       "<rect x=\"1.3mm\" y=\"10mm\" width=\"115.7296875mm\" height=\"0.5mm\" stroke=\"red\" stroke-width=\"1\" />\n",
       "<text x=\"111.39531250000006mm\" y=\"13mm\" font-size=\"2mm\">70</text>\n",
       "<circle cx=\"112.39531250000006mm\" cy=\"11mm\" r=\"0.5mm\" />\n",
       "<rect x=\"1.3mm\" y=\"10mm\" width=\"112.39531250000006mm\" height=\"0.5mm\" stroke=\"red\" stroke-width=\"1\" />\n",
       "<text x=\"108.36406250000006mm\" y=\"13mm\" font-size=\"2mm\">71</text>\n",
       "<circle cx=\"109.36406250000006mm\" cy=\"11mm\" r=\"0.5mm\" />\n",
       "<rect x=\"1.3mm\" y=\"10mm\" width=\"109.36406250000006mm\" height=\"0.5mm\" stroke=\"red\" stroke-width=\"1\" />\n",
       "<text x=\"105.18125mm\" y=\"13mm\" font-size=\"2mm\">72</text>\n",
       "<circle cx=\"106.18125mm\" cy=\"11mm\" r=\"0.5mm\" />\n",
       "<rect x=\"1.3mm\" y=\"10mm\" width=\"106.18125mm\" height=\"0.5mm\" stroke=\"red\" stroke-width=\"1\" />\n",
       "<text x=\"102.15000000000002mm\" y=\"13mm\" font-size=\"2mm\">73</text>\n",
       "<circle cx=\"103.15000000000002mm\" cy=\"11mm\" r=\"0.5mm\" />\n",
       "<rect x=\"1.3mm\" y=\"10mm\" width=\"103.15000000000002mm\" height=\"0.5mm\" stroke=\"red\" stroke-width=\"1\" />\n",
       "<text x=\"99.27031250000006mm\" y=\"13mm\" font-size=\"2mm\">74</text>\n",
       "<circle cx=\"100.27031250000006mm\" cy=\"11mm\" r=\"0.5mm\" />\n",
       "<rect x=\"1.3mm\" y=\"10mm\" width=\"100.27031250000006mm\" height=\"0.5mm\" stroke=\"red\" stroke-width=\"1\" />\n",
       "<text x=\"96.39062500000003mm\" y=\"13mm\" font-size=\"2mm\">75</text>\n",
       "<circle cx=\"97.39062500000003mm\" cy=\"11mm\" r=\"0.5mm\" />\n",
       "<rect x=\"1.3mm\" y=\"10mm\" width=\"97.39062500000003mm\" height=\"0.5mm\" stroke=\"red\" stroke-width=\"1\" />\n",
       "<text x=\"93.51093750000004mm\" y=\"13mm\" font-size=\"2mm\">76</text>\n",
       "<circle cx=\"94.51093750000004mm\" cy=\"11mm\" r=\"0.5mm\" />\n",
       "<rect x=\"1.3mm\" y=\"10mm\" width=\"94.51093750000004mm\" height=\"0.5mm\" stroke=\"red\" stroke-width=\"1\" />\n",
       "<text x=\"91.08593750000003mm\" y=\"13mm\" font-size=\"2mm\">77</text>\n",
       "<circle cx=\"92.08593750000003mm\" cy=\"11mm\" r=\"0.5mm\" />\n",
       "<rect x=\"1.3mm\" y=\"10mm\" width=\"92.08593750000003mm\" height=\"0.5mm\" stroke=\"red\" stroke-width=\"1\" />\n",
       "<text x=\"88.35781250000004mm\" y=\"13mm\" font-size=\"2mm\">78</text>\n",
       "<circle cx=\"89.35781250000004mm\" cy=\"11mm\" r=\"0.5mm\" />\n",
       "<rect x=\"1.3mm\" y=\"10mm\" width=\"89.35781250000004mm\" height=\"0.5mm\" stroke=\"red\" stroke-width=\"1\" />\n",
       "<text x=\"85.93281250000003mm\" y=\"13mm\" font-size=\"2mm\">79</text>\n",
       "<circle cx=\"86.93281250000003mm\" cy=\"11mm\" r=\"0.5mm\" />\n",
       "<rect x=\"1.3mm\" y=\"10mm\" width=\"86.93281250000003mm\" height=\"0.5mm\" stroke=\"red\" stroke-width=\"1\" />\n",
       "<text x=\"83.35625000000003mm\" y=\"13mm\" font-size=\"2mm\">80</text>\n",
       "<circle cx=\"84.35625000000003mm\" cy=\"11mm\" r=\"0.5mm\" />\n",
       "<rect x=\"1.3mm\" y=\"10mm\" width=\"84.35625000000003mm\" height=\"0.5mm\" stroke=\"red\" stroke-width=\"1\" />\n",
       "<text x=\"81.08281250000002mm\" y=\"13mm\" font-size=\"2mm\">81</text>\n",
       "<circle cx=\"82.08281250000002mm\" cy=\"11mm\" r=\"0.5mm\" />\n",
       "<rect x=\"1.3mm\" y=\"10mm\" width=\"82.08281250000002mm\" height=\"0.5mm\" stroke=\"red\" stroke-width=\"1\" />\n",
       "<text x=\"78.65781250000002mm\" y=\"13mm\" font-size=\"2mm\">82</text>\n",
       "<circle cx=\"79.65781250000002mm\" cy=\"11mm\" r=\"0.5mm\" />\n",
       "<rect x=\"1.3mm\" y=\"10mm\" width=\"79.65781250000002mm\" height=\"0.5mm\" stroke=\"red\" stroke-width=\"1\" />\n",
       "<text x=\"76.384375mm\" y=\"13mm\" font-size=\"2mm\">83</text>\n",
       "<circle cx=\"77.384375mm\" cy=\"11mm\" r=\"0.5mm\" />\n",
       "<rect x=\"1.3mm\" y=\"10mm\" width=\"77.384375mm\" height=\"0.5mm\" stroke=\"red\" stroke-width=\"1\" />\n",
       "<text x=\"74.11093750000002mm\" y=\"13mm\" font-size=\"2mm\">84</text>\n",
       "<circle cx=\"75.11093750000002mm\" cy=\"11mm\" r=\"0.5mm\" />\n",
       "<rect x=\"1.3mm\" y=\"10mm\" width=\"75.11093750000002mm\" height=\"0.5mm\" stroke=\"red\" stroke-width=\"1\" />\n",
       "<text x=\"71.9890625mm\" y=\"13mm\" font-size=\"2mm\">85</text>\n",
       "<circle cx=\"72.9890625mm\" cy=\"11mm\" r=\"0.5mm\" />\n",
       "<rect x=\"1.3mm\" y=\"10mm\" width=\"72.9890625mm\" height=\"0.5mm\" stroke=\"red\" stroke-width=\"1\" />\n",
       "<text x=\"69.86718750000001mm\" y=\"13mm\" font-size=\"2mm\">86</text>\n",
       "<circle cx=\"70.86718750000001mm\" cy=\"11mm\" r=\"0.5mm\" />\n",
       "<rect x=\"1.3mm\" y=\"10mm\" width=\"70.86718750000001mm\" height=\"0.5mm\" stroke=\"red\" stroke-width=\"1\" />\n",
       "<text x=\"68.0484375mm\" y=\"13mm\" font-size=\"2mm\">87</text>\n",
       "<circle cx=\"69.0484375mm\" cy=\"11mm\" r=\"0.5mm\" />\n",
       "<rect x=\"1.3mm\" y=\"10mm\" width=\"69.0484375mm\" height=\"0.5mm\" stroke=\"red\" stroke-width=\"1\" />\n",
       "<text x=\"65.9265625mm\" y=\"13mm\" font-size=\"2mm\">88</text>\n",
       "<circle cx=\"66.9265625mm\" cy=\"11mm\" r=\"0.5mm\" />\n",
       "<rect x=\"1.3mm\" y=\"10mm\" width=\"66.9265625mm\" height=\"0.5mm\" stroke=\"red\" stroke-width=\"1\" />\n",
       "<circle cx=\"1.3mm\" cy=\"11mm\" r=\"1mm\" />\n",
       "</g>\n",
       "</svg>"
      ],
      "text/plain": [
       "<drawsvg.drawing.Drawing at 0x1622fee40>"
      ]
     },
     "execution_count": 127,
     "metadata": {},
     "output_type": "execute_result"
    }
   ],
   "source": [
    "def mkdots(keys, cuts, filename, offsetx = 1.3, rot = 0):\n",
    "  d = drawsvg.Drawing('297mm', '210mm')\n",
    "  d.append(drawsvg.Rectangle(0, 0, '297mm', '210mm', stroke='green', stroke_width=2, fill='none'))\n",
    "  d.append(drawsvg.Text(filename, '5mm', '20mm', '8mm'))\n",
    "  grp = drawsvg.Group(transform = f'rotate({rot})')\n",
    "  y = 10\n",
    "  for k in keys:\n",
    "    cut = cuts[k] + offsetx\n",
    "    grp.append(drawsvg.Text(f'{k}', '2mm', f'{cut-1}mm', f'{y + 3}mm'))\n",
    "    grp.append(drawsvg.Circle(f'{cut}mm', f'{y + 1}mm', '0.5mm'))\n",
    "    grp.append(drawsvg.Rectangle(f'{offsetx}mm', f'{y}mm', f'{cut}mm', f'0.5mm', stroke='red', stroke_width=1))\n",
    "  grp.append(drawsvg.Circle(f'{offsetx}mm', f'{y+1}mm', '1mm'))\n",
    "\n",
    "  d.append(grp)\n",
    "\n",
    "  d.save_html(f'data/layout/{filename}.html')\n",
    "  return d\n",
    "\n",
    "# mkdots(naturals, y1s, 'glock-natural-rear')\n",
    "# mkdots(naturals, y2s, 'glock-natural-front', rot = 30, offsetx=10)\n",
    "# mkdots(accidentals, y1s, 'glock-accidental-front')\n",
    "# mkdots(accidentals, y2s, 'glock-accidental-rear', rot = 30, offsetx=10)\n",
    "\n",
    "mkdots(bars, y224s, 'glock-mount-224')"
   ]
  },
  {
   "cell_type": "code",
   "execution_count": null,
   "metadata": {},
   "outputs": [],
   "source": []
  }
 ],
 "metadata": {
  "kernelspec": {
   "display_name": ".venv",
   "language": "python",
   "name": "python3"
  },
  "language_info": {
   "codemirror_mode": {
    "name": "ipython",
    "version": 3
   },
   "file_extension": ".py",
   "mimetype": "text/x-python",
   "name": "python",
   "nbconvert_exporter": "python",
   "pygments_lexer": "ipython3",
   "version": "3.12.3"
  }
 },
 "nbformat": 4,
 "nbformat_minor": 2
}
