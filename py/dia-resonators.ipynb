{
 "cells": [
  {
   "cell_type": "code",
   "execution_count": 1,
   "metadata": {},
   "outputs": [],
   "source": [
    "%load_ext autoreload\n",
    "%autoreload 2"
   ]
  },
  {
   "cell_type": "code",
   "execution_count": 2,
   "metadata": {},
   "outputs": [],
   "source": [
    "import jax\n",
    "import jax.numpy as jnp\n",
    "import numpy as np\n",
    "import matplotlib.pyplot as plt\n",
    "import evosax\n",
    "\n",
    "import json\n",
    "import math\n",
    "import drawsvg"
   ]
  },
  {
   "cell_type": "code",
   "execution_count": 3,
   "metadata": {},
   "outputs": [],
   "source": [
    "import xylo\n",
    "import xylo.types as t\n",
    "import xylo.woods\n",
    "import xylo.cut\n",
    "\n",
    "import xylo.opt\n",
    "\n",
    "import xylo.tuning\n",
    "import xylo.database\n",
    "\n",
    "import xylo.just\n",
    "\n",
    "import xylo.resonators as r"
   ]
  },
  {
   "cell_type": "code",
   "execution_count": 4,
   "metadata": {},
   "outputs": [],
   "source": [
    "layout = xylo.just.diamond_11_partch"
   ]
  },
  {
   "cell_type": "code",
   "execution_count": 29,
   "metadata": {},
   "outputs": [
    {
     "data": {
      "text/plain": [
       "Config(temp=20, correction=0.61, radius=0.0234)"
      ]
     },
     "execution_count": 29,
     "metadata": {},
     "output_type": "execute_result"
    }
   ],
   "source": [
    "c = r.Config(radius = (0.050-0.0016*2)/2)\n",
    "c"
   ]
  },
  {
   "cell_type": "code",
   "execution_count": 30,
   "metadata": {},
   "outputs": [],
   "source": [
    "slack = 0.05\n",
    "tube_lengths = { k: r.length_of_freq(f, c) + slack for k,f in layout.get_freqs().items() }"
   ]
  },
  {
   "cell_type": "code",
   "execution_count": 31,
   "metadata": {},
   "outputs": [
    {
     "data": {
      "text/plain": [
       "5.705992675644116"
      ]
     },
     "execution_count": 31,
     "metadata": {},
     "output_type": "execute_result"
    }
   ],
   "source": [
    "sum([v for v in tube_lengths.values() if v > 0.00])"
   ]
  },
  {
   "cell_type": "code",
   "execution_count": 32,
   "metadata": {},
   "outputs": [
    {
     "data": {
      "text/plain": [
       "{'A1': 0.07552361394742207,\n",
       " 'B1': 0.08436752815796031,\n",
       " 'B2': 0.08547301743427758,\n",
       " 'C1': 0.09826510763166327,\n",
       " 'C2': 0.09652791019745038,\n",
       " 'C3': 0.09542242092113311,\n",
       " 'D1': 0.10868829223694046,\n",
       " 'D2': 0.11389988453957908,\n",
       " 'D3': 0.10868829223694046,\n",
       " 'D4': 0.10537182440798862,\n",
       " 'E1': 0.12328075068432857,\n",
       " 'E2': 0.12692886529617559,\n",
       " 'E3': 0.12953466144749487,\n",
       " 'E4': 0.12084867427643055,\n",
       " 'E5': 0.12527063138169967,\n",
       " 'F1': 0.14516943835541068,\n",
       " 'F2': 0.14516943835541068,\n",
       " 'F3': 0.14516943835541068,\n",
       " 'F4': 0.14516943835541068,\n",
       " 'F5': 0.14516943835541068,\n",
       " 'F6': 0.14516943835541068,\n",
       " 'G1': 0.17253029794426336,\n",
       " 'G2': 0.16705812602649284,\n",
       " 'G3': 0.1634100114146458,\n",
       " 'G4': 0.17643899217124231,\n",
       " 'G5': 0.16949020243439084,\n",
       " 'H1': 0.19989115753311604,\n",
       " 'H2': 0.188946813697575,\n",
       " 'H3': 0.19989115753311604,\n",
       " 'H4': 0.20770854598707394,\n",
       " 'I1': 0.22725201712196869,\n",
       " 'I2': 0.23272418903973924,\n",
       " 'I3': 0.2363723036515863,\n",
       " 'J1': 0.2819737362996741,\n",
       " 'J2': 0.27650156438190354,\n",
       " 'K1': 0.33669545547737934}"
      ]
     },
     "execution_count": 32,
     "metadata": {},
     "output_type": "execute_result"
    }
   ],
   "source": [
    "tube_lengths"
   ]
  },
  {
   "cell_type": "code",
   "execution_count": 33,
   "metadata": {},
   "outputs": [
    {
     "name": "stdout",
     "output_type": "stream",
     "text": [
      "B1: 0.08436752815796031m (1764.0Hz)\n",
      "B2: 0.08547301743427758m (1724.8000000000002Hz)\n",
      "C1: 0.09826510763166327m (1372.0Hz)\n",
      "C2: 0.09652791019745038m (1411.2Hz)\n",
      "C3: 0.09542242092113311m (1437.3333333333333Hz)\n",
      "D1: 0.10868829223694046m (1176.0Hz)\n",
      "D2: 0.11389988453957908m (1097.6Hz)\n",
      "D3: 0.10868829223694046m (1176.0Hz)\n",
      "D4: 0.10537182440798862m (1232.0Hz)\n",
      "E1: 0.12328075068432857m (980.0Hz)\n",
      "E2: 0.12692886529617559m (940.8Hz)\n",
      "E3: 0.12953466144749487m (914.6666666666667Hz)\n",
      "E4: 0.12084867427643055m (1008.0000000000001Hz)\n",
      "E5: 0.12527063138169967m (958.2222222222223Hz)\n",
      "F1: 0.14516943835541068m (784.0Hz)\n",
      "F2: 0.14516943835541068m (784.0Hz)\n",
      "F3: 0.14516943835541068m (784.0Hz)\n",
      "F4: 0.14516943835541068m (784.0Hz)\n",
      "F5: 0.14516943835541068m (784.0Hz)\n",
      "F6: 0.14516943835541068m (784.0Hz)\n",
      "G1: 0.17253029794426336m (627.2Hz)\n",
      "G2: 0.16705812602649284m (653.3333333333334Hz)\n",
      "G3: 0.1634100114146458m (672.0Hz)\n",
      "G4: 0.17643899217124231m (609.7777777777778Hz)\n",
      "G5: 0.16949020243439084m (641.4545454545455Hz)\n",
      "H1: 0.19989115753311604m (522.6666666666666Hz)\n",
      "H2: 0.188946813697575m (560.0Hz)\n",
      "H3: 0.19989115753311604m (522.6666666666666Hz)\n",
      "H4: 0.20770854598707394m (498.9090909090909Hz)\n",
      "I1: 0.22725201712196869m (448.0Hz)\n",
      "I2: 0.23272418903973924m (435.5555555555556Hz)\n",
      "I3: 0.2363723036515863m (427.6363636363636Hz)\n",
      "J1: 0.2819737362996741m (348.4444444444444Hz)\n",
      "J2: 0.27650156438190354m (356.3636363636364Hz)\n",
      "K1: 0.33669545547737934m (285.0909090909091Hz)\n"
     ]
    }
   ],
   "source": [
    "for k, v in tube_lengths.items():\n",
    "  if v >= 0.08:\n",
    "    print(f\"{k}: {v}m ({layout.get_freqs()[k]}Hz)\")"
   ]
  },
  {
   "cell_type": "code",
   "execution_count": 34,
   "metadata": {},
   "outputs": [
    {
     "name": "stdout",
     "output_type": "stream",
     "text": [
      "A1 0.07552361394742207\n",
      "B1 0.08436752815796031\n",
      "B2 0.08547301743427758\n",
      "C1 0.09826510763166327\n",
      "C2 0.09652791019745038\n",
      "C3 0.09542242092113311\n",
      "D1 0.10868829223694046\n",
      "D2 0.11389988453957908\n",
      "D3 0.10868829223694046\n",
      "D4 0.10537182440798862\n",
      "E1 0.12328075068432857\n",
      "E2 0.12692886529617559\n",
      "E3 0.12953466144749487\n",
      "E4 0.12084867427643055\n",
      "E5 0.12527063138169967\n",
      "F1 0.14516943835541068\n",
      "F2 0.14516943835541068\n",
      "F3 0.14516943835541068\n",
      "F4 0.14516943835541068\n",
      "F5 0.14516943835541068\n",
      "F6 0.14516943835541068\n",
      "G1 0.17253029794426336\n",
      "G2 0.16705812602649284\n",
      "G3 0.1634100114146458\n",
      "G4 0.17643899217124231\n",
      "G5 0.16949020243439084\n",
      "H1 0.19989115753311604\n",
      "H2 0.188946813697575\n",
      "H3 0.19989115753311604\n",
      "H4 0.20770854598707394\n",
      "I1 0.22725201712196869\n",
      "I2 0.23272418903973924\n",
      "I3 0.2363723036515863\n",
      "J1 0.2819737362996741\n",
      "J2 0.27650156438190354\n",
      "K1 0.33669545547737934\n"
     ]
    },
    {
     "data": {
      "image/svg+xml": [
       "<?xml version=\"1.0\" encoding=\"UTF-8\"?>\n",
       "<svg xmlns=\"http://www.w3.org/2000/svg\" xmlns:xlink=\"http://www.w3.org/1999/xlink\"\n",
       "     width=\"297mm\" height=\"210mm\" viewBox=\"0 0 297mm 210mm\">\n",
       "<defs>\n",
       "</defs>\n",
       "<rect x=\"0\" y=\"0\" width=\"297mm\" height=\"210mm\" stroke=\"green\" stroke-width=\"2\" fill=\"none\" />\n",
       "<text x=\"20mm\" y=\"8mm\" font-size=\"5mm\">dia-resonator-lengths</text>\n",
       "<g>\n",
       "<text x=\"75.82361394742207mm\" y=\"13mm\" font-size=\"2mm\">A1</text>\n",
       "<circle cx=\"76.82361394742207mm\" cy=\"11mm\" r=\"0.5mm\" />\n",
       "<rect x=\"1.3mm\" y=\"10mm\" width=\"76.82361394742207mm\" height=\"0.5mm\" stroke=\"red\" stroke-width=\"1\" />\n",
       "<text x=\"84.6675281579603mm\" y=\"13mm\" font-size=\"2mm\">B1</text>\n",
       "<circle cx=\"85.6675281579603mm\" cy=\"11mm\" r=\"0.5mm\" />\n",
       "<rect x=\"1.3mm\" y=\"10mm\" width=\"85.6675281579603mm\" height=\"0.5mm\" stroke=\"red\" stroke-width=\"1\" />\n",
       "<text x=\"85.77301743427758mm\" y=\"13mm\" font-size=\"2mm\">B2</text>\n",
       "<circle cx=\"86.77301743427758mm\" cy=\"11mm\" r=\"0.5mm\" />\n",
       "<rect x=\"1.3mm\" y=\"10mm\" width=\"86.77301743427758mm\" height=\"0.5mm\" stroke=\"red\" stroke-width=\"1\" />\n",
       "<text x=\"98.56510763166327mm\" y=\"13mm\" font-size=\"2mm\">C1</text>\n",
       "<circle cx=\"99.56510763166327mm\" cy=\"11mm\" r=\"0.5mm\" />\n",
       "<rect x=\"1.3mm\" y=\"10mm\" width=\"99.56510763166327mm\" height=\"0.5mm\" stroke=\"red\" stroke-width=\"1\" />\n",
       "<text x=\"96.82791019745038mm\" y=\"13mm\" font-size=\"2mm\">C2</text>\n",
       "<circle cx=\"97.82791019745038mm\" cy=\"11mm\" r=\"0.5mm\" />\n",
       "<rect x=\"1.3mm\" y=\"10mm\" width=\"97.82791019745038mm\" height=\"0.5mm\" stroke=\"red\" stroke-width=\"1\" />\n",
       "<text x=\"95.72242092113311mm\" y=\"13mm\" font-size=\"2mm\">C3</text>\n",
       "<circle cx=\"96.72242092113311mm\" cy=\"11mm\" r=\"0.5mm\" />\n",
       "<rect x=\"1.3mm\" y=\"10mm\" width=\"96.72242092113311mm\" height=\"0.5mm\" stroke=\"red\" stroke-width=\"1\" />\n",
       "<text x=\"108.98829223694045mm\" y=\"13mm\" font-size=\"2mm\">D1</text>\n",
       "<circle cx=\"109.98829223694045mm\" cy=\"11mm\" r=\"0.5mm\" />\n",
       "<rect x=\"1.3mm\" y=\"10mm\" width=\"109.98829223694045mm\" height=\"0.5mm\" stroke=\"red\" stroke-width=\"1\" />\n",
       "<text x=\"114.19988453957907mm\" y=\"13mm\" font-size=\"2mm\">D2</text>\n",
       "<circle cx=\"115.19988453957907mm\" cy=\"11mm\" r=\"0.5mm\" />\n",
       "<rect x=\"1.3mm\" y=\"10mm\" width=\"115.19988453957907mm\" height=\"0.5mm\" stroke=\"red\" stroke-width=\"1\" />\n",
       "<text x=\"108.98829223694045mm\" y=\"13mm\" font-size=\"2mm\">D3</text>\n",
       "<circle cx=\"109.98829223694045mm\" cy=\"11mm\" r=\"0.5mm\" />\n",
       "<rect x=\"1.3mm\" y=\"10mm\" width=\"109.98829223694045mm\" height=\"0.5mm\" stroke=\"red\" stroke-width=\"1\" />\n",
       "<text x=\"105.67182440798861mm\" y=\"13mm\" font-size=\"2mm\">D4</text>\n",
       "<circle cx=\"106.67182440798861mm\" cy=\"11mm\" r=\"0.5mm\" />\n",
       "<rect x=\"1.3mm\" y=\"10mm\" width=\"106.67182440798861mm\" height=\"0.5mm\" stroke=\"red\" stroke-width=\"1\" />\n",
       "<text x=\"123.58075068432858mm\" y=\"13mm\" font-size=\"2mm\">E1</text>\n",
       "<circle cx=\"124.58075068432858mm\" cy=\"11mm\" r=\"0.5mm\" />\n",
       "<rect x=\"1.3mm\" y=\"10mm\" width=\"124.58075068432858mm\" height=\"0.5mm\" stroke=\"red\" stroke-width=\"1\" />\n",
       "<text x=\"127.2288652961756mm\" y=\"13mm\" font-size=\"2mm\">E2</text>\n",
       "<circle cx=\"128.2288652961756mm\" cy=\"11mm\" r=\"0.5mm\" />\n",
       "<rect x=\"1.3mm\" y=\"10mm\" width=\"128.2288652961756mm\" height=\"0.5mm\" stroke=\"red\" stroke-width=\"1\" />\n",
       "<text x=\"129.83466144749488mm\" y=\"13mm\" font-size=\"2mm\">E3</text>\n",
       "<circle cx=\"130.83466144749488mm\" cy=\"11mm\" r=\"0.5mm\" />\n",
       "<rect x=\"1.3mm\" y=\"10mm\" width=\"130.83466144749488mm\" height=\"0.5mm\" stroke=\"red\" stroke-width=\"1\" />\n",
       "<text x=\"121.14867427643054mm\" y=\"13mm\" font-size=\"2mm\">E4</text>\n",
       "<circle cx=\"122.14867427643054mm\" cy=\"11mm\" r=\"0.5mm\" />\n",
       "<rect x=\"1.3mm\" y=\"10mm\" width=\"122.14867427643054mm\" height=\"0.5mm\" stroke=\"red\" stroke-width=\"1\" />\n",
       "<text x=\"125.57063138169966mm\" y=\"13mm\" font-size=\"2mm\">E5</text>\n",
       "<circle cx=\"126.57063138169966mm\" cy=\"11mm\" r=\"0.5mm\" />\n",
       "<rect x=\"1.3mm\" y=\"10mm\" width=\"126.57063138169966mm\" height=\"0.5mm\" stroke=\"red\" stroke-width=\"1\" />\n",
       "<text x=\"145.4694383554107mm\" y=\"13mm\" font-size=\"2mm\">F1</text>\n",
       "<circle cx=\"146.4694383554107mm\" cy=\"11mm\" r=\"0.5mm\" />\n",
       "<rect x=\"1.3mm\" y=\"10mm\" width=\"146.4694383554107mm\" height=\"0.5mm\" stroke=\"red\" stroke-width=\"1\" />\n",
       "<text x=\"145.4694383554107mm\" y=\"13mm\" font-size=\"2mm\">F2</text>\n",
       "<circle cx=\"146.4694383554107mm\" cy=\"11mm\" r=\"0.5mm\" />\n",
       "<rect x=\"1.3mm\" y=\"10mm\" width=\"146.4694383554107mm\" height=\"0.5mm\" stroke=\"red\" stroke-width=\"1\" />\n",
       "<text x=\"145.4694383554107mm\" y=\"13mm\" font-size=\"2mm\">F3</text>\n",
       "<circle cx=\"146.4694383554107mm\" cy=\"11mm\" r=\"0.5mm\" />\n",
       "<rect x=\"1.3mm\" y=\"10mm\" width=\"146.4694383554107mm\" height=\"0.5mm\" stroke=\"red\" stroke-width=\"1\" />\n",
       "<text x=\"145.4694383554107mm\" y=\"13mm\" font-size=\"2mm\">F4</text>\n",
       "<circle cx=\"146.4694383554107mm\" cy=\"11mm\" r=\"0.5mm\" />\n",
       "<rect x=\"1.3mm\" y=\"10mm\" width=\"146.4694383554107mm\" height=\"0.5mm\" stroke=\"red\" stroke-width=\"1\" />\n",
       "<text x=\"145.4694383554107mm\" y=\"13mm\" font-size=\"2mm\">F5</text>\n",
       "<circle cx=\"146.4694383554107mm\" cy=\"11mm\" r=\"0.5mm\" />\n",
       "<rect x=\"1.3mm\" y=\"10mm\" width=\"146.4694383554107mm\" height=\"0.5mm\" stroke=\"red\" stroke-width=\"1\" />\n",
       "<text x=\"145.4694383554107mm\" y=\"13mm\" font-size=\"2mm\">F6</text>\n",
       "<circle cx=\"146.4694383554107mm\" cy=\"11mm\" r=\"0.5mm\" />\n",
       "<rect x=\"1.3mm\" y=\"10mm\" width=\"146.4694383554107mm\" height=\"0.5mm\" stroke=\"red\" stroke-width=\"1\" />\n",
       "<text x=\"172.83029794426338mm\" y=\"13mm\" font-size=\"2mm\">G1</text>\n",
       "<circle cx=\"173.83029794426338mm\" cy=\"11mm\" r=\"0.5mm\" />\n",
       "<rect x=\"1.3mm\" y=\"10mm\" width=\"173.83029794426338mm\" height=\"0.5mm\" stroke=\"red\" stroke-width=\"1\" />\n",
       "<text x=\"167.35812602649284mm\" y=\"13mm\" font-size=\"2mm\">G2</text>\n",
       "<circle cx=\"168.35812602649284mm\" cy=\"11mm\" r=\"0.5mm\" />\n",
       "<rect x=\"1.3mm\" y=\"10mm\" width=\"168.35812602649284mm\" height=\"0.5mm\" stroke=\"red\" stroke-width=\"1\" />\n",
       "<text x=\"163.71001141464583mm\" y=\"13mm\" font-size=\"2mm\">G3</text>\n",
       "<circle cx=\"164.71001141464583mm\" cy=\"11mm\" r=\"0.5mm\" />\n",
       "<rect x=\"1.3mm\" y=\"10mm\" width=\"164.71001141464583mm\" height=\"0.5mm\" stroke=\"red\" stroke-width=\"1\" />\n",
       "<text x=\"176.73899217124233mm\" y=\"13mm\" font-size=\"2mm\">G4</text>\n",
       "<circle cx=\"177.73899217124233mm\" cy=\"11mm\" r=\"0.5mm\" />\n",
       "<rect x=\"1.3mm\" y=\"10mm\" width=\"177.73899217124233mm\" height=\"0.5mm\" stroke=\"red\" stroke-width=\"1\" />\n",
       "<text x=\"169.79020243439084mm\" y=\"13mm\" font-size=\"2mm\">G5</text>\n",
       "<circle cx=\"170.79020243439084mm\" cy=\"11mm\" r=\"0.5mm\" />\n",
       "<rect x=\"1.3mm\" y=\"10mm\" width=\"170.79020243439084mm\" height=\"0.5mm\" stroke=\"red\" stroke-width=\"1\" />\n",
       "<text x=\"200.19115753311604mm\" y=\"13mm\" font-size=\"2mm\">H1</text>\n",
       "<circle cx=\"201.19115753311604mm\" cy=\"11mm\" r=\"0.5mm\" />\n",
       "<rect x=\"1.3mm\" y=\"10mm\" width=\"201.19115753311604mm\" height=\"0.5mm\" stroke=\"red\" stroke-width=\"1\" />\n",
       "<text x=\"189.246813697575mm\" y=\"13mm\" font-size=\"2mm\">H2</text>\n",
       "<circle cx=\"190.246813697575mm\" cy=\"11mm\" r=\"0.5mm\" />\n",
       "<rect x=\"1.3mm\" y=\"10mm\" width=\"190.246813697575mm\" height=\"0.5mm\" stroke=\"red\" stroke-width=\"1\" />\n",
       "<text x=\"200.19115753311604mm\" y=\"13mm\" font-size=\"2mm\">H3</text>\n",
       "<circle cx=\"201.19115753311604mm\" cy=\"11mm\" r=\"0.5mm\" />\n",
       "<rect x=\"1.3mm\" y=\"10mm\" width=\"201.19115753311604mm\" height=\"0.5mm\" stroke=\"red\" stroke-width=\"1\" />\n",
       "<text x=\"208.00854598707394mm\" y=\"13mm\" font-size=\"2mm\">H4</text>\n",
       "<circle cx=\"209.00854598707394mm\" cy=\"11mm\" r=\"0.5mm\" />\n",
       "<rect x=\"1.3mm\" y=\"10mm\" width=\"209.00854598707394mm\" height=\"0.5mm\" stroke=\"red\" stroke-width=\"1\" />\n",
       "<text x=\"227.5520171219687mm\" y=\"13mm\" font-size=\"2mm\">I1</text>\n",
       "<circle cx=\"228.5520171219687mm\" cy=\"11mm\" r=\"0.5mm\" />\n",
       "<rect x=\"1.3mm\" y=\"10mm\" width=\"228.5520171219687mm\" height=\"0.5mm\" stroke=\"red\" stroke-width=\"1\" />\n",
       "<text x=\"233.02418903973924mm\" y=\"13mm\" font-size=\"2mm\">I2</text>\n",
       "<circle cx=\"234.02418903973924mm\" cy=\"11mm\" r=\"0.5mm\" />\n",
       "<rect x=\"1.3mm\" y=\"10mm\" width=\"234.02418903973924mm\" height=\"0.5mm\" stroke=\"red\" stroke-width=\"1\" />\n",
       "<text x=\"236.6723036515863mm\" y=\"13mm\" font-size=\"2mm\">I3</text>\n",
       "<circle cx=\"237.6723036515863mm\" cy=\"11mm\" r=\"0.5mm\" />\n",
       "<rect x=\"1.3mm\" y=\"10mm\" width=\"237.6723036515863mm\" height=\"0.5mm\" stroke=\"red\" stroke-width=\"1\" />\n",
       "<text x=\"282.2737362996741mm\" y=\"13mm\" font-size=\"2mm\">J1</text>\n",
       "<circle cx=\"283.2737362996741mm\" cy=\"11mm\" r=\"0.5mm\" />\n",
       "<rect x=\"1.3mm\" y=\"10mm\" width=\"283.2737362996741mm\" height=\"0.5mm\" stroke=\"red\" stroke-width=\"1\" />\n",
       "<text x=\"276.8015643819036mm\" y=\"13mm\" font-size=\"2mm\">J2</text>\n",
       "<circle cx=\"277.8015643819036mm\" cy=\"11mm\" r=\"0.5mm\" />\n",
       "<rect x=\"1.3mm\" y=\"10mm\" width=\"277.8015643819036mm\" height=\"0.5mm\" stroke=\"red\" stroke-width=\"1\" />\n",
       "<text x=\"336.9954554773793mm\" y=\"13mm\" font-size=\"2mm\">K1</text>\n",
       "<circle cx=\"337.9954554773793mm\" cy=\"11mm\" r=\"0.5mm\" />\n",
       "<rect x=\"1.3mm\" y=\"10mm\" width=\"337.9954554773793mm\" height=\"0.5mm\" stroke=\"red\" stroke-width=\"1\" />\n",
       "<circle cx=\"1.3mm\" cy=\"11mm\" r=\"1mm\" />\n",
       "</g>\n",
       "</svg>"
      ],
      "text/plain": [
       "<drawsvg.drawing.Drawing at 0x13b6efb60>"
      ]
     },
     "execution_count": 34,
     "metadata": {},
     "output_type": "execute_result"
    }
   ],
   "source": [
    "def mkres(lens, filename, offsetx = 1.3):\n",
    "  d = drawsvg.Drawing('297mm', '210mm')\n",
    "  d.append(drawsvg.Rectangle(0, 0, '297mm', '210mm', stroke='green', stroke_width=2, fill='none'))\n",
    "  d.append(drawsvg.Text(filename, '5mm', '20mm', '8mm'))\n",
    "  grp = drawsvg.Group()\n",
    "  y = 10\n",
    "  for k,v in lens.items():\n",
    "    mm = v * 1000 + offsetx\n",
    "    print(k,v)\n",
    "    grp.append(drawsvg.Text(f'{k}', '2mm', f'{mm-1}mm', f'{y + 3}mm'))\n",
    "    grp.append(drawsvg.Circle(f'{mm}mm', f'{y + 1}mm', '0.5mm'))\n",
    "    grp.append(drawsvg.Rectangle(f'{offsetx}mm', f'{y}mm', f'{mm}mm', f'0.5mm', stroke='red', stroke_width=1))\n",
    "  grp.append(drawsvg.Circle(f'{offsetx}mm', f'{y+1}mm', '1mm'))\n",
    "\n",
    "  d.append(grp)\n",
    "\n",
    "  d.save_html(f'data/layout/{filename}.html')\n",
    "  return d\n",
    "\n",
    "mkres(tube_lengths, 'dia-resonator-lengths')"
   ]
  },
  {
   "cell_type": "code",
   "execution_count": null,
   "metadata": {},
   "outputs": [],
   "source": []
  }
 ],
 "metadata": {
  "kernelspec": {
   "display_name": ".venv",
   "language": "python",
   "name": "python3"
  },
  "language_info": {
   "codemirror_mode": {
    "name": "ipython",
    "version": 3
   },
   "file_extension": ".py",
   "mimetype": "text/x-python",
   "name": "python",
   "nbconvert_exporter": "python",
   "pygments_lexer": "ipython3",
   "version": "3.12.3"
  }
 },
 "nbformat": 4,
 "nbformat_minor": 2
}
