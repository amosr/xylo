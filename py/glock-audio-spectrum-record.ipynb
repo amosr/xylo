{
 "cells": [
  {
   "cell_type": "code",
   "execution_count": 1,
   "metadata": {},
   "outputs": [],
   "source": [
    "%load_ext autoreload\n",
    "%autoreload 2"
   ]
  },
  {
   "cell_type": "code",
   "execution_count": 2,
   "metadata": {},
   "outputs": [],
   "source": [
    "import pyaudio\n",
    "import numpy as np\n",
    "import matplotlib.pyplot as plt\n",
    "\n",
    "\n",
    "import scipy\n",
    "import wave\n",
    "import math\n",
    "import os\n",
    "import xylo.audio as xaudio\n",
    "import xylo.tuning"
   ]
  },
  {
   "cell_type": "code",
   "execution_count": 11,
   "metadata": {},
   "outputs": [],
   "source": [
    "note = 77"
   ]
  },
  {
   "cell_type": "code",
   "execution_count": 17,
   "metadata": {},
   "outputs": [
    {
     "name": "stdout",
     "output_type": "stream",
     "text": [
      "77\n",
      "[ 169.25  2245.625 4622.875] [0.07598066 1.00811863 2.0753271 ]\n"
     ]
    }
   ],
   "source": [
    "print(note)\n",
    "center = xaudio.read_samples(8.0)\n",
    "xaudio.print_spectrum(center, height = 0.01, distance = 2000, prominence = 0.01, comparison_freq = xylo.tuning.yamaha_YX500R.note_to_freq(note))\n",
    "xaudio.write_wave(f'glock/tb-2-mount-foam-{note}-nodepin', center)"
   ]
  },
  {
   "cell_type": "code",
   "execution_count": null,
   "metadata": {},
   "outputs": [],
   "source": []
  }
 ],
 "metadata": {
  "kernelspec": {
   "display_name": ".venv",
   "language": "python",
   "name": "python3"
  },
  "language_info": {
   "codemirror_mode": {
    "name": "ipython",
    "version": 3
   },
   "file_extension": ".py",
   "mimetype": "text/x-python",
   "name": "python",
   "nbconvert_exporter": "python",
   "pygments_lexer": "ipython3",
   "version": "3.12.3"
  }
 },
 "nbformat": 4,
 "nbformat_minor": 2
}
