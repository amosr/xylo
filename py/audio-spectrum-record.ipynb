{
 "cells": [
  {
   "cell_type": "code",
   "execution_count": 1,
   "metadata": {},
   "outputs": [],
   "source": [
    "%load_ext autoreload\n",
    "%autoreload 2"
   ]
  },
  {
   "cell_type": "code",
   "execution_count": 2,
   "metadata": {},
   "outputs": [],
   "source": [
    "import pyaudio\n",
    "import numpy as np\n",
    "import matplotlib.pyplot as plt\n",
    "\n",
    "\n",
    "import scipy\n",
    "import wave\n",
    "import math\n",
    "import os\n",
    "import xylo.audio as xaudio\n",
    "import xylo.tuning"
   ]
  },
  {
   "cell_type": "code",
   "execution_count": 3,
   "metadata": {},
   "outputs": [],
   "source": [
    "note = 45"
   ]
  },
  {
   "cell_type": "code",
   "execution_count": null,
   "metadata": {},
   "outputs": [
    {
     "name": "stdout",
     "output_type": "stream",
     "text": [
      "45\n",
      "[ 100.    745.5  1461.   2403.25 3576.   4964.5  6563.25] [ 0.35087719  2.61578947  5.12631579  8.43245614 12.54736842 17.41929825\n",
      " 23.02894737]\n"
     ]
    }
   ],
   "source": [
    "print(note)\n",
    "center = xaudio.read_samples(4.0)\n",
    "xaudio.print_spectrum(center, height = 0.01, distance = 2000, prominence = 0.01, comparison_freq = xylo.tuning.yamaha_YX500R.note_to_freq(note))\n",
    "xaudio.write_wave(f'tonebar-rawiter2-{note}-center', center)"
   ]
  },
  {
   "cell_type": "code",
   "execution_count": 5,
   "metadata": {},
   "outputs": [
    {
     "name": "stdout",
     "output_type": "stream",
     "text": [
      "45\n",
      "[ 271.   1323.75] [0.77248553 3.77334952]\n"
     ]
    }
   ],
   "source": [
    "print(note)\n",
    "corner = xaudio.read_samples(4.0)\n",
    "xaudio.print_spectrum(corner, height = 0.01, distance = 2000, prominence = 0.01, comparison_freq = xylo.tuning.yamaha_YX500R.note_to_freq(note))\n",
    "xaudio.write_wave(f'tonebar-rawiter2-{note}-corner', corner)"
   ]
  },
  {
   "cell_type": "code",
   "execution_count": 147,
   "metadata": {},
   "outputs": [
    {
     "name": "stdout",
     "output_type": "stream",
     "text": [
      "56\n"
     ]
    }
   ],
   "source": [
    "note = note + 1\n",
    "print(note)"
   ]
  },
  {
   "cell_type": "code",
   "execution_count": 2,
   "metadata": {},
   "outputs": [],
   "source": [
    "note = 57"
   ]
  },
  {
   "cell_type": "code",
   "execution_count": 4,
   "metadata": {},
   "outputs": [],
   "source": []
  },
  {
   "cell_type": "code",
   "execution_count": 155,
   "metadata": {},
   "outputs": [
    {
     "name": "stdout",
     "output_type": "stream",
     "text": [
      "\"57\": { \"fundamental\": 970.5, \"overtones\": [1.         2.51056157 1.89696033 4.35007728 3.10046368 3.64270994] }\n",
      "\"58\": { \"fundamental\": 989.25, \"overtones\": [1.         2.52817791 1.85468789 3.567349   4.53146323] }\n",
      "\"59\": { \"fundamental\": 986.75, \"overtones\": [1.         1.87256144 2.53280973 4.49049911 3.9711173  3.21560679\n",
      " 5.66176843 6.19229795 5.01393463] }\n",
      "\"60\": { \"fundamental\": 1065.0, \"overtones\": [1.         1.8741784  2.50539906 4.34248826 3.58685446 3.09647887\n",
      " 5.12159624 5.99460094] }\n",
      "\"61\": { \"fundamental\": 1095.25, \"overtones\": [1.         1.90504451 2.50513581 4.1223465  3.1782698  3.66582972\n",
      " 4.89340333 5.38347409 6.22688884] }\n",
      "\"62\": { \"fundamental\": 1137.25, \"overtones\": [1.         1.90327545 1.45636404 2.49681249 3.06946582 3.95163772\n",
      " 4.43130358] }\n",
      "\"63\": { \"fundamental\": 1171.0, \"overtones\": [1.         1.86272417 2.44662681 1.42805295 3.07600342 3.86806149] }\n",
      "\"64\": { \"fundamental\": 1223.25, \"overtones\": [1.         1.82076436 2.52278766 1.41201717 3.73083998 2.94931535] }\n",
      "\"65\": { \"fundamental\": 1285.5, \"overtones\": [1.         1.78043563 1.38934267 2.20984053 3.6723065 ] }\n",
      "\"66\": { \"fundamental\": 1294.5, \"overtones\": [1.         1.40807261 1.81691773 2.50637312] }\n",
      "\"67\": { \"fundamental\": 1331.25, \"overtones\": [1.         1.80901408 1.40056338 2.47117371] }\n",
      "\"68\": { \"fundamental\": 1435.75, \"overtones\": [1.         1.45185443 2.47727668 1.8016716 ] }\n",
      "\"69\": { \"fundamental\": 1523.25, \"overtones\": [1.         1.39816183 1.8017397  2.28278352] }\n",
      "\"70\": { \"fundamental\": 1685.0, \"overtones\": [1.         1.30623145 1.73011869 2.32121662 2.69451039 3.30934718] }\n",
      "\"71\": { \"fundamental\": 1809.5, \"overtones\": [1.         1.27977342 1.70212766 1.98839458 2.49544073 2.78585245] }\n",
      "\"72\": { \"fundamental\": 1899.5, \"overtones\": [1.         1.66333246 2.14490655 2.4331403  1.26901816 2.73137668\n",
      " 3.14214267 3.42550671] }\n",
      "\"73\": { \"fundamental\": 1861.0, \"overtones\": [1.         2.38084363 1.77471789 2.09631918 1.26880709 2.83866201\n",
      " 3.15784524 3.70123589] }\n",
      "\"74\": { \"fundamental\": 1899.5, \"overtones\": [1.         1.26375362 1.86667544 1.55264543 2.38549618] }\n",
      "\"75\": { \"fundamental\": 2397.5, \"overtones\": [1.         1.48154327 1.88415016 1.22325339] }\n",
      "\"76\": { \"fundamental\": 2167.75, \"overtones\": [1.         1.76115788 1.2657133  2.04509284 1.50444009 2.32441472\n",
      " 2.75642948] }\n",
      "\"77\": { \"fundamental\": 2481.5, \"overtones\": [1.         1.60215595 1.40026194 1.81150514 2.01823494 2.28521056] }\n",
      "\"78\": { \"fundamental\": 2360.0, \"overtones\": [1.         1.52245763 1.76101695 1.21260593 2.18146186] }\n",
      "\"79\": { \"fundamental\": 2525.75, \"overtones\": [1.         1.38750866 1.70820548 2.09640701] }\n",
      "\"80\": { \"fundamental\": 3503.75, \"overtones\": [1.         1.21526935 0.84238316 1.40920442 1.72079914 1.55925794] }\n",
      "\"81\": { \"fundamental\": 2930.5, \"overtones\": [1.         1.21412728 1.39353353 1.66072343 1.86435762 2.24901894] }\n",
      "\"82\": { \"fundamental\": 3138.5, \"overtones\": [1.         1.165047   1.33296161 1.50103553 1.67755297] }\n",
      "\"83\": { \"fundamental\": 3151.25, \"overtones\": [1.         1.16612455 1.33867513 1.57834193 1.91439905 2.20269734] }\n",
      "\"84\": { \"fundamental\": 3344.75, \"overtones\": [1.         1.15180507 1.47492339 1.30263846 1.83212497] }\n",
      "\"85\": { \"fundamental\": 3917.5, \"overtones\": [1.         1.13624761 1.28704531 1.64052329] }\n",
      "\"86\": { \"fundamental\": 3775.0, \"overtones\": [1.         1.16384106 1.29655629 1.73794702 1.51370861] }\n",
      "\"87\": { \"fundamental\": 4072.0, \"overtones\": [1.         1.12886788 1.25178045 1.70708497 1.37493861] }\n",
      "\"88\": { \"fundamental\": 4662.5, \"overtones\": [1.         1.10997319] }\n"
     ]
    }
   ],
   "source": [
    "for note in range(57, 89):\n",
    "# for note in [59]:\n",
    "  fdl = xylo.tuning.yamaha_YX500R.note_to_freq(note) * 1.00\n",
    "\n",
    "  a1 = xaudio.read_wave(f'raw/tonebar-raw-{note}-center_{note}.wav')\n",
    "  a2 = xaudio.read_wave(f'raw/tonebar-raw-{note}-corner_{note}.wav')\n",
    "  freqs, d = xaudio.spectrum_diff(a1, a2, height = 0.001, prominence = 0.001, width = 0.1, plot = False)\n",
    "\n",
    "  ht = d['peak_heights']\n",
    "  keys = np.flip(np.argsort(ht))\n",
    "  # freqsk = freqs[keys]\n",
    "  freqsk = freqs[keys]\n",
    "  freqsk = freqsk[freqsk > fdl]\n",
    "  fdx = freqsk[0] if len(freqsk) > 0 else -1\n",
    "\n",
    "  print(f\"\\\"{note}\\\": {{ \\\"fundamental\\\": {fdx}, \\\"overtones\\\": {freqsk / fdx} }}\")"
   ]
  },
  {
   "cell_type": "code",
   "execution_count": 8,
   "metadata": {},
   "outputs": [
    {
     "name": "stdout",
     "output_type": "stream",
     "text": [
      "59\n",
      "[ 788.25 2165.5  2727.75 4231.5  5535.5 ] [ 788.25 2165.5  2727.75 4231.5  5535.5 ]\n",
      "[ 788.25 2165.5  2727.75 4231.5  5535.5 ] [1.00088316 2.74965109 3.46356997 5.37296172 7.02872021]\n"
     ]
    }
   ],
   "source": [
    "note=59\n",
    "print(note)\n",
    "center = xaudio.read_samples(4.0)\n",
    "xaudio.print_spectrum(center, height = 0.01, distance = 2000, prominence = 0.01)\n",
    "xaudio.print_spectrum(center, height = 0.01, distance = 2000, prominence = 0.01, comparison_freq = xylo.tuning.yamaha_YX500R.note_to_freq(note))\n",
    "# xaudio.write_wave(f'tonebar-rawiter2-{note}-center', center)\n"
   ]
  },
  {
   "cell_type": "code",
   "execution_count": 9,
   "metadata": {},
   "outputs": [
    {
     "name": "stdout",
     "output_type": "stream",
     "text": [
      "58\n",
      "[ 769.   2112.   3361.5  4119.75 6762.5 ] [1.03450257 2.84118261 4.52208113 5.54212219 9.0972999 ]\n"
     ]
    }
   ],
   "source": [
    "note=58\n",
    "print(note)\n",
    "center = xaudio.read_samples(4.0)\n",
    "# xaudio.print_spectrum(center, height = 0.01, distance = 2000, prominence = 0.01)\n",
    "xaudio.print_spectrum(center, height = 0.01, distance = 2000, prominence = 0.01, comparison_freq = xylo.tuning.yamaha_YX500R.note_to_freq(note))\n"
   ]
  },
  {
   "cell_type": "code",
   "execution_count": 10,
   "metadata": {},
   "outputs": [
    {
     "data": {
      "text/plain": [
       "1.024707412223667"
      ]
     },
     "execution_count": 10,
     "metadata": {},
     "output_type": "execute_result"
    }
   ],
   "source": [
    "788/769"
   ]
  },
  {
   "cell_type": "code",
   "execution_count": 11,
   "metadata": {},
   "outputs": [
    {
     "data": {
      "text/plain": [
       "1.0592193808882908"
      ]
     },
     "execution_count": 11,
     "metadata": {},
     "output_type": "execute_result"
    }
   ],
   "source": [
    "788/743"
   ]
  },
  {
   "cell_type": "code",
   "execution_count": 38,
   "metadata": {},
   "outputs": [
    {
     "name": "stdout",
     "output_type": "stream",
     "text": [
      "58\n",
      "[  62.    735.   2048.25 3053.   3982.25 6619.25] [0.08340593 0.98876383 2.75542248 4.10706937 5.35714936 8.90459185]\n"
     ]
    }
   ],
   "source": [
    "note=58\n",
    "print(note)\n",
    "center = xaudio.read_samples(4.0)\n",
    "# xaudio.print_spectrum(center, height = 0.01, distance = 2000, prominence = 0.01)\n",
    "xaudio.print_spectrum(center, height = 0.01, distance = 2000, prominence = 0.01, comparison_freq = xylo.tuning.yamaha_YX500R.note_to_freq(note))\n",
    "\n"
   ]
  },
  {
   "cell_type": "code",
   "execution_count": null,
   "metadata": {},
   "outputs": [],
   "source": [
    "# 58: 745.5Hz before drill\n",
    "# 58: 743 Hz after drill 4mm @ 22.4%\n",
    "# 58: 740Hz after drill 6mm @ 22.4%\n",
    "# 58: 737.5Hz after drill 8mm @ 22.4%\n",
    "# 58: 735Hz after light chamfer\n",
    "# 58: 735Hz/734.75 after sanding, buffing\n"
   ]
  },
  {
   "cell_type": "code",
   "execution_count": null,
   "metadata": {},
   "outputs": [],
   "source": [
    "note=59\n",
    "print(note)\n",
    "center = xaudio.read_samples(4.0)\n",
    "xaudio.print_spectrum(center, height = 0.01, distance = 2000, prominence = 0.01)\n",
    "xaudio.print_spectrum(center, height = 0.01, distance = 2000, prominence = 0.01, comparison_freq = xylo.tuning.yamaha_YX500R.note_to_freq(note))\n",
    "# xaudio.write_wave(f'tonebar-rawiter2-{note}-center', center)\n",
    "\n"
   ]
  }
 ],
 "metadata": {
  "kernelspec": {
   "display_name": ".venv",
   "language": "python",
   "name": "python3"
  },
  "language_info": {
   "codemirror_mode": {
    "name": "ipython",
    "version": 3
   },
   "file_extension": ".py",
   "mimetype": "text/x-python",
   "name": "python",
   "nbconvert_exporter": "python",
   "pygments_lexer": "ipython3",
   "version": "3.12.3"
  }
 },
 "nbformat": 4,
 "nbformat_minor": 2
}
