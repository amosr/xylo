{
 "cells": [
  {
   "cell_type": "code",
   "execution_count": 1,
   "metadata": {},
   "outputs": [],
   "source": [
    "import pyaudio\n",
    "import numpy as np\n",
    "import matplotlib.pyplot as plt\n",
    "\n",
    "import scipy\n",
    "import wave\n",
    "import math\n",
    "import os\n",
    "import xylo.audio as xaudio"
   ]
  },
  {
   "cell_type": "code",
   "execution_count": 54,
   "metadata": {},
   "outputs": [],
   "source": [
    "note = 57\n",
    "clip1 = 57\n",
    "clip2 = 57"
   ]
  },
  {
   "cell_type": "code",
   "execution_count": 169,
   "metadata": {},
   "outputs": [
    {
     "name": "stdout",
     "output_type": "stream",
     "text": [
      "88\n",
      "[  21.75  540.75 1371.25 2105.   3540.   4658.75] [  1.          24.86206897  63.04597701  96.7816092  162.75862069\n",
      " 214.1954023 ]\n"
     ]
    }
   ],
   "source": [
    "print(note)\n",
    "center = xaudio.read_samples(4.0)\n",
    "xaudio.print_spectrum(center, height = 5, distance = 2000, prominence = 5)\n",
    "xaudio.write_wave(f'tonebar-raw-{note}-center_{clip1}.wav', center)\n",
    "clip1 = clip1 + 1"
   ]
  },
  {
   "cell_type": "code",
   "execution_count": 170,
   "metadata": {},
   "outputs": [
    {
     "name": "stdout",
     "output_type": "stream",
     "text": [
      "88\n",
      "[  59.   1304.75 2131.   2634.25 3542.   4658.25] [ 1.         22.11440678 36.11864407 44.64830508 60.03389831 78.95338983]\n"
     ]
    }
   ],
   "source": [
    "print(note)\n",
    "corner = xaudio.read_samples(4.0)\n",
    "xaudio.print_spectrum(corner, height = 5, distance = 2000, prominence = 5)\n",
    "xaudio.write_wave(f'tonebar-raw-{note}-corner_{clip2}.wav', corner)\n",
    "clip2 = clip2 + 1"
   ]
  },
  {
   "cell_type": "code",
   "execution_count": 171,
   "metadata": {},
   "outputs": [
    {
     "name": "stdout",
     "output_type": "stream",
     "text": [
      "89\n"
     ]
    }
   ],
   "source": [
    "note = note + 1\n",
    "print(note)"
   ]
  },
  {
   "cell_type": "code",
   "execution_count": 153,
   "metadata": {},
   "outputs": [],
   "source": [
    "clip1 = note\n",
    "clip2 = note"
   ]
  },
  {
   "cell_type": "code",
   "execution_count": null,
   "metadata": {},
   "outputs": [],
   "source": []
  }
 ],
 "metadata": {
  "kernelspec": {
   "display_name": ".venv",
   "language": "python",
   "name": "python3"
  },
  "language_info": {
   "codemirror_mode": {
    "name": "ipython",
    "version": 3
   },
   "file_extension": ".py",
   "mimetype": "text/x-python",
   "name": "python",
   "nbconvert_exporter": "python",
   "pygments_lexer": "ipython3",
   "version": "3.12.3"
  }
 },
 "nbformat": 4,
 "nbformat_minor": 2
}
