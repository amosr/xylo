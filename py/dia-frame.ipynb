{
 "cells": [
  {
   "cell_type": "code",
   "execution_count": 1,
   "metadata": {},
   "outputs": [],
   "source": [
    "import math"
   ]
  },
  {
   "cell_type": "code",
   "execution_count": 84,
   "metadata": {},
   "outputs": [],
   "source": [
    "rho = 2700 # kg/m3\n",
    "E = 70e9 # 70GPa\n",
    "nu = 0.33\n",
    "fatigue_strength = 68e6"
   ]
  },
  {
   "cell_type": "code",
   "execution_count": 125,
   "metadata": {},
   "outputs": [],
   "source": [
    "# d = 0.040\n",
    "d = 0.050\n",
    "wall = 0.0016\n",
    "d1 = d - wall * 2\n",
    "\n",
    "L = 0.6\n",
    "\n",
    "W = 200 # 20kg load"
   ]
  },
  {
   "cell_type": "code",
   "execution_count": 126,
   "metadata": {},
   "outputs": [
    {
     "name": "stdout",
     "output_type": "stream",
     "text": [
      "0.00024328493509399363 7.131654587345335e-08 2.852661834938134e-06 0.01712133172390513\n"
     ]
    }
   ],
   "source": [
    "A = math.pi * d * d / 4 - math.pi * d1 * d1 / 4\n",
    "Ixx = math.pi * d * d * d * d / 64 - math.pi * d1 * d1 * d1 * d1 / 64\n",
    "Sxx = 2 * Ixx / d\n",
    "r = math.sqrt(Ixx / A)\n",
    "print(A, Ixx, Sxx, r)"
   ]
  },
  {
   "cell_type": "code",
   "execution_count": 134,
   "metadata": {},
   "outputs": [
    {
     "name": "stdout",
     "output_type": "stream",
     "text": [
      "0.39412159485226966\n"
     ]
    }
   ],
   "source": [
    "M = A * L * rho\n",
    "print(M)"
   ]
  },
  {
   "cell_type": "code",
   "execution_count": 128,
   "metadata": {},
   "outputs": [
    {
     "name": "stdout",
     "output_type": "stream",
     "text": [
      "7.046411293915081e-06\n"
     ]
    }
   ],
   "source": [
    "delta_z = W * L / (E * A)\n",
    "print(delta_z)"
   ]
  },
  {
   "cell_type": "code",
   "execution_count": 129,
   "metadata": {},
   "outputs": [
    {
     "name": "stdout",
     "output_type": "stream",
     "text": [
      "0.003605654956973669\n"
     ]
    }
   ],
   "source": [
    "Moment = 0.5 * W # 20kg at 0.5m distance\n",
    "delta_x = Moment * L * L / (2 * E * Ixx)\n",
    "print(delta_x)"
   ]
  },
  {
   "cell_type": "code",
   "execution_count": 130,
   "metadata": {},
   "outputs": [
    {
     "name": "stdout",
     "output_type": "stream",
     "text": [
      "822081.3176234262 138159.2413181414 960240.5589415675\n",
      "0.01412118469031717\n"
     ]
    }
   ],
   "source": [
    "sigma_down = W / A\n",
    "sigma_bend = M / Sxx\n",
    "sigma = sigma_down + sigma_bend\n",
    "print(sigma_down, sigma_bend, sigma)\n",
    "print(sigma / fatigue_strength)"
   ]
  },
  {
   "cell_type": "code",
   "execution_count": 131,
   "metadata": {},
   "outputs": [
    {
     "name": "stdout",
     "output_type": "stream",
     "text": [
      "34215.71295251309 171.07856476256543\n"
     ]
    }
   ],
   "source": [
    "# downward force buckling\n",
    "Pp = 0.25 * (math.pi * math.pi * E * Ixx) / (L * L)\n",
    "print(Pp, Pp/W)"
   ]
  },
  {
   "cell_type": "code",
   "execution_count": 132,
   "metadata": {},
   "outputs": [
    {
     "name": "stdout",
     "output_type": "stream",
     "text": [
      "2698.799631380822 26.98799631380822\n"
     ]
    }
   ],
   "source": [
    "# bending buckling\n",
    "t = wall # thickness ???\n",
    "Mm = 0.72 * (E * r * t * t) / (math.sqrt(1 - nu))\n",
    "print(Mm, Mm / Moment)"
   ]
  },
  {
   "cell_type": "code",
   "execution_count": null,
   "metadata": {},
   "outputs": [],
   "source": []
  }
 ],
 "metadata": {
  "kernelspec": {
   "display_name": ".venv",
   "language": "python",
   "name": "python3"
  },
  "language_info": {
   "codemirror_mode": {
    "name": "ipython",
    "version": 3
   },
   "file_extension": ".py",
   "mimetype": "text/x-python",
   "name": "python",
   "nbconvert_exporter": "python",
   "pygments_lexer": "ipython3",
   "version": "3.12.3"
  }
 },
 "nbformat": 4,
 "nbformat_minor": 2
}
