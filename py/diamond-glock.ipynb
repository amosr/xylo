{
 "cells": [
  {
   "cell_type": "code",
   "execution_count": 1,
   "metadata": {},
   "outputs": [],
   "source": [
    "%load_ext autoreload\n",
    "%autoreload 2"
   ]
  },
  {
   "cell_type": "code",
   "execution_count": 2,
   "metadata": {},
   "outputs": [],
   "source": [
    "import jax\n",
    "import jax.numpy as jnp\n",
    "import numpy as np\n",
    "import matplotlib.pyplot as plt\n",
    "\n",
    "import evosax\n",
    "\n",
    "from typing import NamedTuple\n",
    "from functools import partial\n",
    "import math\n"
   ]
  },
  {
   "cell_type": "code",
   "execution_count": 3,
   "metadata": {},
   "outputs": [],
   "source": [
    "import json\n",
    "import drawsvg"
   ]
  },
  {
   "cell_type": "code",
   "execution_count": 10,
   "metadata": {},
   "outputs": [],
   "source": [
    "import xylo\n",
    "import xylo.types as t\n",
    "import xylo.woods\n",
    "import xylo.cut\n",
    "\n",
    "import xylo.receptance as r\n",
    "import xylo.sweep as xs\n",
    "\n",
    "import xylo.loss.receptance as xlr\n",
    "\n",
    "import xylo.database as db\n",
    "import xylo.just\n",
    "\n",
    "import xylo.find_lengths as find_lengths\n"
   ]
  },
  {
   "cell_type": "code",
   "execution_count": 44,
   "metadata": {},
   "outputs": [
    {
     "name": "stdout",
     "output_type": "stream",
     "text": [
      "*** note 0: ***\n",
      "    target freq 2156.0, length 0.1539306640625, est cut freq 2153.6236312776036\n",
      "*** note 1: ***\n",
      "    target freq 1764.0, length 0.17041015625, est cut freq 1764.7776227037773\n",
      "*** note 2: ***\n",
      "    target freq 356.3636363636364, length 0.380859375, est cut freq 356.79752428003974\n",
      "*** note 3: ***\n",
      "    target freq 285.0909090909091, length 0.42578125, est cut freq 285.6242218609458\n",
      "total length 1.1309814453125, count 4\n"
     ]
    }
   ],
   "source": [
    "layout = xylo.just.diamond_11_partch # ._replace(reference_hz = 784*2)\n",
    "freqs = layout.get_freqs()\n",
    "freqs = [freqs[0], freqs[1], freqs[-2], freqs[-1]]\n",
    "d = 0.010\n",
    "# d = 0.006\n",
    "bar_template = t.BarProps(width = 0.032, depth = d, length = 100, elements = 1, min_depth = d)\n",
    "\n",
    "# mat = xylo.woods.aluminium_6060T5\n",
    "mat = xylo.woods.steel_3679_1_300\n",
    "\n",
    "\n",
    "sum_lengths = 0\n",
    "count = 0\n",
    "lengths = {}\n",
    "\n",
    "# on test bar 200 F#5, the drilling and finishing reduced the frequency from 745 to 735. so, make the cut at 1.5% above the target frequency\n",
    "overshoot = 1 # 1.015\n",
    "\n",
    "for i, freq in enumerate(freqs):\n",
    "  name = i\n",
    "  l, freq_est = find_lengths.sweep_find_length(mat, freq * overshoot, bar_template)\n",
    "  print(f\"*** note {name}: ***\")\n",
    "  print(f\"    target freq {freq}, length {l}, est cut freq {freq_est}\")\n",
    "  sum_lengths += l\n",
    "  count += 1\n",
    "  lengths[i] = l\n",
    "\n",
    "print(f\"total length {sum_lengths}, count {count}\")\n"
   ]
  },
  {
   "cell_type": "code",
   "execution_count": 20,
   "metadata": {},
   "outputs": [
    {
     "name": "stdout",
     "output_type": "stream",
     "text": [
      "{0: 0.11875000000000004, 1: 0.13144531250000002, 2: 0.13300781250000004, 3: 0.14902343750000002, 4: 0.14707031250000002, 5: 0.14570312500000004, 6: 0.1611328125, 7: 0.166796875, 8: 0.1611328125, 9: 0.157421875, 10: 0.17656250000000004, 11: 0.18027343750000002, 12: 0.18281250000000002, 13: 0.1740234375, 14: 0.1787109375, 15: 0.19765625, 16: 0.19765625, 17: 0.19765625, 18: 0.19765625, 19: 0.19765625, 20: 0.19765625, 21: 0.22109375000000006, 22: 0.21640625000000005, 23: 0.21328125000000006, 24: 0.22421875000000005, 25: 0.21835937500000008, 26: 0.24218750000000008, 27: 0.23398437500000008, 28: 0.24218750000000008, 29: 0.24765625000000005, 30: 0.2617187500000001, 31: 0.265234375, 32: 0.2679687500000001, 33: 0.29687500000000006, 34: 0.2929687500000001, 35: 0.32812500000000006}\n"
     ]
    }
   ],
   "source": [
    "print(lengths)"
   ]
  },
  {
   "cell_type": "code",
   "execution_count": 45,
   "metadata": {},
   "outputs": [
    {
     "data": {
      "image/svg+xml": [
       "<?xml version=\"1.0\" encoding=\"UTF-8\"?>\n",
       "<svg xmlns=\"http://www.w3.org/2000/svg\" xmlns:xlink=\"http://www.w3.org/1999/xlink\"\n",
       "     width=\"297mm\" height=\"210mm\" viewBox=\"0 0 297mm 210mm\">\n",
       "<defs>\n",
       "</defs>\n",
       "<rect x=\"0\" y=\"0\" width=\"297mm\" height=\"210mm\" stroke=\"green\" stroke-width=\"2\" fill=\"none\" />\n",
       "<text x=\"20mm\" y=\"8mm\" font-size=\"5mm\">glock-lengths</text>\n",
       "<g>\n",
       "<text x=\"209.28437500000007mm\" y=\"13mm\" font-size=\"2mm\">57</text>\n",
       "<circle cx=\"210.28437500000007mm\" cy=\"11mm\" r=\"0.5mm\" />\n",
       "<rect x=\"1.3mm\" y=\"10mm\" width=\"210.28437500000007mm\" height=\"0.5mm\" stroke=\"red\" stroke-width=\"1\" />\n",
       "<text x=\"203.22968750000007mm\" y=\"13mm\" font-size=\"2mm\">58</text>\n",
       "<circle cx=\"204.22968750000007mm\" cy=\"11mm\" r=\"0.5mm\" />\n",
       "<rect x=\"1.3mm\" y=\"10mm\" width=\"204.22968750000007mm\" height=\"0.5mm\" stroke=\"red\" stroke-width=\"1\" />\n",
       "<text x=\"197.3703125mm\" y=\"13mm\" font-size=\"2mm\">59</text>\n",
       "<circle cx=\"198.3703125mm\" cy=\"11mm\" r=\"0.5mm\" />\n",
       "<rect x=\"1.3mm\" y=\"10mm\" width=\"198.3703125mm\" height=\"0.5mm\" stroke=\"red\" stroke-width=\"1\" />\n",
       "<text x=\"191.70625000000004mm\" y=\"13mm\" font-size=\"2mm\">60</text>\n",
       "<circle cx=\"192.70625000000004mm\" cy=\"11mm\" r=\"0.5mm\" />\n",
       "<rect x=\"1.3mm\" y=\"10mm\" width=\"192.70625000000004mm\" height=\"0.5mm\" stroke=\"red\" stroke-width=\"1\" />\n",
       "<text x=\"186.2375mm\" y=\"13mm\" font-size=\"2mm\">61</text>\n",
       "<circle cx=\"187.2375mm\" cy=\"11mm\" r=\"0.5mm\" />\n",
       "<rect x=\"1.3mm\" y=\"10mm\" width=\"187.2375mm\" height=\"0.5mm\" stroke=\"red\" stroke-width=\"1\" />\n",
       "<text x=\"180.96406250000007mm\" y=\"13mm\" font-size=\"2mm\">62</text>\n",
       "<circle cx=\"181.96406250000007mm\" cy=\"11mm\" r=\"0.5mm\" />\n",
       "<rect x=\"1.3mm\" y=\"10mm\" width=\"181.96406250000007mm\" height=\"0.5mm\" stroke=\"red\" stroke-width=\"1\" />\n",
       "<text x=\"175.8859375mm\" y=\"13mm\" font-size=\"2mm\">63</text>\n",
       "<circle cx=\"176.8859375mm\" cy=\"11mm\" r=\"0.5mm\" />\n",
       "<rect x=\"1.3mm\" y=\"10mm\" width=\"176.8859375mm\" height=\"0.5mm\" stroke=\"red\" stroke-width=\"1\" />\n",
       "<text x=\"170.80781250000004mm\" y=\"13mm\" font-size=\"2mm\">64</text>\n",
       "<circle cx=\"171.80781250000004mm\" cy=\"11mm\" r=\"0.5mm\" />\n",
       "<rect x=\"1.3mm\" y=\"10mm\" width=\"171.80781250000004mm\" height=\"0.5mm\" stroke=\"red\" stroke-width=\"1\" />\n",
       "<text x=\"165.92500000000004mm\" y=\"13mm\" font-size=\"2mm\">65</text>\n",
       "<circle cx=\"166.92500000000004mm\" cy=\"11mm\" r=\"0.5mm\" />\n",
       "<rect x=\"1.3mm\" y=\"10mm\" width=\"166.92500000000004mm\" height=\"0.5mm\" stroke=\"red\" stroke-width=\"1\" />\n",
       "<text x=\"161.23749999999998mm\" y=\"13mm\" font-size=\"2mm\">66</text>\n",
       "<circle cx=\"162.23749999999998mm\" cy=\"11mm\" r=\"0.5mm\" />\n",
       "<rect x=\"1.3mm\" y=\"10mm\" width=\"162.23749999999998mm\" height=\"0.5mm\" stroke=\"red\" stroke-width=\"1\" />\n",
       "<text x=\"156.55mm\" y=\"13mm\" font-size=\"2mm\">67</text>\n",
       "<circle cx=\"157.55mm\" cy=\"11mm\" r=\"0.5mm\" />\n",
       "<rect x=\"1.3mm\" y=\"10mm\" width=\"157.55mm\" height=\"0.5mm\" stroke=\"red\" stroke-width=\"1\" />\n",
       "<text x=\"152.05781250000004mm\" y=\"13mm\" font-size=\"2mm\">68</text>\n",
       "<circle cx=\"153.05781250000004mm\" cy=\"11mm\" r=\"0.5mm\" />\n",
       "<rect x=\"1.3mm\" y=\"10mm\" width=\"153.05781250000004mm\" height=\"0.5mm\" stroke=\"red\" stroke-width=\"1\" />\n",
       "<text x=\"147.7609375mm\" y=\"13mm\" font-size=\"2mm\">69</text>\n",
       "<circle cx=\"148.7609375mm\" cy=\"11mm\" r=\"0.5mm\" />\n",
       "<rect x=\"1.3mm\" y=\"10mm\" width=\"148.7609375mm\" height=\"0.5mm\" stroke=\"red\" stroke-width=\"1\" />\n",
       "<text x=\"143.4640625000001mm\" y=\"13mm\" font-size=\"2mm\">70</text>\n",
       "<circle cx=\"144.4640625000001mm\" cy=\"11mm\" r=\"0.5mm\" />\n",
       "<rect x=\"1.3mm\" y=\"10mm\" width=\"144.4640625000001mm\" height=\"0.5mm\" stroke=\"red\" stroke-width=\"1\" />\n",
       "<text x=\"139.5578125000001mm\" y=\"13mm\" font-size=\"2mm\">71</text>\n",
       "<circle cx=\"140.5578125000001mm\" cy=\"11mm\" r=\"0.5mm\" />\n",
       "<rect x=\"1.3mm\" y=\"10mm\" width=\"140.5578125000001mm\" height=\"0.5mm\" stroke=\"red\" stroke-width=\"1\" />\n",
       "<text x=\"135.45625mm\" y=\"13mm\" font-size=\"2mm\">72</text>\n",
       "<circle cx=\"136.45625mm\" cy=\"11mm\" r=\"0.5mm\" />\n",
       "<rect x=\"1.3mm\" y=\"10mm\" width=\"136.45625mm\" height=\"0.5mm\" stroke=\"red\" stroke-width=\"1\" />\n",
       "<text x=\"131.55000000000004mm\" y=\"13mm\" font-size=\"2mm\">73</text>\n",
       "<circle cx=\"132.55000000000004mm\" cy=\"11mm\" r=\"0.5mm\" />\n",
       "<rect x=\"1.3mm\" y=\"10mm\" width=\"132.55000000000004mm\" height=\"0.5mm\" stroke=\"red\" stroke-width=\"1\" />\n",
       "<text x=\"127.83906250000007mm\" y=\"13mm\" font-size=\"2mm\">74</text>\n",
       "<circle cx=\"128.83906250000007mm\" cy=\"11mm\" r=\"0.5mm\" />\n",
       "<rect x=\"1.3mm\" y=\"10mm\" width=\"128.83906250000007mm\" height=\"0.5mm\" stroke=\"red\" stroke-width=\"1\" />\n",
       "<text x=\"124.12812500000003mm\" y=\"13mm\" font-size=\"2mm\">75</text>\n",
       "<circle cx=\"125.12812500000003mm\" cy=\"11mm\" r=\"0.5mm\" />\n",
       "<rect x=\"1.3mm\" y=\"10mm\" width=\"125.12812500000003mm\" height=\"0.5mm\" stroke=\"red\" stroke-width=\"1\" />\n",
       "<text x=\"120.41718750000005mm\" y=\"13mm\" font-size=\"2mm\">76</text>\n",
       "<circle cx=\"121.41718750000005mm\" cy=\"11mm\" r=\"0.5mm\" />\n",
       "<rect x=\"1.3mm\" y=\"10mm\" width=\"121.41718750000005mm\" height=\"0.5mm\" stroke=\"red\" stroke-width=\"1\" />\n",
       "<text x=\"117.29218750000004mm\" y=\"13mm\" font-size=\"2mm\">77</text>\n",
       "<circle cx=\"118.29218750000004mm\" cy=\"11mm\" r=\"0.5mm\" />\n",
       "<rect x=\"1.3mm\" y=\"10mm\" width=\"118.29218750000004mm\" height=\"0.5mm\" stroke=\"red\" stroke-width=\"1\" />\n",
       "<text x=\"113.77656250000004mm\" y=\"13mm\" font-size=\"2mm\">78</text>\n",
       "<circle cx=\"114.77656250000004mm\" cy=\"11mm\" r=\"0.5mm\" />\n",
       "<rect x=\"1.3mm\" y=\"10mm\" width=\"114.77656250000004mm\" height=\"0.5mm\" stroke=\"red\" stroke-width=\"1\" />\n",
       "<text x=\"110.65156250000003mm\" y=\"13mm\" font-size=\"2mm\">79</text>\n",
       "<circle cx=\"111.65156250000003mm\" cy=\"11mm\" r=\"0.5mm\" />\n",
       "<rect x=\"1.3mm\" y=\"10mm\" width=\"111.65156250000003mm\" height=\"0.5mm\" stroke=\"red\" stroke-width=\"1\" />\n",
       "<text x=\"107.33125000000004mm\" y=\"13mm\" font-size=\"2mm\">80</text>\n",
       "<circle cx=\"108.33125000000004mm\" cy=\"11mm\" r=\"0.5mm\" />\n",
       "<rect x=\"1.3mm\" y=\"10mm\" width=\"108.33125000000004mm\" height=\"0.5mm\" stroke=\"red\" stroke-width=\"1\" />\n",
       "<text x=\"104.40156250000003mm\" y=\"13mm\" font-size=\"2mm\">81</text>\n",
       "<circle cx=\"105.40156250000003mm\" cy=\"11mm\" r=\"0.5mm\" />\n",
       "<rect x=\"1.3mm\" y=\"10mm\" width=\"105.40156250000003mm\" height=\"0.5mm\" stroke=\"red\" stroke-width=\"1\" />\n",
       "<text x=\"101.27656250000003mm\" y=\"13mm\" font-size=\"2mm\">82</text>\n",
       "<circle cx=\"102.27656250000003mm\" cy=\"11mm\" r=\"0.5mm\" />\n",
       "<rect x=\"1.3mm\" y=\"10mm\" width=\"102.27656250000003mm\" height=\"0.5mm\" stroke=\"red\" stroke-width=\"1\" />\n",
       "<text x=\"98.34687500000001mm\" y=\"13mm\" font-size=\"2mm\">83</text>\n",
       "<circle cx=\"99.34687500000001mm\" cy=\"11mm\" r=\"0.5mm\" />\n",
       "<rect x=\"1.3mm\" y=\"10mm\" width=\"99.34687500000001mm\" height=\"0.5mm\" stroke=\"red\" stroke-width=\"1\" />\n",
       "<text x=\"95.41718750000003mm\" y=\"13mm\" font-size=\"2mm\">84</text>\n",
       "<circle cx=\"96.41718750000003mm\" cy=\"11mm\" r=\"0.5mm\" />\n",
       "<rect x=\"1.3mm\" y=\"10mm\" width=\"96.41718750000003mm\" height=\"0.5mm\" stroke=\"red\" stroke-width=\"1\" />\n",
       "<text x=\"92.6828125mm\" y=\"13mm\" font-size=\"2mm\">85</text>\n",
       "<circle cx=\"93.6828125mm\" cy=\"11mm\" r=\"0.5mm\" />\n",
       "<rect x=\"1.3mm\" y=\"10mm\" width=\"93.6828125mm\" height=\"0.5mm\" stroke=\"red\" stroke-width=\"1\" />\n",
       "<text x=\"89.94843750000001mm\" y=\"13mm\" font-size=\"2mm\">86</text>\n",
       "<circle cx=\"90.94843750000001mm\" cy=\"11mm\" r=\"0.5mm\" />\n",
       "<rect x=\"1.3mm\" y=\"10mm\" width=\"90.94843750000001mm\" height=\"0.5mm\" stroke=\"red\" stroke-width=\"1\" />\n",
       "<text x=\"87.6046875mm\" y=\"13mm\" font-size=\"2mm\">87</text>\n",
       "<circle cx=\"88.6046875mm\" cy=\"11mm\" r=\"0.5mm\" />\n",
       "<rect x=\"1.3mm\" y=\"10mm\" width=\"88.6046875mm\" height=\"0.5mm\" stroke=\"red\" stroke-width=\"1\" />\n",
       "<text x=\"84.8703125mm\" y=\"13mm\" font-size=\"2mm\">88</text>\n",
       "<circle cx=\"85.8703125mm\" cy=\"11mm\" r=\"0.5mm\" />\n",
       "<rect x=\"1.3mm\" y=\"10mm\" width=\"85.8703125mm\" height=\"0.5mm\" stroke=\"red\" stroke-width=\"1\" />\n",
       "<circle cx=\"1.3mm\" cy=\"11mm\" r=\"1mm\" />\n",
       "</g>\n",
       "</svg>"
      ],
      "text/plain": [
       "<drawsvg.drawing.Drawing at 0x3d7b91e80>"
      ]
     },
     "execution_count": 45,
     "metadata": {},
     "output_type": "execute_result"
    }
   ],
   "source": [
    "def mklens(lens, filename, offsetx = 1.3):\n",
    "  d = drawsvg.Drawing('297mm', '210mm')\n",
    "  d.append(drawsvg.Rectangle(0, 0, '297mm', '210mm', stroke='green', stroke_width=2, fill='none'))\n",
    "  d.append(drawsvg.Text(filename, '5mm', '20mm', '8mm'))\n",
    "  grp = drawsvg.Group()\n",
    "  y = 10\n",
    "  for k,v in lens.items():\n",
    "    mm = v * 1000 + offsetx\n",
    "    # print(k,v)\n",
    "    grp.append(drawsvg.Text(f'{k}', '2mm', f'{mm-1}mm', f'{y + 3}mm'))\n",
    "    grp.append(drawsvg.Circle(f'{mm}mm', f'{y + 1}mm', '0.5mm'))\n",
    "    grp.append(drawsvg.Rectangle(f'{offsetx}mm', f'{y}mm', f'{mm}mm', f'0.5mm', stroke='red', stroke_width=1))\n",
    "  grp.append(drawsvg.Circle(f'{offsetx}mm', f'{y+1}mm', '1mm'))\n",
    "\n",
    "  d.append(grp)\n",
    "\n",
    "  d.save_html(f'data/layout/{filename}.html')\n",
    "  return d\n",
    "\n",
    "mklens(lengths, 'glock-lengths')\n"
   ]
  },
  {
   "cell_type": "code",
   "execution_count": null,
   "metadata": {},
   "outputs": [],
   "source": []
  }
 ],
 "metadata": {
  "kernelspec": {
   "display_name": ".venv",
   "language": "python",
   "name": "python3"
  },
  "language_info": {
   "codemirror_mode": {
    "name": "ipython",
    "version": 3
   },
   "file_extension": ".py",
   "mimetype": "text/x-python",
   "name": "python",
   "nbconvert_exporter": "python",
   "pygments_lexer": "ipython3",
   "version": "3.12.3"
  }
 },
 "nbformat": 4,
 "nbformat_minor": 2
}
